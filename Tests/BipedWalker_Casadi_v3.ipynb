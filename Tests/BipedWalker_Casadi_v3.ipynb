{
 "cells": [
  {
   "cell_type": "markdown",
   "metadata": {},
   "source": [
    "# Modeling And Simulating of Dynamical Systems: Biped Walker"
   ]
  },
  {
   "cell_type": "markdown",
   "metadata": {},
   "source": [
    "## Rewrite everything in casadi library: Do not use nor sympy nor numpy\n",
    "### Import libraries"
   ]
  },
  {
   "cell_type": "code",
   "execution_count": 2,
   "metadata": {},
   "outputs": [],
   "source": [
    "import sympy as sp\n",
    "import numpy as np\n",
    "from sympy.physics.mechanics import *\n",
    "from numpy import sin, cos, pi\n",
    "from numpy.linalg import inv\n",
    "from scipy.integrate import odeint, solve_bvp, solve_ivp\n",
    "from scipy.interpolate import interp1d\n",
    "from scipy.optimize import minimize, LinearConstraint, NonlinearConstraint, Bounds\n",
    "import matplotlib\n",
    "from matplotlib import pyplot as plt\n",
    "import matplotlib.animation as animation\n",
    "from sympy import atan, symbols, Matrix, Eq, solve\n",
    "from sympy.physics.mechanics import (dynamicsymbols, ReferenceFrame,\n",
    "                                     Particle, Point)\n",
    "import sympy.physics.mechanics.system as system\n",
    "from sympy.physics.vector import init_vprinting\n",
    "import math\n",
    "import casadi as ca\n",
    "from casadi import *\n",
    "from casadi.tools import *\n",
    "\n",
    "# Bestekoak be asko redundante ba badaeszpada\n",
    "# imports needed for the code (run this block)\n",
    "import numpy as np\n",
    "import matplotlib\n",
    "from numpy import sin, cos, pi\n",
    "from numpy.linalg import inv\n",
    "from scipy.integrate import odeint, solve_bvp\n",
    "from scipy.interpolate import interp1d\n",
    "from scipy.linalg import inv, solve_continuous_are, norm\n",
    "from matplotlib import pyplot as plt\n",
    "import matplotlib.pyplot as pltpiip\n",
    "from matplotlib import animation\n",
    "from matplotlib.patches import Rectangle\n",
    "import sympy as sp\n",
    "from sympy.physics.mechanics import *\n",
    "from numpy.linalg import inv\n",
    "from scipy.integrate import odeint, solve_bvp\n",
    "from scipy.interpolate import interp1d \n",
    "from scipy.optimize import minimize, LinearConstraint, NonlinearConstraint, Bounds\n",
    "import matplotlib\n",
    "from sympy import atan, symbols, Matrix\n",
    "from sympy.physics.mechanics import (dynamicsymbols, ReferenceFrame,\n",
    "                                     Particle, Point)\n",
    "import sympy.physics.mechanics.system as system\n",
    "from sympy.physics.vector import init_vprinting\n",
    "# matplotlib qt\n",
    "# from animate_pendulum import animate_pendulum\n",
    "# from animate_walker import animate_walker\n",
    "def to_2d(x): return x.reshape(-1, 1)\n",
    "def to_1d(x): return x[:, 0]"
   ]
  },
  {
   "cell_type": "markdown",
   "metadata": {},
   "source": [
    "### Given data"
   ]
  },
  {
   "cell_type": "code",
   "execution_count": 15,
   "metadata": {},
   "outputs": [],
   "source": [
    "## gravity and time\n",
    "t = sp.symbols('t')\n",
    "g = sp.symbols('g')\n",
    "m_t = ca.MX.sym('m_t')\n",
    "m_f = ca.MX.sym('m_f')\n",
    "l_t = ca.MX.sym('l_t')\n",
    "l_f = ca.MX.sym('l_f')\n",
    "\n",
    "# Declare masses in kg\n",
    "m1 = m_f\n",
    "m2 = m_f\n",
    "m3 = m_t\n",
    "m4 = m_t\n",
    "m5 = 20\n",
    "\n",
    "mass = [m1, m2, m3, m4, m5]\n",
    "\n",
    "## Declare lengths in m\n",
    "l1 = l_f\n",
    "l2 = l_f\n",
    "l3 = l_t\n",
    "l4 = l_t\n",
    "l5 = 0.625\n",
    "\n",
    "length = [l1, l2, l3, l4, l5]\n",
    "\n",
    "## Declare distance to gravity center in m\n",
    "l_r1 = (0.163/0.4)*l1\n",
    "l_r2 = (0.163/0.4)*l2\n",
    "l_r3 = (0.128/0.4)*l3\n",
    "l_r4 = (0.128/0.4)*l4\n",
    "l_r5 = 0.2\n",
    "\n",
    "l_r = [l_r1, l_r2, l_r3, l_r4, l_r5]\n",
    "\n",
    "## Declare inertias in kg*m^2\n",
    "I1 = (1/12)*(m1)*(l1**2)\n",
    "I2 = (1/12)*(m2)*(l2**2)\n",
    "I3 = (1/12)*(m3)*(l3**2)\n",
    "I4 = (1/12)*(m2)*(l4**2)\n",
    "I5 = 2.22\n",
    "\n",
    "inertia = [I1, I2, I3, I4, I5]"
   ]
  },
  {
   "cell_type": "markdown",
   "metadata": {},
   "source": [
    "### Angle + Input definition\n",
    "- Calculus of the angles: q are the relative angles and theta, the absolute ones.\n",
    "- Input: each part of the body is applied an independent torque, simulating a motor.\n"
   ]
  },
  {
   "cell_type": "code",
   "execution_count": 11,
   "metadata": {},
   "outputs": [
    {
     "name": "stdout",
     "output_type": "stream",
     "text": [
      "@1=3.14159, [[(@1-(q_4+q_0)), (-(q_4+q_1)), ((q_2-(q_4+q_0))+@1), (q_3-(q_4+q_1)), (-q_4)]]\n"
     ]
    }
   ],
   "source": [
    "# Generate q and input matrix (u) in function of time\n",
    "# Declare symbolic variables q1, q2, q3, q4, q5\n",
    "q = ca.SX.sym('q', 5, 1)\n",
    "u = ca.SX.sym('u', 5, 1)\n",
    "\n",
    "# Calculate the angle of each part of the body in the absolute frame\n",
    "def abs_ang_rad(q):\n",
    "    return ca.horzcat(\n",
    "        -q[4] - q[0] + pi,\n",
    "        -q[4] - q[1] ,\n",
    "        -q[4] - q[0] + q[2] + pi,\n",
    "        -q[4] - q[1] + q[3] ,\n",
    "        -q[4],\n",
    "    )\n",
    "\n",
    "abs_ang = abs_ang_rad(q)\n",
    "print(abs_ang)"
   ]
  },
  {
   "cell_type": "markdown",
   "metadata": {},
   "source": [
    "## Kinematics\n",
    "### Position calculation\n",
    "First the relative position of each part of the body is calculated and afterwards the absolute position is calculated by defining a chain of the body parts. All calculations are done in symbolic expressions."
   ]
  },
  {
   "cell_type": "code",
   "execution_count": 12,
   "metadata": {},
   "outputs": [
    {
     "name": "stdout",
     "output_type": "stream",
     "text": [
      "Absolute position of gravity centres:\n",
      "[SX(@1=0.237, @2=3.14159, @3=(@2-(q_4+q_0)), @4=0.4, @5=((q_2-(q_4+q_0))+@2), @6=(@4*sin(@5)), @7=(-(q_4+q_1)), @8=((@4*sin(@3))+@6), @9=0.272, [[((@1*sin(@3))+@6), ((@1*sin(@7))+@8), (@9*sin(@5)), ((@9*sin((q_3-(q_4+q_1))))+((@4*sin(@7))+@8)), ((0.425*sin((-q_4)))+@8)]]), SX(@1=0.237, @2=3.14159, @3=(@2-(q_4+q_0)), @4=0.4, @5=((q_2-(q_4+q_0))+@2), @6=(@4*cos(@5)), @7=(-(q_4+q_1)), @8=((@4*cos(@3))+@6), @9=0.272, [[((@1*cos(@3))+@6), ((@1*cos(@7))+@8), (@9*cos(@5)), ((@9*cos((q_3-(q_4+q_1))))+((@4*cos(@7))+@8)), ((0.425*cos((-q_4)))+@8)]])] \n",
      "\n",
      "Absolute position of joints:\n",
      "[SX(@1=0.4, @2=3.14159, @3=(@1*sin(((q_2-(q_4+q_0))+@2))), @4=((@1*sin((@2-(q_4+q_0))))+@3), @5=((@1*sin((-(q_4+q_1))))+@4), [[@4, @5, @3, ((@1*sin((q_3-(q_4+q_1))))+@5), ((0.625*sin((-q_4)))+@4)]]), SX(@1=0.4, @2=3.14159, @3=(@1*cos(((q_2-(q_4+q_0))+@2))), @4=((@1*cos((@2-(q_4+q_0))))+@3), @5=((@1*cos((-(q_4+q_1))))+@4), [[@4, @5, @3, ((@1*cos((q_3-(q_4+q_1))))+@5), ((0.625*cos((-q_4)))+@4)]])] \n",
      "\n",
      "\n"
     ]
    }
   ],
   "source": [
    "def rel_pos(angles):\n",
    "\n",
    "    ## Declare lengths in m\n",
    "    l1 = 0.4\n",
    "    l2 = 0.4\n",
    "    l3 = 0.4\n",
    "    l4 = 0.4\n",
    "    l5 = 0.625\n",
    "\n",
    "    length = [l1, l2, l3, l4, l5]\n",
    "\n",
    "    ## Declare distance to gravity center in m\n",
    "    l_r1 = 0.163\n",
    "    l_r2 = 0.163\n",
    "    l_r3 = 0.128\n",
    "    l_r4 = 0.128\n",
    "    l_r5 = 0.2\n",
    "\n",
    "    l_r = [l_r1, l_r2, l_r3, l_r4, l_r5]\n",
    "\n",
    "    # Calculate the absolute angles of each part of the body and print to verify\n",
    "    theta = abs_ang_rad(angles)\n",
    "\n",
    "    r_x = 0\n",
    "    r_y = 0\n",
    "    joint_x = 0\n",
    "    joint_y = 0\n",
    "\n",
    "    # Loop to calculate each relative position\n",
    "    for i in range(5):\n",
    "        # Relative position of gravity centres\n",
    "        r_x_new = (length[i] - l_r[i]) * ca.sin(theta[i])\n",
    "        r_y_new = (length[i] - l_r[i]) * ca.cos(theta[i])\n",
    "\n",
    "        #Relative position of joints\n",
    "        joint_x_new = length[i] * ca.sin(theta[i])\n",
    "        joint_y_new = length[i] * ca.cos(theta[i])\n",
    "        \n",
    "        r_x = ca.horzcat(r_x, r_x_new)\n",
    "        r_y = ca.horzcat(r_y, r_y_new)\n",
    "        joint_x = ca.horzcat(joint_x, joint_x_new)\n",
    "        joint_y = ca.horzcat(joint_y, joint_y_new)\n",
    "    \n",
    "    r = [r_x[1:], r_y[1:]]\n",
    "    joint = [joint_x[1:], joint_y[1:]]\n",
    "\n",
    "    # Return matrices for positions of gravity centres and joints\n",
    "    return r, joint\n",
    "\n",
    "\n",
    "#Calculate absolute positions of each element of the body\n",
    "def abs_pos(angles):\n",
    "    r, joint = rel_pos(angles)\n",
    "\n",
    "    r_x = r[0]\n",
    "    r_y = r[1]\n",
    "    joint_x = joint[0]\n",
    "    joint_y = joint[1]\n",
    "\n",
    "    # Absolute position of Knee 1\n",
    "    r_x_2 = r_x[2]\n",
    "    r_y_2 = r_y[2]\n",
    "    joint_x_2 = joint_x[2]\n",
    "    joint_y_2 = joint_y[2]\n",
    "\n",
    "\n",
    "    # Absolute position of Hip\n",
    "    r_x_0 = r_x[0] + joint_x[2]\n",
    "    r_y_0 = r_y[0] + joint_y[2]\n",
    "    joint_x_0 = joint_x[0] + joint_x[2]\n",
    "    joint_y_0 = joint_y[0] + joint_y[2]\n",
    "\n",
    "    # Absolute position of Head\n",
    "    r_x_4 = r_x[4] + joint_x_0\n",
    "    r_y_4 = r_y[4] + joint_y_0\n",
    "    joint_x_4 = joint_x[4] + joint_x_0\n",
    "    joint_y_4 = joint_y[4] + joint_y_0\n",
    "\n",
    "    # Absolute position of Knee 2\n",
    "    r_x_1 = r_x[1] + joint_x_0\n",
    "    r_y_1 = r_y[1] + joint_y_0\n",
    "    joint_x_1 = joint_x[1] + joint_x_0\n",
    "    joint_y_1 = joint_y[1] + joint_y_0\n",
    "\n",
    "    # Absolute position of Foot 2\n",
    "    r_x_3 = r_x[3] + joint_x_1\n",
    "    r_y_3 = r_y[3] + joint_y_1\n",
    "    joint_x_3 = joint_x[3] + joint_x_1\n",
    "    joint_y_3 = joint_y[3] + joint_y_1\n",
    "\n",
    "    r_x = ca.horzcat(r_x_0, r_x_1, r_x_2, r_x_3, r_x_4)\n",
    "    r_y = ca.horzcat(r_y_0, r_y_1, r_y_2, r_y_3, r_y_4)\n",
    "    r = [r_x, r_y]\n",
    "\n",
    "    joint_x = ca.horzcat(joint_x_0, joint_x_1, joint_x_2, joint_x_3, joint_x_4)\n",
    "    joint_y = ca.horzcat(joint_y_0, joint_y_1, joint_y_2, joint_y_3, joint_y_4)\n",
    "    joint = [joint_x, joint_y]\n",
    "\n",
    "\n",
    "    return r, joint\n",
    "\n",
    "r, joint = abs_pos(q)\n",
    "\n",
    "print(\"Absolute position of gravity centres:\\n\" \n",
    "       f\"{r} \\n\\n\" \n",
    "       \"Absolute position of joints:\\n\"\n",
    "       f\"{joint} \\n\\n\")"
   ]
  },
  {
   "cell_type": "markdown",
   "metadata": {},
   "source": [
    "### Function to calculate numerically the position of the body"
   ]
  },
  {
   "cell_type": "code",
   "execution_count": 13,
   "metadata": {},
   "outputs": [],
   "source": [
    "# Calculus of simulated instance position\n",
    "def sim_pos(q_simulated):\n",
    "\n",
    "    # Simulate numerically the position of each joint\n",
    "    r_sim, joint_sim = abs_pos(q_simulated)\n",
    "\n",
    "    # Order joints to follow body structure\n",
    "    joint_x_sym = joint_sim[0]\n",
    "    joint_y_sym = joint_sim[1]\n",
    "    pos_x = [0, joint_x_sym[2], joint_x_sym[0], joint_x_sym[4], joint_x_sym[0], joint_x_sym[1], joint_x_sym[3]]\n",
    "    pos_y = [0, joint_y_sym[2], joint_y_sym[0], joint_y_sym[4], joint_y_sym[0], joint_y_sym[1], joint_y_sym[3]]\n",
    "\n",
    "    return pos_x, pos_y"
   ]
  },
  {
   "cell_type": "markdown",
   "metadata": {},
   "source": [
    "### Plotting function of the body"
   ]
  },
  {
   "cell_type": "code",
   "execution_count": 139,
   "metadata": {},
   "outputs": [],
   "source": [
    "# PLOT\n",
    "def plot(pos_y, pos_x):\n",
    "    plt.plot(pos_x, pos_y, marker='o', linestyle='--', color='b')  \n",
    "    plt.title('Joint Plot')\n",
    "    plt.ylabel('Y-axis')\n",
    "    plt.xlabel('X-axis')\n",
    "    plt.axis('equal')\n",
    "    plt.grid(True)\n",
    "    plt.show()"
   ]
  },
  {
   "cell_type": "markdown",
   "metadata": {},
   "source": [
    "### Check of kinematics"
   ]
  },
  {
   "cell_type": "code",
   "execution_count": 14,
   "metadata": {},
   "outputs": [
    {
     "name": "stdout",
     "output_type": "stream",
     "text": [
      "X: [0, DM(0.2), DM(0.4), DM(0.4), DM(0.4), DM(0.74641), DM(1.09282)]\n",
      "Y: [0, DM(0.34641), DM(0.69282), DM(1.31782), DM(0.69282), DM(0.49282), DM(0.29282)]\n"
     ]
    }
   ],
   "source": [
    "q_0 = np.array([np.pi*5/6, -np.pi*4/6, 0, 0, 0])\n",
    "pos_x_1, pos_y_1 = sim_pos(q_0)\n",
    "print('X: ' + f'{pos_x_1}')\n",
    "print('Y: ' + f'{pos_y_1}')"
   ]
  },
  {
   "cell_type": "markdown",
   "metadata": {},
   "source": [
    "### Velocity calculation"
   ]
  },
  {
   "cell_type": "code",
   "execution_count": 146,
   "metadata": {},
   "outputs": [],
   "source": [
    "# Angular speed calculation\n",
    "def ang_speed(q):\n",
    "    dq = ca.SX.sym('dq', 5, 1)\n",
    "    dtheta = abs_ang_rad(dq)\n",
    "    return dtheta\n",
    "\n",
    "dtheta_t = ang_speed(q)"
   ]
  },
  {
   "cell_type": "code",
   "execution_count": null,
   "metadata": {},
   "outputs": [],
   "source": [
    "# Gravity centre velocity calculation\n",
    "def dr(r):\n",
    "    dr = sp.zeros(2,5)\n",
    "    for i in range(5):\n",
    "        dr[0, i] = sp.diff(r[0, i])\n",
    "        dr[1, i] = sp.diff(r[1, i])\n",
    "    return dr\n",
    "\n",
    "dr_t = dr(r)"
   ]
  },
  {
   "cell_type": "markdown",
   "metadata": {},
   "source": [
    "### Acceleration calculation"
   ]
  },
  {
   "cell_type": "code",
   "execution_count": 9,
   "metadata": {},
   "outputs": [],
   "source": [
    "# Angular acceleration calculation\n",
    "def ang_acc(q):\n",
    "    theta = abs_ang_rad(q)          # Calculate absolute angles\n",
    "    ddtheta = sp.zeros(5,1)         # Initialize matrix\n",
    "    \n",
    "    for i in range(5):\n",
    "        ddtheta[i] = sp.diff(theta[i], t, 2)        # Second derivative of the absolute angles\n",
    "    return ddtheta\n",
    "\n",
    "ddtheta_t = ang_acc(q)"
   ]
  },
  {
   "cell_type": "markdown",
   "metadata": {},
   "source": [
    "## Dynamics\n",
    "### Mass matrix"
   ]
  },
  {
   "cell_type": "code",
   "execution_count": 5,
   "metadata": {},
   "outputs": [
    {
     "ename": "NameError",
     "evalue": "name 'q' is not defined",
     "output_type": "error",
     "traceback": [
      "\u001b[1;31m---------------------------------------------------------------------------\u001b[0m",
      "\u001b[1;31mNameError\u001b[0m                                 Traceback (most recent call last)",
      "Cell \u001b[1;32mIn[5], line 36\u001b[0m\n\u001b[0;32m     32\u001b[0m     M55 \u001b[38;5;241m=\u001b[39m \u001b[38;5;241m-\u001b[39m\u001b[38;5;241m0\u001b[39m\u001b[38;5;241m*\u001b[39m(l_f\u001b[38;5;241m*\u001b[39m\u001b[38;5;241m*\u001b[39m\u001b[38;5;241m2\u001b[39m)\u001b[38;5;241m*\u001b[39mm_f\u001b[38;5;241m*\u001b[39mca\u001b[38;5;241m.\u001b[39msin(q[\u001b[38;5;241m0\u001b[39m]\u001b[38;5;241m-\u001b[39mq[\u001b[38;5;241m1\u001b[39m]) \u001b[38;5;241m-\u001b[39m \u001b[38;5;241m1.868\u001b[39m\u001b[38;5;241m*\u001b[39m(l_f\u001b[38;5;241m*\u001b[39m\u001b[38;5;241m*\u001b[39m\u001b[38;5;241m2\u001b[39m)\u001b[38;5;241m*\u001b[39mm_f \u001b[38;5;241m+\u001b[39m \u001b[38;5;241m0\u001b[39m\u001b[38;5;241m*\u001b[39ml_f\u001b[38;5;241m*\u001b[39ml_t\u001b[38;5;241m*\u001b[39mm_f\u001b[38;5;241m*\u001b[39mca\u001b[38;5;241m.\u001b[39msin(\u001b[38;5;241m-\u001b[39mq[\u001b[38;5;241m0\u001b[39m]\u001b[38;5;241m+\u001b[39mq[\u001b[38;5;241m1\u001b[39m]\u001b[38;5;241m+\u001b[39mq[\u001b[38;5;241m2\u001b[39m]) \u001b[38;5;241m+\u001b[39m \u001b[38;5;241m1.185\u001b[39m\u001b[38;5;241m*\u001b[39ml_f\u001b[38;5;241m*\u001b[39ml_t\u001b[38;5;241m*\u001b[39mm_f\u001b[38;5;241m*\u001b[39mca\u001b[38;5;241m.\u001b[39mcos(\u001b[38;5;241m-\u001b[39mq[\u001b[38;5;241m0\u001b[39m]\u001b[38;5;241m+\u001b[39mq[\u001b[38;5;241m1\u001b[39m]\u001b[38;5;241m+\u001b[39mq[\u001b[38;5;241m2\u001b[39m]) \u001b[38;5;241m-\u001b[39m \u001b[38;5;241m2.0833\u001b[39m\u001b[38;5;241m*\u001b[39m(l_t\u001b[38;5;241m*\u001b[39m\u001b[38;5;241m*\u001b[39m\u001b[38;5;241m2\u001b[39m)\u001b[38;5;241m*\u001b[39mm_f \u001b[38;5;241m-\u001b[39m \u001b[38;5;241m0.545\u001b[39m\u001b[38;5;241m*\u001b[39m(l_t\u001b[38;5;241m*\u001b[39m\u001b[38;5;241m*\u001b[39m\u001b[38;5;241m2\u001b[39m)\u001b[38;5;241m*\u001b[39mm_t \u001b[38;5;241m-\u001b[39m m_t\u001b[38;5;241m*\u001b[39m((\u001b[38;5;241m0\u001b[39m\u001b[38;5;241m*\u001b[39ml_f\u001b[38;5;241m*\u001b[39mca\u001b[38;5;241m.\u001b[39msin(q[\u001b[38;5;241m0\u001b[39m]\u001b[38;5;241m+\u001b[39mq[\u001b[38;5;241m4\u001b[39m]) \u001b[38;5;241m-\u001b[39m l_f\u001b[38;5;241m*\u001b[39mca\u001b[38;5;241m.\u001b[39mcos(q[\u001b[38;5;241m0\u001b[39m]\u001b[38;5;241m+\u001b[39mq[\u001b[38;5;241m4\u001b[39m]) \u001b[38;5;241m+\u001b[39m l_f\u001b[38;5;241m*\u001b[39mca\u001b[38;5;241m.\u001b[39mcos(q[\u001b[38;5;241m1\u001b[39m]\u001b[38;5;241m+\u001b[39mq[\u001b[38;5;241m4\u001b[39m]) \u001b[38;5;241m+\u001b[39m \u001b[38;5;241m0\u001b[39m\u001b[38;5;241m*\u001b[39ml_t\u001b[38;5;241m*\u001b[39mca\u001b[38;5;241m.\u001b[39msin(q[\u001b[38;5;241m0\u001b[39m]\u001b[38;5;241m-\u001b[39mq[\u001b[38;5;241m2\u001b[39m]\u001b[38;5;241m+\u001b[39mq[\u001b[38;5;241m4\u001b[39m]) \u001b[38;5;241m-\u001b[39m l_t\u001b[38;5;241m*\u001b[39mca\u001b[38;5;241m.\u001b[39mcos(q[\u001b[38;5;241m0\u001b[39m]\u001b[38;5;241m-\u001b[39mq[\u001b[38;5;241m2\u001b[39m]\u001b[38;5;241m+\u001b[39mq[\u001b[38;5;241m4\u001b[39m]) \u001b[38;5;241m+\u001b[39m \u001b[38;5;241m0.68\u001b[39m\u001b[38;5;241m*\u001b[39ml_t\u001b[38;5;241m*\u001b[39mca\u001b[38;5;241m.\u001b[39mcos(q[\u001b[38;5;241m1\u001b[39m]\u001b[38;5;241m-\u001b[39mq[\u001b[38;5;241m3\u001b[39m]\u001b[38;5;241m+\u001b[39mq[\u001b[38;5;241m4\u001b[39m]))\u001b[38;5;241m*\u001b[39m\u001b[38;5;241m*\u001b[39m\u001b[38;5;241m2\u001b[39m) \u001b[38;5;241m-\u001b[39m \u001b[38;5;241m20\u001b[39m\u001b[38;5;241m*\u001b[39m((\u001b[38;5;241m0\u001b[39m\u001b[38;5;241m*\u001b[39ml_f\u001b[38;5;241m*\u001b[39mca\u001b[38;5;241m.\u001b[39msin(q[\u001b[38;5;241m0\u001b[39m]\u001b[38;5;241m+\u001b[39mq[\u001b[38;5;241m4\u001b[39m]) \u001b[38;5;241m-\u001b[39m l_f\u001b[38;5;241m*\u001b[39mca\u001b[38;5;241m.\u001b[39mcos(q[\u001b[38;5;241m0\u001b[39m]\u001b[38;5;241m+\u001b[39mq[\u001b[38;5;241m4\u001b[39m]) \u001b[38;5;241m+\u001b[39m \u001b[38;5;241m0\u001b[39m\u001b[38;5;241m*\u001b[39ml_t\u001b[38;5;241m*\u001b[39mca\u001b[38;5;241m.\u001b[39msin(q[\u001b[38;5;241m0\u001b[39m]\u001b[38;5;241m-\u001b[39mq[\u001b[38;5;241m2\u001b[39m]\u001b[38;5;241m+\u001b[39mq[\u001b[38;5;241m4\u001b[39m]) \u001b[38;5;241m-\u001b[39m l_t\u001b[38;5;241m*\u001b[39mca\u001b[38;5;241m.\u001b[39mcos(q[\u001b[38;5;241m0\u001b[39m]\u001b[38;5;241m-\u001b[39mq[\u001b[38;5;241m2\u001b[39m]\u001b[38;5;241m+\u001b[39mq[\u001b[38;5;241m4\u001b[39m]) \u001b[38;5;241m+\u001b[39m \u001b[38;5;241m0.425\u001b[39m\u001b[38;5;241m*\u001b[39mca\u001b[38;5;241m.\u001b[39mcos(q[\u001b[38;5;241m4\u001b[39m]))\u001b[38;5;241m*\u001b[39m\u001b[38;5;241m*\u001b[39m\u001b[38;5;241m2\u001b[39m) \u001b[38;5;241m-\u001b[39m \u001b[38;5;241m20\u001b[39m\u001b[38;5;241m*\u001b[39m((l_f\u001b[38;5;241m*\u001b[39mca\u001b[38;5;241m.\u001b[39msin(q[\u001b[38;5;241m0\u001b[39m]\u001b[38;5;241m+\u001b[39mq[\u001b[38;5;241m4\u001b[39m]) \u001b[38;5;241m+\u001b[39m \u001b[38;5;241m0\u001b[39m\u001b[38;5;241m*\u001b[39ml_f\u001b[38;5;241m*\u001b[39mca\u001b[38;5;241m.\u001b[39mcos(q[\u001b[38;5;241m0\u001b[39m]\u001b[38;5;241m+\u001b[39mq[\u001b[38;5;241m4\u001b[39m]) \u001b[38;5;241m+\u001b[39m l_t\u001b[38;5;241m*\u001b[39mca\u001b[38;5;241m.\u001b[39msin(q[\u001b[38;5;241m0\u001b[39m]\u001b[38;5;241m-\u001b[39mq[\u001b[38;5;241m3\u001b[39m]\u001b[38;5;241m+\u001b[39mq[\u001b[38;5;241m4\u001b[39m]) \u001b[38;5;241m+\u001b[39m \u001b[38;5;241m0\u001b[39m\u001b[38;5;241m*\u001b[39ml_t\u001b[38;5;241m*\u001b[39mca\u001b[38;5;241m.\u001b[39mcos(q[\u001b[38;5;241m0\u001b[39m]\u001b[38;5;241m-\u001b[39mq[\u001b[38;5;241m2\u001b[39m]\u001b[38;5;241m+\u001b[39mq[\u001b[38;5;241m4\u001b[39m]) \u001b[38;5;241m-\u001b[39m \u001b[38;5;241m0.425\u001b[39m\u001b[38;5;241m*\u001b[39mca\u001b[38;5;241m.\u001b[39msin(q[\u001b[38;5;241m4\u001b[39m]))\u001b[38;5;241m*\u001b[39m\u001b[38;5;241m*\u001b[39m\u001b[38;5;241m2\u001b[39m) \u001b[38;5;241m-\u001b[39m \u001b[38;5;241m2.22\u001b[39m\n\u001b[0;32m     34\u001b[0m     \u001b[38;5;28;01mreturn\u001b[39;00m M\n\u001b[1;32m---> 36\u001b[0m M \u001b[38;5;241m=\u001b[39m M(\u001b[43mq\u001b[49m, m_f, m_t, l_f, l_t)\n",
      "\u001b[1;31mNameError\u001b[0m: name 'q' is not defined"
     ]
    }
   ],
   "source": [
    "# Mass matrix\n",
    "def M(q, m_f, m_t, l_f, l_t):\n",
    "\n",
    "    M11 = (-1.4343*(l_f**2)*m_f) - ((l_f**2)*m_t) - (20*(l_f**2)) - (3.185 * l_f * m_f * ca.cos(q[2])) - (2 * l_f * m_t * ca.cos(q[2])) - (40 * l_t * m_t *  ca.cos(q[2])) - (2 * (l_t**2)*m_f) - (1.545 * (l_t**2) * m_t) - (20 * (l_t**2))\n",
    "    M12 = 0.5925 * l_f * m_f * (0) * l_f * ca.sin(q[0] - q[1]) + (0 * l_t * ca.sin(-q[0]+q[1]+q[2])) - m_t * ((l_f * ca.sin(q[1] - q[3] + q[4]))*(l_f * ca.sin(q[0] + q[4] - pi) + l_t * ca.sin(q[0] - q[2] + q[4] - pi)) + (l_f * ca.cos(q[1] + q[4]) + 0.68 * l_t * ca.cos(q[1] - q[3] + q[4]))*(l_f * ca.cos(q[0] + q[4] - pi) + l_t * ca.cos(q[0] - q[2] + q[4] - pi)))\n",
    "    M13 = l_t * (1.5925 * l_f * m_f * ca.cos(q[2]) + l_f * m_f * ca.cos(q[2]) + 20 * l_f * ca.cos(q[2]) + 2*l_t*m_f + 1.5457*l_t*m_t + 20*l_t)\n",
    "    M14 = .68*l_t*m_t((l_f*ca.sin(q[0] + q[4] - pi) + l_t*ca.sin(q[0] - q[2] + q[4] - pi))*ca.sin(q[1] - q[3] + q[4]) + (l_f*ca.cos(q[0] + q[5] - pi) + l_t*ca.cos(q[0] - q[2] + q[4] - pi)) * ca.cos(q[1] - q[2] + q[4]))\n",
    "    M15 = -0.0833 * (l_f**2)*m_f - 0.545*(l_t**2)*m_t - 0.5*m_f(0.702*(l_f**2) + 2.37*l_f*l_t*ca.cos(q[2]) + 2*(l_t**2)) - m_f*(0*(l_f**2)*ca.sin(q[0] - q[1]) - 0.5925*(l_f**2)*ca.cos(q[0] - q[1]) + (l_f**2) - 0*l_f*l_t*ca.sin(-q[0] + q[1] + q[2]) - 0.5925*l_f*l_t*ca.cos(-q[0] + q[1] + q[2]) + 2*l_f*l_t*ca.cos(q[2]) + l_t**2) - m_t((l_f * ca.sin(q[0] + q[4] - pi) + l_t*ca.sin(q[0] - q[2] + q[4] - pi))*(l_f*ca.sin(q[1] + q[4])) + l_f*ca.sin(q[0] + q[4] - pi) + 0.68*l_t*ca.sin(q[1] - q[3] + q[4]) + l_t*ca.sin(q[0] - q[2] + q[4] - pi)) + (l_f*ca.cos(q[0] + q[4] - pi) + l_t*ca.cos(q[0] - q[2] + q[4] - pi))*(l_f*ca.cos(q[1] + q[4]) + l_f*ca.cos(q[0] + q[4] - pi) + 0.68*l_t*ca.cos(q[1] - q[3] + q[4]) + l_t*ca.cos(q[0] - q[2] + q[4] - pi)) - 20*(l_f*ca.sin(q[0] + q[4] - pi) + l_t*ca.sin(q[0] - q[2] + q[4] - pi))*(l_f*ca.sin(q[0] + q[4] - pi) + l_t*ca.sin(q[0] - q[2] +q[4] - pi) + 0.425*ca.sin(q[4])) - 20*(l_f*ca.cos(q[0] + q[4] - pi) + l_t*ca.cos(q[0] - q[2] + q[4] - pi))*(l_f*ca.cos(q[0] - q[2] + q[4]) + 0.425*ca.cos(q[4]))\n",
    "    \n",
    "    M21 = 0.5925*l_f*m_f*(0*l_f*ca.sin(q[0] - q[1]) + 0*l_f*ca.sin(-q[0] + q[1] + q[2]) + l_t*ca.cos(-q[0] + q[1] + q[2])) - 0.5*m_f*((2*l_f*ca.sin(q[1]+q[4]) + 1.36*l_t*ca.sin(q[1]-q[3]+q[4]))*(l_f*ca.sin(q[0]+q[4]-pi) + l_t*ca.sin(q[0]-q[2]+q[4]-pi)) + (2*l_f*ca.cos(q[1]+q[4]) + 1.36*l_t*ca.cos(q[1] - q[3] + q[4]))*(l_f*ca.cos(q[0]+q[4]-pi) + l_t*ca.cos(q[0] - q[2] + q[4] - pi)))\n",
    "    M22 = -0.4343*(l_f**2)*m_f - (l_f**2)*m_t - 1.36*l_f*l_t*m_t*ca.cos(q[3]) - 0.0833*(l_t**2)*m_f - 0.4624*(l_t**2)*m_t\n",
    "    M23 = l_t*(-0.5925*l_f*m_f*(0*ca.sin(-q[0]+q[1]+q[2]) + ca.cos(-q[0]+q[1]+q[2])) + 0.5*m_t*((2*l_f*sin(q[1] + q[4]) + 1.36*l_t*ca.sin(q[1]-q[3]+q[4]))*ca.sin(q[0]-q[2]+q[5]-pi) + (2*l_f*ca.cos(q[1]+q[4]) + 1.36*l_f*ca.cos(q[1]-q[3]+q[4]))*ca.cos(q[0]-q[2]+q[5]-pi)))\n",
    "    M24 = l_t*(l_f*m_t**ca.cos(q[3]) + 0.0833*l_t*m_f + 0.4624*l_t*m_t)\n",
    "    M25 = -0.0833*(l_f**2)*m_f + 0.5925*l_f*m_f*(0*l_f*ca.sin(q[0]-q[1]) + l_f*ca.cos(q[0] - q[1]) - 0.5925*l_f + 0*l_t*ca.sin(-q[0]+q[1]+q[2]) + l_t*ca.cos(-q[0]+q[1]+q[2])) - 0.0833*(l_t**2)*m_f - 0.5*((2*l_f*ca.sin(q[1]+q[4]) + 1.36*l_t*ca.sin(q[1]-q[3]+q[4]))*(l_f*ca.sin(q[1]+q[4]) + l_f*ca.sin(q[0]+q[4]-pi) + 0.68*l_t*ca.sin(q[1]-q[3]+q[4]) + l_t*ca.sin(q[0]-q[2]+q[5]-pi)) + (2*l_f*ca.cos(q[1]+q[4]) + 1.36*l_t*ca.cos(q[1]-q[3]+q[4]))*(l_f*ca.cos(q[1]+q[4])+l_f*ca.cos(q[0]+q[4]-pi) + 0.68*l_t*ca.cos(q[1]-q[3]+q[4]) + l_t*ca.cos(q[0]-q[2]+q[4]-pi)))\n",
    "\n",
    "    M31 = l_t*(1.5925*l_f*m_f*ca.cos(q[2]) + l_f*m_t*ca.cos(q[2]) + 20*l_f*ca.cos(q[2]) + 2*l_t*m_f + 1.545*l_t*m_t + 20*l_t)\n",
    "    M32 = l_t*(-0.5925*l_f*m_f*(0*ca.sin(-q[0]+q[1]+q[2]) + ca.cos(-q[0]+q[1]+q[2])) + m_t*(l_f*ca.sin(q[1]+q[4]) + 0.68*l_t*ca.sin(q[1]-q[3]+q[4]))*ca.sin(q[0]-q[2]+q[4]-pi) + (l_f*ca.cos(q[1]+q[4]) + 0.68*l_t*ca.cos(q[1]-q[3]+q[4]))*ca.cos(q[0]-q[2]+q[4]-pi))\n",
    "    M33 = -(l_t**2)*(2*m_f + 1.5457*m_t +20)\n",
    "    M34 = -0.68*(l_t**2)*m_t*(0*ca.sin(q[0]-q[1]-q[2]+q[3]) - ca.cos(q[0]-q[1]-q[2]+q[3]))\n",
    "    M35 = l_t*(0*l_f*m_f*ca.sin(-q[0]+q[1]+q[2]) - 0.5925*l_f*m_f*ca.cos(-q[0]+q[1]+q[2]) + 1.5925*l_f*m_f*cos(q[3]) - 0*l_f*m_t*ca.sin(-q[0]+q[1]+q[2]) - l_f*m_t*ca.cos(-q[0]+q[1]+q[3]) + l_f*m_tca.cos(q[2]) + 20*l_f*ca.cos(q[2]) + 2*l_t*m_f - 0.68*l_t*m-t*ca.sin(q[0]-q[2])*ca.sin(q[1])*ca.cos(q[3]) - 0.68*l_t*m_t*ca.sin(q[0]+q[3])*ca.sin(q[2])*ca.cos(q[1]) + 0*l_t*m_t*ca.sin(q[0]-q[1]-q[2]+q[3]) + 0.68*l_t*m_t*ca.sin(q[0])*ca.sin(q[3])*ca.cos(q[1]+q[2]) - 0.68*l_t*m_t*ca.cos(q[1] - q[3])*ca.cos(q[0])*ca.cos(q[2]) + 1.545*l_t*m_t + 20*l_t + 0*ca.sin(q[0]-q[2]) - 8.5*ca.cos(q[0]-q[2]))\n",
    "\n",
    "    M41 = 0.68*l_t*m_t*((l_f*ca.sin(q[0]+q[4]-pi) + l_t*ca.sin(q[0]-q[2]+q[4]-pi))*ca.sin(q[1]-q[3]+q[4]) + (l_f*ca.cos(q[0]+q[4]-pi) + l_f*ca.cos(q[0]-q[2]+q[4]-pi))*ca.cos(q[1]-q[4]+q[5]))\n",
    "    M42 = l_t*(0.68*m_f*m_t*ca.cos(q[3]) + 0.0833*l_f*m_f + 0.4624*l_t*m_t)\n",
    "    M43 = -0.68*(l_t**2)*m_t*(0*ca.sin(q[0]-q[1]-q[2]+q[3]) - ca.cos(q[0]-q[1]-q[2]+q[3]))\n",
    "    M44 = (l_t**2)*(-0.0833*m_f - 0.4624*m_t)\n",
    "    M45 = l_t*(0.0833*l_t*m_f + 0.68*m_t*((l_f*ca.sin(q[1]+q[4]) + l_f*ca.sin(q[0]+q[4]-pi) + 0.68*l_t*ca.sin(q[1]-q[3]+q[4]) + l_t*ca.sin(q[0]-q[2]+q[4]-pi))*ca.sin(q[1]-q[3]+q[4]) + (l_f*ca.cos(q[1]+q[4]) + l_f*ca.cos(q[0]+q[5]-pi) + 0.68*l_t*ca.cos(q[1]-q[3]+q[4]) + l_t*ca.cos(q[0]-q[2]+q[4]-pi))*ca.cos(q[1]-q[3]+q[4])))\n",
    "\n",
    "    M51 = -0.083*(l_f**2)*m_f - 0.545*(l_f**2)*m_f - 0.5*m_f*(0.702*(l_f**2) + 2.37*l_f*l_t*ca.cos(q[2]) + 2*(l_t**2)) - 0.5*m_f(0*(l_f**2)*ca.sin(q[0]-q[1]) - 1.185*(l_f**2)*ca.cos(q[0]-q[1]) + 2*(l_f**2) - 0*l_f*l_t*ca.sin(-q[0]+q[1]+q[2]) - 1.185*l_f*l_t*ca.cos(-q[0]+q[1]+q[2]) + 4*l_f*l_t*ca.cos(q[2]) + 2*(l_t**2)) - 0.5*m_t((l_f*ca.sin(q[0]+q[4]-pi) + l_t*ca.sin(q[0]-q[2]+q[4]-pi)) * (2*l_f*ca.sin(q[1]+q[4]) + 2*l_f*ca.sin(q[0]+q[4]-pi) + 1.36*l_t*ca.sin(q[1]-q[3]+q[4]) + 2*l_t*ca.sin(q[0]-q[2]+q[4]-pi)) + (l_f*ca.cos(q[0]+q[4]-pi) + l_t*ca.cos(q[0]-q[2]+q[4]-pi)) * (2*l_f*ca.cos(q[1]+q[4]) + 2*l_f*ca.cos(q[0]+q[4]-pi) + 1.36*l_t*ca.cos(q[1]-q[3]+q[4]) + 2*l_t*ca.cos(q[0]-q[2]+q[4]-pi))) - 10*(l_f*ca.sin(q[0]+q[4]-pi) + l_t*ca.sin(q[0]-q[2]+q[4]-pi)) * (2*l_f*ca.sin(q[0]+q[4]-pi) + 2*l_t*ca.sin(q[0]-q[2]+q[4]-pi) + 0.85*ca.sin(q[5])) - 10*(l_f*ca.cos(q[0]+q[4]-pi) + l_t*ca.cos(q[0]-q[2]+q[4]-pi)) * (2*l_f*ca.cos(q[0]+q[4]-pi) + 2*l_t*ca.cos(q[0]-q[2]+q[4]-pi) + 0.85*ca.cos(q[4]))\n",
    "    M52 = -0.083*(l_f**2)*m_f + 0.29625*l_f*m_f*(0*l_f*ca.sin(q[0]-q[1]) + 2*l_f*ca.cos(q[0]-q[1]) - 1.185*l_f + 0*l_t*ca.sin(-q[0]+q[1]+q[2]) + 2*l_t*ca.cos(-q[0]+q[1]+q[2])) - 0.0833*(l_t**2)*m_f - 0.5*m_t*((l_f*ca.sin(q[1]+q[4]) + 0.68*l_t*ca.sin(q[1]-q[3]+q[4])) * (2*l_f*ca.sin(q[1]+q[4]) + 2*l_f*ca.sin(q[0]+q[4]-pi) + 1.36*l_t*ca.sin(q[1]-q[3]+q[4]) + 2*l_t*ca.sin(q[0]-q[2]+q[4]-pi)) + (l_f*ca.cos(q[1]+q[4]) + 0.68*l_t*ca.cos(q[1]-q[3]+q[4])) * (2*l_f*ca.cos(q[1]+q[4]) + 2*l_f*ca.cos(q[0]+q[4]-pi) + 1.36*l_t*ca.cos(q[1]-q[3]+q[4]) + 2*l_t*ca.cos(q[0]-q[2]+q[4]-pi)))\n",
    "    M53 = l_t*(0*l_f*m_f*ca.sin(-q[0]+q[1]+q[2]) - 0.5925*l_f*m_f*ca.cos(-q[0]+q[1]+q[2]) - 0.5925*l_f*m_f*ca.cos(-q[0]+q[1]+q[2]) + 1.5925*l_f*m_f*cos(q[2]) - 0*l_f*m_t*ca.sin(-q[0]+q[1]+q[2]) - l_f*m_f*ca.cos(-q[0]+q[1]+q[2]) + l_f*m_t*ca.cos(q[2]) + 20*l_f*ca.cos(q[2]) + 2*l_t*m_f - 0.68*l_t*m_t*ca.sin(q[0]-q[2])*ca.sin(q[1])*ca.cos(q[3]) - 0.68*l_t*m_t*ca.sin(q[0]+q[3])*ca.sin(q[2]) + 0*l_t*m_t*ca.sin(q[0]-q[1]-q[2]+q[3]) + 0.68*l_t*m_t*ca.sin(q[0])*ca.sin(q[3])*ca.cos(q[1]+q[2]) - 0.68*l_t*m_t*ca.cos(q[1]-q[3])*ca.cos(q[0])*ca.cos(q[2]) + 1.545*l_t*m_t + 20*l_t + -8.5*ca.cos(q[0]-q[2]))\n",
    "    M54 = l_t*(0.0833*l_t*m_f + 0.34*m_t*((2*l_f*ca.sin(q[1]+q[4]) + 2*l_f*ca.sin(q[0]+q[4]-pi) + 1.36*l_t*ca.sin(q[1]-q[3]+q[4]) + 2*l_t*ca.sin(q[0]-q[2]+q[4]-pi))*ca.sin(q[1]-q[3]+q[4]) + (2*l_f*ca.cos(q[1]+q[4]) + 2*l_f*ca.cos(q[0]+q[4]-pi) + 1.36*l_t*ca.cos(q[1]-q[3]+q[4]) + 2*l_t*ca.cos(q[0]-q[2]+q[5]-pi))*ca.cos(q[1]-q[3]+q[4])))\n",
    "    M55 = -0*(l_f**2)*m_f*ca.sin(q[0]-q[1]) - 1.868*(l_f**2)*m_f + 0*l_f*l_t*m_f*ca.sin(-q[0]+q[1]+q[2]) + 1.185*l_f*l_t*m_f*ca.cos(-q[0]+q[1]+q[2]) - 2.0833*(l_t**2)*m_f - 0.545*(l_t**2)*m_t - m_t*((0*l_f*ca.sin(q[0]+q[4]) - l_f*ca.cos(q[0]+q[4]) + l_f*ca.cos(q[1]+q[4]) + 0*l_t*ca.sin(q[0]-q[2]+q[4]) - l_t*ca.cos(q[0]-q[2]+q[4]) + 0.68*l_t*ca.cos(q[1]-q[3]+q[4]))**2) - 20*((0*l_f*ca.sin(q[0]+q[4]) - l_f*ca.cos(q[0]+q[4]) + 0*l_t*ca.sin(q[0]-q[2]+q[4]) - l_t*ca.cos(q[0]-q[2]+q[4]) + 0.425*ca.cos(q[4]))**2) - 20*((l_f*ca.sin(q[0]+q[4]) + 0*l_f*ca.cos(q[0]+q[4]) + l_t*ca.sin(q[0]-q[3]+q[4]) + 0*l_t*ca.cos(q[0]-q[2]+q[4]) - 0.425*ca.sin(q[4]))**2) - 2.22\n",
    "\n",
    "    return M\n",
    "\n",
    "M = M(q, m_f, m_t, l_f, l_t)"
   ]
  },
  {
   "cell_type": "markdown",
   "metadata": {},
   "source": [
    "Vector matrix: obtained by substituting mode shape terms with null value"
   ]
  },
  {
   "cell_type": "code",
   "execution_count": 15,
   "metadata": {},
   "outputs": [],
   "source": [
    "# Vector matrix\n",
    "def C(q, dq, m_f, m_t, l_f, l_t):\n",
    "\n",
    "    C5 = -0.5*l_f*l_t*m_f(-2.37*dq[0] + 1.185*dq[2] - 2.37*dq[4]) * ca.sin(q[2])*dq[2] + 192.2*l_f*ca.sin(q[0]+q[4]-pi) + 6.6708*l_t*m_t*ca.sin(q[0]-q[2]+q[4]-pi) + 196.2*l_t*ca.sin(q[0]-q[2]+q[4]-pi) + 9.81*m_f*(0.5925*l_f*ca.sin(q[0]+q[4]-pi) + l_t*ca.sin(q[0]-q[2]+q[4]-pi)) + 9.81-m_f*(0.5925*l_f*ca.sin(q[1]+q[4]) + l_f*ca.sin(q[0]+q[4]-pi) + l_t*ca.sin(q[0]-q[2]+q[4]-pi)) - 0.5*m_f*((1.185*l_f*ca.sin(q[1]+q[4]) + 2*l_f*ca.sin(q[0]+q[5]-pi) + 2*l_t*ca.sin(q[0]-q[2]+q[4]-pi))*(l_f*((dq[0]+dq[4])**2)*ca.cos(q[0]+q[4]-pi) + 0.5925*l_f*((dq[1]+dq[4])**2)*ca.cos([q1]+q[4]) + l_t*((dq[0]-dq[2]+dq[4])**2)*ca.cos(q[0]-q[2]+q[4]-pi)) - (1.185*l_f*ca.cos(q[1]+q[4]) + 2*l_f*ca.cos(q[0]*q[4]-pi) + 2*l_t*ca.cos(q[0]-q[2]+q[5]-pi))*(l_f((dq[0]+dq[5])**2)*ca.sin(q[0]+q[4]-pi) 6 0.5925*l_f*((dq[1]+dq[4])**2)*ca.sin(q[1]+q[4]) + l_t*((dq[0]-dq[2]+dq[4])**2)*ca.sin(q[0]-q[2]+q[4]-pi)) + (l_f(dq[0]+dq[4])*ca.sin(q[0]+q[4]-pi) + 0.5925*l_f*(dq[1]+dq[4])*ca.sin(q[1]+q[4]) + l_t*(dq[0]-dq[2]+dq[4])*ca.sin(q[0]-q[2]+q[4]-pi))*(2*l_f*(dq[0]+dq[4])*ca.cos(q[0]+q[4]-pi) + 1.185*l_f(dq[1]+dq[4])*ca.cos(q[1]+q[4]) + 2*l_t*(dq[0]-dq[2]+dq[4])*ca.cos(q[0]-q[2]+q[4]-pi)) - (2*l_f*(dq[0]+dq[4])*ca.sin(q[0]+q[4]-pi) + 1.185*l_f*(dq[1]+dq[4])*ca.sin(q[1]+q[4]) + 2*l_t*(dq[0]-dq[2]+dq[4])*ca.sin(q[0]-q[2]+q[4]-pi))*(l_f*(dq[0]+ddq[4]-pi) + 0.5925*l_f*(dq[1]+dq[4])*ca.cos(q[1]+q[4]) + l_t*(dq[0]-dq[2]+dq[4])*ca.cos(q[0]-q[2]+q[4]-pi)))*(2*l_f*(dq[0]+dq[4]-pi) + 1.185*l_f*(dq[1]+dq[4])*ca.cos(q[1]+q[4]) + 2*l_t*(dq[0]-dq[0]-dq[2]+dq[4])*ca.cos(q[0]-q[2]+q[4]-pi)) - (2*l_f*(dq[0]+dq[4])*ca.sin(q[0]+q[4]-pi) + 1.185*l_f*(dq[1]+dq[4])*ca.sin(q[1]+q[4]) + 2*l_t*(dq[0]-dq[2]+dq[4])*ca.sin(q[0]-q[2]+q[4]-pi)) * (l_f*(dq[0]+dq[4])*ca.cos(q[0]+q[5])-pi) + 0.5925*l_f*(dq[1]+dq[4])*ca.cos(q[1]+dq[4]) + l_t*(dq[0]-dq[2]+dq[4])*ca.cos(q[0]-q[2]+q[4]-pi)\n",
    "\n",
    "    return C\n",
    "\n",
    "# C_sus = C.subs({sp.diff(q1): 0, sp.diff(q2): 0, sp.diff(q3): 0, sp.diff(q4): 0, sp.diff(q5): 0})\n",
    "# C_sus = C_sus.subs({q1: -np.pi/2, q2: np.pi/2, q3: np.pi/2, q4: -np.pi/2, q5:0})\n",
    "\n",
    "# print(C_sus)\n"
   ]
  },
  {
   "cell_type": "markdown",
   "metadata": {},
   "source": [
    "Mass matrix: obtained by substituting velocity terms and gravity with null value"
   ]
  },
  {
   "cell_type": "code",
   "execution_count": 16,
   "metadata": {},
   "outputs": [],
   "source": [
    "# Mass matrix\n",
    "def M(eq_motion_ei, e, dq):\n",
    "\n",
    "    # Substituting velocity terms with zero, we obtain vector matrix = 0, so only mass matrix is left\n",
    "    M_ei = eq_motion_ei.subs(dq[0], 0).subs(dq[1], 0).subs(dq[2], 0).subs(dq[3], 0).subs(dq[4], 0).subs(g, 0)\n",
    "    M = sp.zeros(5,5)       # Initialize mass matrix\n",
    "\n",
    "    # For each set of equations M*ei, the effect of each acceleration term is obtained\n",
    "    for i in range(5):\n",
    "        M[i, 0] = M_ei[i].subs(e1, 1).subs(e2, 0).subs(e3, 0).subs(e4, 0).subs(e5, 0)\n",
    "        M[i, 1] = M_ei[i].subs(e1, 0).subs(e2, 1).subs(e3, 0).subs(e4, 0).subs(e5, 0)\n",
    "        M[i, 2] = M_ei[i].subs(e1, 0).subs(e2, 0).subs(e3, 1).subs(e4, 0).subs(e5, 0)\n",
    "        M[i, 3] = M_ei[i].subs(e1, 0).subs(e2, 0).subs(e3, 0).subs(e4, 1).subs(e5, 0)\n",
    "        M[i, 4] = M_ei[i].subs(e1, 0).subs(e2, 0).subs(e3, 0).subs(e4, 0).subs(e5, 1)\n",
    "\n",
    "    return M, M_ei\n",
    "\n",
    "M, M_ei = M(eq_motion_ei, e, dq)"
   ]
  },
  {
   "cell_type": "markdown",
   "metadata": {},
   "source": [
    "Active inputs: calculated by multiplying the input set with matrix B"
   ]
  },
  {
   "cell_type": "code",
   "execution_count": 17,
   "metadata": {},
   "outputs": [],
   "source": [
    "# Array of controlled parameters u\n",
    "def ControlledInputs(u):\n",
    "    # Array B shows what inputs are active (from u1 to u4)\n",
    "    B = np.array([[1, 0, 0, 0, 0],\n",
    "                [0, 1, 0, 0, 0],\n",
    "                [0, 0, 1, 0, 0],\n",
    "                [0, 0, 0, 1, 0],\n",
    "                [0, 0, 0, 0, 0],\n",
    "    ])\n",
    "\n",
    "    B_u = np.vstack(np.dot(B, u))       # Set u5 to zero, meaning that head movement is not controlled\n",
    "    return np.array(B_u)\n",
    "\n",
    "B_u = ControlledInputs(u)"
   ]
  },
  {
   "cell_type": "markdown",
   "metadata": {},
   "source": [
    "Final equation of motion: M*(ei) + C - B*u = 0"
   ]
  },
  {
   "cell_type": "code",
   "execution_count": 18,
   "metadata": {},
   "outputs": [],
   "source": [
    "# Final set of equations of motion (M*ei + C - B*u = 0)\n",
    "def e_motion_u(C, M_ei, u):\n",
    "    e_motion_u = C + M_ei - ControlledInputs(u)\n",
    "    return e_motion_u"
   ]
  },
  {
   "cell_type": "code",
   "execution_count": 19,
   "metadata": {},
   "outputs": [],
   "source": [
    "# State equation\n",
    "def state(q, dq):\n",
    "    q_transposed = np.vstack(q)\n",
    "    dq_transposed = np.vstack(dq)\n",
    "    x = np.vstack([q_transposed, dq_transposed])\n",
    "    return x\n",
    "\n",
    "x = state(q, dq)"
   ]
  },
  {
   "cell_type": "markdown",
   "metadata": {},
   "source": [
    "## Solver\n",
    "### State space calculation"
   ]
  },
  {
   "cell_type": "code",
   "execution_count": 20,
   "metadata": {},
   "outputs": [],
   "source": [
    "def d_state(q, dq, u, M, C):\n",
    "    B_u = ControlledInputs(u)               # Calculate acting inputs and the inverse of the mass matrix\n",
    "    M_inverse = np.linalg.inv(M)            # Inverse of matrix M\n",
    "    ddq_u = np.dot(M_inverse, (B_u - C))    # Acceleration term given in the assigment notes (comes from solving for ei the equations of motion)\n",
    "    \n",
    "    dq_x = np.hstack(dq)                    # Generate array of speed\n",
    "    ddq_x = np.hstack(ddq_u)                # Generate array of acceleration\n",
    "    dx = np.hstack([dq_x, ddq_x])           # Derivative of the state\n",
    "\n",
    "    return dx"
   ]
  },
  {
   "cell_type": "markdown",
   "metadata": {},
   "source": [
    "### Openloop function\n",
    "Substitute symbolical values with numerical values and calculate state-space model"
   ]
  },
  {
   "cell_type": "code",
   "execution_count": 21,
   "metadata": {},
   "outputs": [],
   "source": [
    "# Openloop function to analyse each system each sample period\n",
    "def openloop(x, t, u, M, C):\n",
    "    q, dq = x[:5],x[5:]                 # First set desired state\n",
    "    \n",
    "    # Substitute mass matrix\n",
    "    M = M.subs({q1: q[0], q2: q[1], q3: q[2], q4: q[3], q5: q[4]})\n",
    "    M = np.array(M, dtype='float64')\n",
    "\n",
    "    # Substitute vector matrix\n",
    "    C = C.subs({sp.diff(q1): dq[0], sp.diff(q2): dq[1], sp.diff(q3): dq[2], sp.diff(q4): dq[3], sp.diff(q5): dq[4]})\n",
    "    C = C.subs({q1: q[0], q2: q[1], q3: q[2], q4: q[3], q5: q[4]})\n",
    "    C = np.array(C)\n",
    "\n",
    "    # Derivative of the state\n",
    "    dx = d_state(q, dq, u, M, C)\n",
    "    dx = np.array(dx, dtype='float64')\n",
    "    \n",
    "    return dx"
   ]
  },
  {
   "cell_type": "markdown",
   "metadata": {},
   "source": [
    "### Runge-Kutta 45"
   ]
  },
  {
   "cell_type": "code",
   "execution_count": 22,
   "metadata": {},
   "outputs": [],
   "source": [
    "# Runge Kutta solver\n",
    "def RK45_solver(time, x0, u, M, C, joint_order):\n",
    "    start_time, end_time, h = time      # Define simulation time properties\n",
    "\n",
    "    x = x0          # Initial state value\n",
    "    q_x = x[:5]     # Initial angles\n",
    "    dq_x = x[5:]    # Initial speed\n",
    "\n",
    "    # Initial position of the body\n",
    "    pos0_x, pos0_y = sim_pos(q_x, joint_order)\n",
    "    body_pos_x = pos0_x\n",
    "    body_pos_y = pos0_y\n",
    "\n",
    "    count = 0       # Initialize loop counter\n",
    "\n",
    "    # Initial time instance\n",
    "    t = start_time\n",
    "    t_acc = t\n",
    "\n",
    "    while t <= end_time:\n",
    "        \n",
    "        # Simulate possible responses\n",
    "        k1 = openloop(x, t, u, M, C)\n",
    "        k2 = openloop(x+h*(k1/2), t+(h/2),u, M, C)\n",
    "        k3 = openloop(x+h*(k2/2), t+(h/2),u, M, C)\n",
    "        k4 = openloop(x+h*k3, t+h,u, M, C)\n",
    "\n",
    "        # Calculate weighted response and save values\n",
    "        x += h*(k1 + 2*k2 + 2*k3 + k4)/6\n",
    "        q_x_1, dq_x_1 = x[:5], x[5:]\n",
    "\n",
    "        # Calculate absolute position of each joint for time t\n",
    "        x_sim, y_sim = sim_pos(q_x_1, joint_order)\n",
    "\n",
    "        # If second foot touches ground, stop simulation\n",
    "        if (y_sim[0, 6] < 0):\n",
    "            t = end_time + 1        # End simulation\n",
    "        else:\n",
    "            # Add simulated state to data until simulation time\n",
    "            q_x = np.vstack([q_x, q_x_1])       # Angles\n",
    "            dq_x = np.vstack([dq_x, dq_x_1])    # Speeds\n",
    "            t_acc = np.hstack([t_acc, t])       # Save time instance\n",
    "\n",
    "            # Save body position\n",
    "            body_pos_x = np.vstack([body_pos_x, x_sim])\n",
    "            body_pos_y = np.vstack([body_pos_y, y_sim])\n",
    "\n",
    "        # Print progress of the simulation\n",
    "        print('\\r%' + f\"{int(100*(t)/end_time)}\", end='', flush=True)\n",
    "        \n",
    "        # Add loop counter and time\n",
    "        count = count + 1\n",
    "        t = t + h\n",
    "\n",
    "    body = [body_pos_x, body_pos_y]\n",
    "\n",
    "    print('\\r%' + f\"{int(100)}\", end='', flush=True)\n",
    "    print('')\n",
    "    \n",
    "    if y_sim[0, 6] < 0:\n",
    "        print('Second foot on the ground!!!')\n",
    "        print('')\n",
    "\n",
    "    # print('q')\n",
    "    # print(q_x)\n",
    "    # print('dq')\n",
    "    # print(dq_x)\n",
    "    # print('')\n",
    "    # print('Position of the body joints')\n",
    "    # print(body)\n",
    "    # print('')\n",
    "    # print('Time instances simulated')\n",
    "    # print(t_acc)\n",
    "    # print('')\n",
    "    \n",
    "    return q_x, dq_x, t_acc, body\n"
   ]
  },
  {
   "cell_type": "markdown",
   "metadata": {},
   "source": [
    "## Animation function"
   ]
  },
  {
   "cell_type": "code",
   "execution_count": 23,
   "metadata": {},
   "outputs": [],
   "source": [
    "# Animated pendulum\n",
    "def animate_pendulum(t_ar, pos_x, pos_y, phi_sol, lengh, filename=\"GIF_try3.gif\", slowdown=1, skip_frames=1):\n",
    "    # Set up the figure, the axis, and the plot elements\n",
    "    fig, (ax1, ax2) = plt.subplots(1, 2) # Ax1 human, Ax2 angles\n",
    "    plt.subplots_adjust(wspace=0.5)  # Adjust the width spacing\n",
    "    fig.suptitle('Biped walker gravity colapse')\n",
    "    ax1.set_title('Biped walker movement')\n",
    "    ax1.set_xlim(- 1.475, 3) # Full body aligned + 0.05\n",
    "    ax1.set_ylim(- 1.475, 1.475) # Full body aligned + 0.05\n",
    "    ax1.set_aspect(1)\n",
    "    ax2.set_title('Joint Angles')\n",
    "    y2min = np.min(phi_sol)\n",
    "    y2max = np.max(phi_sol)   \n",
    "    # y2min = -5*np.pi\n",
    "    # y2max = 5*np.pi\n",
    "    ax2.set_ylim(y2min-0.5, y2max+0.5) \n",
    "    ax2.set_xlim(0, 5) # t[0], t[-1]) \n",
    "    ax2.set_xlabel('Time [s]')\n",
    "    ax2.set_ylabel('Angle [rad]')\n",
    "    # ax2.set_aspect((t[-1]-t[0])/(y2max-y2min))\n",
    "    def radians_formatter(x, pos):\n",
    "        return \"{:.0f}\".format(x/(np.pi))+\"pi\"\n",
    "    #plt.gca().yaxis.set_major_formatter(FuncFormatter(radians_formatter))\n",
    "    # display time\n",
    "    time_text = ax1.text(0.04, 0.9, '', transform=ax1.transAxes)\n",
    "\n",
    "    # create a rectangular Floor\n",
    "    Floor_width = 10*1.475 # All the image\n",
    "    Floor_height = 0.05\n",
    "    rect = Rectangle([0 , -Floor_height],\n",
    "                     Floor_width, Floor_height,\n",
    "                     fill=True, color='red', ec='black')\n",
    "    ax1.add_patch(rect)\n",
    "\n",
    "    # Drawing the pendulum and lines\n",
    "    Biped_walker, = ax1.plot([], [], lw=2, marker='o', markersize=6)\n",
    "    Biped_walker_leg2, = ax1.plot([], [], lw=2, marker='o', markersize=6, color='red')\n",
    "    phi1line, = ax2.plot([], [])\n",
    "    phi2line, = ax2.plot([], [])\n",
    "    phi3line, = ax2.plot([], [])\n",
    "    phi4line, = ax2.plot([], [])\n",
    "    phi5line, = ax2.plot([], [])\n",
    "\n",
    "    # initialization function: plot the background of each frame\n",
    "    def init():\n",
    "        time_text.set_text('')\n",
    "        rect.set_xy((0- Floor_width / 2.0,\n",
    "                     -Floor_height))\n",
    "        Biped_walker.set_data([], [])\n",
    "        Biped_walker_leg2.set_data([], [])\n",
    "        phi1line.set_data([], [])\n",
    "        phi2line.set_data([], [])\n",
    "        phi3line.set_data([], [])\n",
    "        phi4line.set_data([], [])\n",
    "        phi5line.set_data([], [])\n",
    "        return time_text, rect, Biped_walker,Biped_walker_leg2, phi1line, phi2line, phi3line, phi4line, phi5line\n",
    "\n",
    "    # animation function: update the objects\n",
    "    def animate(i):\n",
    "        new_i = i \n",
    "        time_text.set_text('time = {:2.2f}'.format(t_ar[i]))\n",
    "        rect.set_xy((0 - Floor_width / 2.0, -Floor_height))\n",
    "        x = pos_x[i]\n",
    "        y = pos_y[i]\n",
    "        # Set the walker points whell organized\n",
    "        Biped_walker.set_data(pos_x[i], pos_y[i])\n",
    "        Biped_walker_leg2.set_data(x[4:7], y[4:7])\n",
    "        # Set each angle position\n",
    "        phi1line.set_data(t_ar[:i], phi_sol[:i, 0])\n",
    "        phi2line.set_data(t_ar[:i], phi_sol[:i, 1])\n",
    "        phi3line.set_data(t_ar[:i], phi_sol[:i, 2])\n",
    "        phi4line.set_data(t_ar[:i], phi_sol[:i, 3])\n",
    "        phi5line.set_data(t_ar[:i], phi_sol[:i, 4])\n",
    "        ax2.legend(['phi1', 'phi2', 'phi3', 'phi4', 'phi5'])\n",
    "        return time_text, rect, Biped_walker,Biped_walker_leg2, phi1line, phi2line, phi3line, phi4line, phi5line\n",
    "\n",
    "    # call the animator function\n",
    "    anim = animation.FuncAnimation(fig, animate, frames=len(t_ar),\n",
    "                                   init_func=init,\n",
    "                                   interval=t_ar[-1] / len(t_ar) * 1000 * slowdown,\n",
    "                                   blit=False, repeat=False)\n",
    "    plt.show(block=True)\n",
    "\n",
    "    # save the animation if a filename is given\n",
    "    if filename is not None:\n",
    "        plt.rcParams['animation.ffmpeg_path'] = '/path/to/ffmpeg'\n",
    "        anim.save(filename, fps=30)"
   ]
  },
  {
   "cell_type": "markdown",
   "metadata": {},
   "source": [
    "## Heel Strike Impact Model"
   ]
  },
  {
   "cell_type": "code",
   "execution_count": 24,
   "metadata": {},
   "outputs": [],
   "source": [
    "def change_of_leg(q_simulated, dq_simulated, M_matrix, C_matrix, joint):\n",
    "    # Define leg position right before impact moment\n",
    "    q1_plus, q2_plus, q3_plus, q4_plus, q5_plus = dynamicsymbols('q1_plus q2_plus q3_plus q4_plus q5_plus')\n",
    "    qminus_symb = [q1_plus, q2_plus, q3_plus, q4_plus, q5_plus]\n",
    "    r_minus = np.hstack([q_simulated[-1], dq_simulated[-1]])\n",
    "    q_minus = r_minus[:5]\n",
    "    dq_minus = r_minus[5:]\n",
    "    M_minus_sym = M_matrix\n",
    "    C_minus_sym = C_matrix\n",
    "    joint_minus_sym = joint\n",
    "\n",
    "    # Leg change matrix\n",
    "    leg_change = np.array([[0, 1, 0, 0, 0],\n",
    "                        [1, 0, 0, 0, 0],\n",
    "                        [0, 0, 0, 1, 0],\n",
    "                        [0, 0, 1, 0, 0],\n",
    "                        [0, 0, 0, 0, 1]])\n",
    "\n",
    "    # Calculate q for after impact\n",
    "    q_plus_t = np.dot(leg_change, q)\n",
    "    q_plus_sym = np.dot(leg_change, qminus_symb)\n",
    "    q_plus = np.dot(leg_change, q_minus)\n",
    "    #print('q minus:' + f'{q_minus}')\n",
    "    #print('q plus:' + f'{q_plus}')\n",
    "\n",
    "    # Change symbolic mass matrix\n",
    "    M_plus_sym = M_minus_sym.subs({q1: q_plus_sym[0], q2: q_plus_sym[1], q3: q_plus_sym[2], q4: q_plus_sym[3], q5: q_plus_sym[4]})\n",
    "    M_plus_sym = M_plus_sym.subs({q_plus_sym[0]: q_plus_t[0], q_plus_sym[1]: q_plus_t[1], q_plus_sym[2]: q_plus_t[2], q_plus_sym[3]: q_plus_t[3], q_plus_sym[4]: q_plus_t[4]})\n",
    "    #print('M-: ' + f'{M_minus_sym}')\n",
    "    #print('M+: ' + f'{M_plus_sym}')\n",
    "\n",
    "    # Change symbolic vector matrix\n",
    "    C_plus_sym = C_minus_sym.subs({q1: q_plus_sym[0], q2: q_plus_sym[1], q3: q_plus_sym[2], q4: q_plus_sym[3], q5: q_plus_sym[4]})\n",
    "    C_plus_sym = C_plus_sym.subs({q_plus_sym[0]: q_plus_t[0], q_plus_sym[1]: q_plus_t[1], q_plus_sym[2]: q_plus_t[2], q_plus_sym[3]: q_plus_t[3], q_plus_sym[4]: q_plus_t[4]})\n",
    "    #print('C-: ' + f'{C_minus_sym}')\n",
    "    #print('C+: ' + f'{C_plus_sym}')\n",
    "\n",
    "    # Change joint_order matrix\n",
    "    joint_plus_sym = sp.zeros(2, 7)\n",
    "    for i in range(2):\n",
    "        for j in range(6):\n",
    "            joint_plus_sym[i, j+1] = joint_minus_sym[i, j+1].subs({q1: q_plus_sym[0], q2: q_plus_sym[1], q3: q_plus_sym[2], q4: q_plus_sym[3], q5: q_plus_sym[4]})\n",
    "            joint_plus_sym[i, j+1] = joint_plus_sym[i, j+1].subs({q_plus_sym[0]: q_plus_t[0], q_plus_sym[1]: q_plus_t[1], q_plus_sym[2]: q_plus_t[2], q_plus_sym[3]: q_plus_t[3], q_plus_sym[4]: q_plus_t[4]})\n",
    "    # print('Joint -: ' + f'{joint_minus_sym}')\n",
    "    # print('Joint +: ' + f'{joint_plus_sym}')\n",
    "\n",
    "    # Calculate mass matrix before and after impact\n",
    "    M_minus = M_minus_sym.subs({q1: q_minus[0], q2: q_minus[1], q3: q_minus[2], q4: q_minus[3], q5: q_minus[4]})\n",
    "    M_plus = M_minus_sym.subs({q1: q_plus[0], q2: q_plus[1], q3: q_plus[2], q4: q_plus[3], q5: q_plus[4]})\n",
    "    M_plus = np.array(M_plus, dtype='float64')\n",
    "\n",
    "    # Calculate speed for after impact: M+ * dq+ = M- * dq- --> dq+ = ((M+)^-1) * (M- * dq-)\n",
    "    momentum_minus = np.dot(M_minus, dq_minus)\n",
    "    M_plus_inv = np.linalg.inv(M_plus)\n",
    "    dq_plus = np.dot(M_plus_inv, momentum_minus)\n",
    "\n",
    "    #print('dq minus:' + f'{dq_minus}')\n",
    "    #print('dq plus:' + f'{dq_plus}')\n",
    "\n",
    "    return q_plus, dq_plus, M_plus_sym, C_plus_sym, joint_plus_sym"
   ]
  },
  {
   "cell_type": "markdown",
   "metadata": {},
   "source": [
    "## Working Simulation with heel strike impact"
   ]
  },
  {
   "cell_type": "code",
   "execution_count": 25,
   "metadata": {},
   "outputs": [
    {
     "name": "stdout",
     "output_type": "stream",
     "text": [
      "%100\n",
      "Segundo pie en suelo!!!\n",
      "\n",
      "%100\n",
      "Segundo pie en suelo!!!\n",
      "\n"
     ]
    }
   ],
   "source": [
    "######### NO INPUT SIMULATION WITH HEEL STRIKE IMPACT #########\n",
    "\n",
    "step_number = 2                             # Define number of desired steps to be simulated\n",
    "\n",
    "# Initial conditions for first step\n",
    "q0 = q_0\n",
    "dq0 = np.array([0, 0, 0, 0, 0])\n",
    "x0 = np.hstack([q0, dq0])\n",
    "x = x0\n",
    "\n",
    "############################ ERROR ############################\n",
    "##### Value for x0 is changing when is called by function #####\n",
    "##### When x0 is defined above, values are as indicated   #####\n",
    "##### When called by the function, x0 changes slightly    #####\n",
    "\n",
    "solving_time = [0, 1, 0.02]                 # Time interval = [Starting time, Ending Time, Step Size]\n",
    "u = ControlledInputs([0,0,0,0,0])           # Inputs\n",
    "i = 0                                       # Initialize step counter\n",
    "\n",
    "while i < step_number:\n",
    "    # Call solver\n",
    "    q_sim, dq_sim, t_array, bodypos = RK45_solver(solving_time, x, u, M, C, joint_order)\n",
    "\n",
    "    # When solver has finished, it means free foot has touched the ground, so matrices must be changed\n",
    "    qplus, dqplus, Mplus, Cplus, jointplus = change_of_leg(q_sim, dq_sim, M, C, joint_order)\n",
    "\n",
    "    # Next state\n",
    "    x = np.hstack([qplus, dqplus])\n",
    "\n",
    "    # New matrices with coordinate change\n",
    "    M = Mplus\n",
    "    C = Cplus\n",
    "\n",
    "    # Stack values if it is not the first step (i < 0)\n",
    "    if i > 0:\n",
    "        q_sim_acc = np.vstack([q_sim_acc, q_sim])\n",
    "        dq_sim_acc = np.vstack([dq_sim_acc, dq_sim])\n",
    "        t_array_acc = np.hstack([t_array_acc, (t_array + t_array_acc[-1])])\n",
    "        last_pos_x = body_x_acc[-1]\n",
    "        body_x_acc = np.vstack([body_x_acc, bodypos[0] + last_pos_x[-1]])\n",
    "        body_y_acc = np.vstack([body_y_acc, bodypos[1]])\n",
    "    else:\n",
    "        q_sim_acc = q_sim\n",
    "        dq_sim_acc = dq_sim\n",
    "        t_array_acc = t_array\n",
    "        body_x_acc = bodypos[0]\n",
    "        body_y_acc = bodypos[1]\n",
    "\n",
    "    # Add step\n",
    "    i = i + 1\n",
    "\n",
    "last_x = body_x_acc[-1]\n",
    "body_x_corrected = last_x - last_x[-1]      # Correction of last position of the body\n",
    "\n",
    "# Save values in external files\n",
    "np.save('q.npy', q_sim_acc)\n",
    "np.save('dq.npy', dq_sim_acc)\n",
    "np.save('time.npy', t_array_acc)\n",
    "np.save('body_position_x.npy', body_x_acc)\n",
    "np.save('body_position_y.npy', body_y_acc)"
   ]
  },
  {
   "cell_type": "code",
   "execution_count": 26,
   "metadata": {},
   "outputs": [
    {
     "data": {
      "image/png": "[encoded data removed]",
      "text/plain": [
       "<Figure size 640x480 with 2 Axes>"
      ]
     },
     "metadata": {},
     "output_type": "display_data"
    },
    {
     "name": "stderr",
     "output_type": "stream",
     "text": [
      "MovieWriter ffmpeg unavailable; using Pillow instead.\n"
     ]
    }
   ],
   "source": [
    "# Animate resulting body\n",
    "animate_pendulum(t_array_acc, body_x_acc, body_y_acc, q_sim_acc, length)"
   ]
  },
  {
   "cell_type": "markdown",
   "metadata": {},
   "source": [
    "## Constraint value problem"
   ]
  },
  {
   "cell_type": "code",
   "execution_count": 29,
   "metadata": {},
   "outputs": [
    {
     "ename": "RuntimeError",
     "evalue": ".../casadi/core/mx_node.cpp:386: 'to_double' not defined for class N6casadi16GetNonzerosSliceE",
     "output_type": "error",
     "traceback": [
      "\u001b[1;31m---------------------------------------------------------------------------\u001b[0m",
      "\u001b[1;31mRuntimeError\u001b[0m                              Traceback (most recent call last)",
      "\u001b[1;32m~\\AppData\\Local\\Temp\\ipykernel_27000\\186284185.py\u001b[0m in \u001b[0;36m?\u001b[1;34m()\u001b[0m\n\u001b[0;32m     45\u001b[0m \u001b[1;33m\u001b[0m\u001b[0m\n\u001b[0;32m     46\u001b[0m \u001b[1;31m# Loop over control intervals with Runge-Kutta 4 solver\u001b[0m\u001b[1;33m\u001b[0m\u001b[1;33m\u001b[0m\u001b[0m\n\u001b[0;32m     47\u001b[0m \u001b[1;32mfor\u001b[0m \u001b[0mk\u001b[0m \u001b[1;32min\u001b[0m \u001b[0mrange\u001b[0m\u001b[1;33m(\u001b[0m\u001b[0mN\u001b[0m\u001b[1;33m)\u001b[0m\u001b[1;33m:\u001b[0m\u001b[1;33m\u001b[0m\u001b[1;33m\u001b[0m\u001b[0m\n\u001b[0;32m     48\u001b[0m    \u001b[1;31m# Simulate possible responses\u001b[0m\u001b[1;33m\u001b[0m\u001b[1;33m\u001b[0m\u001b[0m\n\u001b[1;32m---> 49\u001b[1;33m    \u001b[0mk1\u001b[0m \u001b[1;33m=\u001b[0m \u001b[0mopenloop\u001b[0m\u001b[1;33m(\u001b[0m\u001b[0mX\u001b[0m\u001b[1;33m,\u001b[0m \u001b[0mT\u001b[0m\u001b[1;33m,\u001b[0m \u001b[0mU\u001b[0m\u001b[1;33m,\u001b[0m \u001b[0mM\u001b[0m\u001b[1;33m,\u001b[0m \u001b[0mC\u001b[0m\u001b[1;33m)\u001b[0m\u001b[1;33m\u001b[0m\u001b[1;33m\u001b[0m\u001b[0m\n\u001b[0m\u001b[0;32m     50\u001b[0m    \u001b[0mk2\u001b[0m \u001b[1;33m=\u001b[0m \u001b[0mopenloop\u001b[0m\u001b[1;33m(\u001b[0m\u001b[0mX\u001b[0m \u001b[1;33m+\u001b[0m \u001b[0mdt\u001b[0m\u001b[1;33m*\u001b[0m\u001b[1;33m(\u001b[0m\u001b[0mk1\u001b[0m\u001b[1;33m/\u001b[0m\u001b[1;36m2\u001b[0m\u001b[1;33m)\u001b[0m\u001b[1;33m,\u001b[0m \u001b[0mT\u001b[0m\u001b[1;33m+\u001b[0m\u001b[1;33m(\u001b[0m\u001b[0mdt\u001b[0m\u001b[1;33m/\u001b[0m\u001b[1;36m2\u001b[0m\u001b[1;33m)\u001b[0m\u001b[1;33m,\u001b[0m \u001b[0mU\u001b[0m\u001b[1;33m,\u001b[0m \u001b[0mM\u001b[0m\u001b[1;33m,\u001b[0m \u001b[0mC\u001b[0m\u001b[1;33m)\u001b[0m\u001b[1;33m\u001b[0m\u001b[1;33m\u001b[0m\u001b[0m\n\u001b[0;32m     51\u001b[0m    \u001b[0mk3\u001b[0m \u001b[1;33m=\u001b[0m \u001b[0mopenloop\u001b[0m\u001b[1;33m(\u001b[0m\u001b[0mX\u001b[0m \u001b[1;33m+\u001b[0m \u001b[0mdt\u001b[0m\u001b[1;33m*\u001b[0m\u001b[1;33m(\u001b[0m\u001b[0mk2\u001b[0m\u001b[1;33m/\u001b[0m\u001b[1;36m2\u001b[0m\u001b[1;33m)\u001b[0m\u001b[1;33m,\u001b[0m \u001b[0mT\u001b[0m\u001b[1;33m+\u001b[0m\u001b[1;33m(\u001b[0m\u001b[0mdt\u001b[0m\u001b[1;33m/\u001b[0m\u001b[1;36m2\u001b[0m\u001b[1;33m)\u001b[0m\u001b[1;33m,\u001b[0m \u001b[0mU\u001b[0m\u001b[1;33m,\u001b[0m \u001b[0mM\u001b[0m\u001b[1;33m,\u001b[0m \u001b[0mC\u001b[0m\u001b[1;33m)\u001b[0m\u001b[1;33m\u001b[0m\u001b[1;33m\u001b[0m\u001b[0m\n\u001b[0;32m     52\u001b[0m    \u001b[0mk4\u001b[0m \u001b[1;33m=\u001b[0m \u001b[0mopenloop\u001b[0m\u001b[1;33m(\u001b[0m\u001b[0mX\u001b[0m \u001b[1;33m+\u001b[0m \u001b[0mdt\u001b[0m\u001b[1;33m*\u001b[0m\u001b[0mk3\u001b[0m\u001b[1;33m,\u001b[0m \u001b[0mT\u001b[0m\u001b[1;33m+\u001b[0m\u001b[0mdt\u001b[0m\u001b[1;33m,\u001b[0m \u001b[0mU\u001b[0m\u001b[1;33m,\u001b[0m \u001b[0mM\u001b[0m\u001b[1;33m,\u001b[0m \u001b[0mC\u001b[0m\u001b[1;33m)\u001b[0m\u001b[1;33m\u001b[0m\u001b[1;33m\u001b[0m\u001b[0m\n",
      "\u001b[1;32m~\\AppData\\Local\\Temp\\ipykernel_27000\\300912981.py\u001b[0m in \u001b[0;36m?\u001b[1;34m(x, t, u, M, C)\u001b[0m\n\u001b[0;32m      2\u001b[0m \u001b[1;32mdef\u001b[0m \u001b[0mopenloop\u001b[0m\u001b[1;33m(\u001b[0m\u001b[0mx\u001b[0m\u001b[1;33m,\u001b[0m \u001b[0mt\u001b[0m\u001b[1;33m,\u001b[0m \u001b[0mu\u001b[0m\u001b[1;33m,\u001b[0m \u001b[0mM\u001b[0m\u001b[1;33m,\u001b[0m \u001b[0mC\u001b[0m\u001b[1;33m)\u001b[0m\u001b[1;33m:\u001b[0m\u001b[1;33m\u001b[0m\u001b[1;33m\u001b[0m\u001b[0m\n\u001b[0;32m      3\u001b[0m     \u001b[0mq\u001b[0m\u001b[1;33m,\u001b[0m \u001b[0mdq\u001b[0m \u001b[1;33m=\u001b[0m \u001b[0mx\u001b[0m\u001b[1;33m[\u001b[0m\u001b[1;33m:\u001b[0m\u001b[1;36m5\u001b[0m\u001b[1;33m]\u001b[0m\u001b[1;33m,\u001b[0m\u001b[0mx\u001b[0m\u001b[1;33m[\u001b[0m\u001b[1;36m5\u001b[0m\u001b[1;33m:\u001b[0m\u001b[1;33m]\u001b[0m                 \u001b[1;31m# First set desired state\u001b[0m\u001b[1;33m\u001b[0m\u001b[1;33m\u001b[0m\u001b[0m\n\u001b[0;32m      4\u001b[0m \u001b[1;33m\u001b[0m\u001b[0m\n\u001b[0;32m      5\u001b[0m     \u001b[1;31m# Substitute mass matrix\u001b[0m\u001b[1;33m\u001b[0m\u001b[1;33m\u001b[0m\u001b[0m\n\u001b[1;32m----> 6\u001b[1;33m     \u001b[0mM\u001b[0m \u001b[1;33m=\u001b[0m \u001b[0mM\u001b[0m\u001b[1;33m.\u001b[0m\u001b[0msubs\u001b[0m\u001b[1;33m(\u001b[0m\u001b[1;33m{\u001b[0m\u001b[0mq1\u001b[0m\u001b[1;33m:\u001b[0m \u001b[0mq\u001b[0m\u001b[1;33m[\u001b[0m\u001b[1;36m0\u001b[0m\u001b[1;33m]\u001b[0m\u001b[1;33m,\u001b[0m \u001b[0mq2\u001b[0m\u001b[1;33m:\u001b[0m \u001b[0mq\u001b[0m\u001b[1;33m[\u001b[0m\u001b[1;36m1\u001b[0m\u001b[1;33m]\u001b[0m\u001b[1;33m,\u001b[0m \u001b[0mq3\u001b[0m\u001b[1;33m:\u001b[0m \u001b[0mq\u001b[0m\u001b[1;33m[\u001b[0m\u001b[1;36m2\u001b[0m\u001b[1;33m]\u001b[0m\u001b[1;33m,\u001b[0m \u001b[0mq4\u001b[0m\u001b[1;33m:\u001b[0m \u001b[0mq\u001b[0m\u001b[1;33m[\u001b[0m\u001b[1;36m3\u001b[0m\u001b[1;33m]\u001b[0m\u001b[1;33m,\u001b[0m \u001b[0mq5\u001b[0m\u001b[1;33m:\u001b[0m \u001b[0mq\u001b[0m\u001b[1;33m[\u001b[0m\u001b[1;36m4\u001b[0m\u001b[1;33m]\u001b[0m\u001b[1;33m}\u001b[0m\u001b[1;33m)\u001b[0m\u001b[1;33m\u001b[0m\u001b[1;33m\u001b[0m\u001b[0m\n\u001b[0m\u001b[0;32m      7\u001b[0m     \u001b[0mM\u001b[0m \u001b[1;33m=\u001b[0m \u001b[0mnp\u001b[0m\u001b[1;33m.\u001b[0m\u001b[0marray\u001b[0m\u001b[1;33m(\u001b[0m\u001b[0mM\u001b[0m\u001b[1;33m,\u001b[0m \u001b[0mdtype\u001b[0m\u001b[1;33m=\u001b[0m\u001b[1;34m'float64'\u001b[0m\u001b[1;33m)\u001b[0m\u001b[1;33m\u001b[0m\u001b[1;33m\u001b[0m\u001b[0m\n\u001b[0;32m      8\u001b[0m \u001b[1;33m\u001b[0m\u001b[0m\n\u001b[0;32m      9\u001b[0m     \u001b[1;31m# Substitute vector matrix\u001b[0m\u001b[1;33m\u001b[0m\u001b[1;33m\u001b[0m\u001b[0m\n",
      "\u001b[1;32mc:\\Users\\uamen\\AppData\\Local\\Programs\\Python\\Python311\\Lib\\site-packages\\sympy\\matrices\\common.py\u001b[0m in \u001b[0;36m?\u001b[1;34m(self, *args, **kwargs)\u001b[0m\n\u001b[0;32m   2353\u001b[0m \u001b[1;33m\u001b[0m\u001b[0m\n\u001b[0;32m   2354\u001b[0m         \u001b[1;32mif\u001b[0m \u001b[0mlen\u001b[0m\u001b[1;33m(\u001b[0m\u001b[0margs\u001b[0m\u001b[1;33m)\u001b[0m \u001b[1;33m==\u001b[0m \u001b[1;36m1\u001b[0m \u001b[1;32mand\u001b[0m  \u001b[1;32mnot\u001b[0m \u001b[0misinstance\u001b[0m\u001b[1;33m(\u001b[0m\u001b[0margs\u001b[0m\u001b[1;33m[\u001b[0m\u001b[1;36m0\u001b[0m\u001b[1;33m]\u001b[0m\u001b[1;33m,\u001b[0m \u001b[1;33m(\u001b[0m\u001b[0mdict\u001b[0m\u001b[1;33m,\u001b[0m \u001b[0mset\u001b[0m\u001b[1;33m)\u001b[0m\u001b[1;33m)\u001b[0m \u001b[1;32mand\u001b[0m \u001b[0miter\u001b[0m\u001b[1;33m(\u001b[0m\u001b[0margs\u001b[0m\u001b[1;33m[\u001b[0m\u001b[1;36m0\u001b[0m\u001b[1;33m]\u001b[0m\u001b[1;33m)\u001b[0m \u001b[1;32mand\u001b[0m \u001b[1;32mnot\u001b[0m \u001b[0mis_sequence\u001b[0m\u001b[1;33m(\u001b[0m\u001b[0margs\u001b[0m\u001b[1;33m[\u001b[0m\u001b[1;36m0\u001b[0m\u001b[1;33m]\u001b[0m\u001b[1;33m)\u001b[0m\u001b[1;33m:\u001b[0m\u001b[1;33m\u001b[0m\u001b[1;33m\u001b[0m\u001b[0m\n\u001b[0;32m   2355\u001b[0m             \u001b[0margs\u001b[0m \u001b[1;33m=\u001b[0m \u001b[1;33m(\u001b[0m\u001b[0mlist\u001b[0m\u001b[1;33m(\u001b[0m\u001b[0margs\u001b[0m\u001b[1;33m[\u001b[0m\u001b[1;36m0\u001b[0m\u001b[1;33m]\u001b[0m\u001b[1;33m)\u001b[0m\u001b[1;33m,\u001b[0m\u001b[1;33m)\u001b[0m\u001b[1;33m\u001b[0m\u001b[1;33m\u001b[0m\u001b[0m\n\u001b[0;32m   2356\u001b[0m \u001b[1;33m\u001b[0m\u001b[0m\n\u001b[1;32m-> 2357\u001b[1;33m         \u001b[1;32mreturn\u001b[0m \u001b[0mself\u001b[0m\u001b[1;33m.\u001b[0m\u001b[0mapplyfunc\u001b[0m\u001b[1;33m(\u001b[0m\u001b[1;32mlambda\u001b[0m \u001b[0mx\u001b[0m\u001b[1;33m:\u001b[0m \u001b[0mx\u001b[0m\u001b[1;33m.\u001b[0m\u001b[0msubs\u001b[0m\u001b[1;33m(\u001b[0m\u001b[1;33m*\u001b[0m\u001b[0margs\u001b[0m\u001b[1;33m,\u001b[0m \u001b[1;33m**\u001b[0m\u001b[0mkwargs\u001b[0m\u001b[1;33m)\u001b[0m\u001b[1;33m)\u001b[0m\u001b[1;33m\u001b[0m\u001b[1;33m\u001b[0m\u001b[0m\n\u001b[0m",
      "\u001b[1;32mc:\\Users\\uamen\\AppData\\Local\\Programs\\Python\\Python311\\Lib\\site-packages\\sympy\\matrices\\common.py\u001b[0m in \u001b[0;36m?\u001b[1;34m(self, f)\u001b[0m\n\u001b[0;32m   1985\u001b[0m         \"\"\"\n\u001b[0;32m   1986\u001b[0m         \u001b[1;32mif\u001b[0m \u001b[1;32mnot\u001b[0m \u001b[0mcallable\u001b[0m\u001b[1;33m(\u001b[0m\u001b[0mf\u001b[0m\u001b[1;33m)\u001b[0m\u001b[1;33m:\u001b[0m\u001b[1;33m\u001b[0m\u001b[1;33m\u001b[0m\u001b[0m\n\u001b[0;32m   1987\u001b[0m             \u001b[1;32mraise\u001b[0m \u001b[0mTypeError\u001b[0m\u001b[1;33m(\u001b[0m\u001b[1;34m\"`f` must be callable.\"\u001b[0m\u001b[1;33m)\u001b[0m\u001b[1;33m\u001b[0m\u001b[1;33m\u001b[0m\u001b[0m\n\u001b[0;32m   1988\u001b[0m \u001b[1;33m\u001b[0m\u001b[0m\n\u001b[1;32m-> 1989\u001b[1;33m         \u001b[1;32mreturn\u001b[0m \u001b[0mself\u001b[0m\u001b[1;33m.\u001b[0m\u001b[0m_eval_applyfunc\u001b[0m\u001b[1;33m(\u001b[0m\u001b[0mf\u001b[0m\u001b[1;33m)\u001b[0m\u001b[1;33m\u001b[0m\u001b[1;33m\u001b[0m\u001b[0m\n\u001b[0m",
      "\u001b[1;32mc:\\Users\\uamen\\AppData\\Local\\Programs\\Python\\Python311\\Lib\\site-packages\\sympy\\matrices\\common.py\u001b[0m in \u001b[0;36m?\u001b[1;34m(self, f)\u001b[0m\n\u001b[0;32m   1930\u001b[0m     \u001b[1;32mdef\u001b[0m \u001b[0m_eval_applyfunc\u001b[0m\u001b[1;33m(\u001b[0m\u001b[0mself\u001b[0m\u001b[1;33m,\u001b[0m \u001b[0mf\u001b[0m\u001b[1;33m)\u001b[0m\u001b[1;33m:\u001b[0m\u001b[1;33m\u001b[0m\u001b[1;33m\u001b[0m\u001b[0m\n\u001b[1;32m-> 1931\u001b[1;33m         \u001b[0mout\u001b[0m \u001b[1;33m=\u001b[0m \u001b[0mself\u001b[0m\u001b[1;33m.\u001b[0m\u001b[0m_new\u001b[0m\u001b[1;33m(\u001b[0m\u001b[0mself\u001b[0m\u001b[1;33m.\u001b[0m\u001b[0mrows\u001b[0m\u001b[1;33m,\u001b[0m \u001b[0mself\u001b[0m\u001b[1;33m.\u001b[0m\u001b[0mcols\u001b[0m\u001b[1;33m,\u001b[0m \u001b[1;33m[\u001b[0m\u001b[0mf\u001b[0m\u001b[1;33m(\u001b[0m\u001b[0mx\u001b[0m\u001b[1;33m)\u001b[0m \u001b[1;32mfor\u001b[0m \u001b[0mx\u001b[0m \u001b[1;32min\u001b[0m \u001b[0mself\u001b[0m\u001b[1;33m]\u001b[0m\u001b[1;33m)\u001b[0m\u001b[1;33m\u001b[0m\u001b[1;33m\u001b[0m\u001b[0m\n\u001b[0m\u001b[0;32m   1932\u001b[0m         \u001b[1;32mreturn\u001b[0m \u001b[0mout\u001b[0m\u001b[1;33m\u001b[0m\u001b[1;33m\u001b[0m\u001b[0m\n",
      "\u001b[1;32mc:\\Users\\uamen\\AppData\\Local\\Programs\\Python\\Python311\\Lib\\site-packages\\sympy\\matrices\\common.py\u001b[0m in \u001b[0;36m?\u001b[1;34m(.0)\u001b[0m\n\u001b[1;32m-> 1931\u001b[1;33m     \u001b[1;32mdef\u001b[0m \u001b[0m_eval_applyfunc\u001b[0m\u001b[1;33m(\u001b[0m\u001b[0mself\u001b[0m\u001b[1;33m,\u001b[0m \u001b[0mf\u001b[0m\u001b[1;33m)\u001b[0m\u001b[1;33m:\u001b[0m\u001b[1;33m\u001b[0m\u001b[1;33m\u001b[0m\u001b[0m\n\u001b[0m\u001b[0;32m   1932\u001b[0m         \u001b[0mout\u001b[0m \u001b[1;33m=\u001b[0m \u001b[0mself\u001b[0m\u001b[1;33m.\u001b[0m\u001b[0m_new\u001b[0m\u001b[1;33m(\u001b[0m\u001b[0mself\u001b[0m\u001b[1;33m.\u001b[0m\u001b[0mrows\u001b[0m\u001b[1;33m,\u001b[0m \u001b[0mself\u001b[0m\u001b[1;33m.\u001b[0m\u001b[0mcols\u001b[0m\u001b[1;33m,\u001b[0m \u001b[1;33m[\u001b[0m\u001b[0mf\u001b[0m\u001b[1;33m(\u001b[0m\u001b[0mx\u001b[0m\u001b[1;33m)\u001b[0m \u001b[1;32mfor\u001b[0m \u001b[0mx\u001b[0m \u001b[1;32min\u001b[0m \u001b[0mself\u001b[0m\u001b[1;33m]\u001b[0m\u001b[1;33m)\u001b[0m\u001b[1;33m\u001b[0m\u001b[1;33m\u001b[0m\u001b[0m\n\u001b[0;32m   1933\u001b[0m         \u001b[1;32mreturn\u001b[0m \u001b[0mout\u001b[0m\u001b[1;33m\u001b[0m\u001b[1;33m\u001b[0m\u001b[0m\n",
      "\u001b[1;32mc:\\Users\\uamen\\AppData\\Local\\Programs\\Python\\Python311\\Lib\\site-packages\\sympy\\matrices\\common.py\u001b[0m in \u001b[0;36m?\u001b[1;34m(x)\u001b[0m\n\u001b[1;32m-> 2357\u001b[1;33m         \u001b[1;32mreturn\u001b[0m \u001b[0mself\u001b[0m\u001b[1;33m.\u001b[0m\u001b[0mapplyfunc\u001b[0m\u001b[1;33m(\u001b[0m\u001b[1;32mlambda\u001b[0m \u001b[0mx\u001b[0m\u001b[1;33m:\u001b[0m \u001b[0mx\u001b[0m\u001b[1;33m.\u001b[0m\u001b[0msubs\u001b[0m\u001b[1;33m(\u001b[0m\u001b[1;33m*\u001b[0m\u001b[0margs\u001b[0m\u001b[1;33m,\u001b[0m \u001b[1;33m**\u001b[0m\u001b[0mkwargs\u001b[0m\u001b[1;33m)\u001b[0m\u001b[1;33m)\u001b[0m\u001b[1;33m\u001b[0m\u001b[1;33m\u001b[0m\u001b[0m\n\u001b[0m",
      "\u001b[1;32mc:\\Users\\uamen\\AppData\\Local\\Programs\\Python\\Python311\\Lib\\site-packages\\sympy\\core\\basic.py\u001b[0m in \u001b[0;36m?\u001b[1;34m(self, *args, **kwargs)\u001b[0m\n\u001b[0;32m    987\u001b[0m                 \u001b[1;32mreturn\u001b[0m \u001b[0msympify\u001b[0m\u001b[1;33m(\u001b[0m\u001b[0mnew\u001b[0m\u001b[1;33m,\u001b[0m \u001b[0mstrict\u001b[0m\u001b[1;33m=\u001b[0m\u001b[1;32mFalse\u001b[0m\u001b[1;33m)\u001b[0m\u001b[1;33m\u001b[0m\u001b[1;33m\u001b[0m\u001b[0m\n\u001b[0;32m    988\u001b[0m             \u001b[1;32melse\u001b[0m\u001b[1;33m:\u001b[0m\u001b[1;33m\u001b[0m\u001b[1;33m\u001b[0m\u001b[0m\n\u001b[0;32m    989\u001b[0m                 \u001b[1;32mreturn\u001b[0m \u001b[0msympify\u001b[0m\u001b[1;33m(\u001b[0m\u001b[0mnew\u001b[0m\u001b[1;33m,\u001b[0m \u001b[0mstrict\u001b[0m\u001b[1;33m=\u001b[0m\u001b[1;32mTrue\u001b[0m\u001b[1;33m)\u001b[0m\u001b[1;33m\u001b[0m\u001b[1;33m\u001b[0m\u001b[0m\n\u001b[0;32m    990\u001b[0m \u001b[1;33m\u001b[0m\u001b[0m\n\u001b[1;32m--> 991\u001b[1;33m         \u001b[0msequence\u001b[0m \u001b[1;33m=\u001b[0m \u001b[1;33m[\u001b[0m\u001b[1;33m(\u001b[0m\u001b[0msympify_old\u001b[0m\u001b[1;33m(\u001b[0m\u001b[0ms1\u001b[0m\u001b[1;33m)\u001b[0m\u001b[1;33m,\u001b[0m \u001b[0msympify_new\u001b[0m\u001b[1;33m(\u001b[0m\u001b[0ms2\u001b[0m\u001b[1;33m)\u001b[0m\u001b[1;33m)\u001b[0m \u001b[1;32mfor\u001b[0m \u001b[0ms1\u001b[0m\u001b[1;33m,\u001b[0m \u001b[0ms2\u001b[0m \u001b[1;32min\u001b[0m \u001b[0msequence\u001b[0m\u001b[1;33m]\u001b[0m\u001b[1;33m\u001b[0m\u001b[1;33m\u001b[0m\u001b[0m\n\u001b[0m\u001b[0;32m    992\u001b[0m \u001b[1;33m\u001b[0m\u001b[0m\n\u001b[0;32m    993\u001b[0m         \u001b[1;31m# skip if there is no change\u001b[0m\u001b[1;33m\u001b[0m\u001b[1;33m\u001b[0m\u001b[0m\n\u001b[0;32m    994\u001b[0m         \u001b[0msequence\u001b[0m \u001b[1;33m=\u001b[0m \u001b[1;33m[\u001b[0m\u001b[1;33m(\u001b[0m\u001b[0ms1\u001b[0m\u001b[1;33m,\u001b[0m \u001b[0ms2\u001b[0m\u001b[1;33m)\u001b[0m \u001b[1;32mfor\u001b[0m \u001b[0ms1\u001b[0m\u001b[1;33m,\u001b[0m \u001b[0ms2\u001b[0m \u001b[1;32min\u001b[0m \u001b[0msequence\u001b[0m \u001b[1;32mif\u001b[0m \u001b[1;32mnot\u001b[0m \u001b[0m_aresame\u001b[0m\u001b[1;33m(\u001b[0m\u001b[0ms1\u001b[0m\u001b[1;33m,\u001b[0m \u001b[0ms2\u001b[0m\u001b[1;33m)\u001b[0m\u001b[1;33m]\u001b[0m\u001b[1;33m\u001b[0m\u001b[1;33m\u001b[0m\u001b[0m\n",
      "\u001b[1;32mc:\\Users\\uamen\\AppData\\Local\\Programs\\Python\\Python311\\Lib\\site-packages\\sympy\\core\\basic.py\u001b[0m in \u001b[0;36m?\u001b[1;34m(.0)\u001b[0m\n\u001b[1;32m--> 991\u001b[1;33m         \u001b[1;32mdef\u001b[0m \u001b[0msympify_new\u001b[0m\u001b[1;33m(\u001b[0m\u001b[0mnew\u001b[0m\u001b[1;33m)\u001b[0m\u001b[1;33m:\u001b[0m\u001b[1;33m\u001b[0m\u001b[1;33m\u001b[0m\u001b[0m\n\u001b[0m\u001b[0;32m    992\u001b[0m             \u001b[1;32mif\u001b[0m \u001b[0misinstance\u001b[0m\u001b[1;33m(\u001b[0m\u001b[0mnew\u001b[0m\u001b[1;33m,\u001b[0m \u001b[1;33m(\u001b[0m\u001b[0mstr\u001b[0m\u001b[1;33m,\u001b[0m \u001b[0mtype\u001b[0m\u001b[1;33m)\u001b[0m\u001b[1;33m)\u001b[0m\u001b[1;33m:\u001b[0m\u001b[1;33m\u001b[0m\u001b[1;33m\u001b[0m\u001b[0m\n\u001b[0;32m    993\u001b[0m                 \u001b[1;31m# Allow a type or parse a string input\u001b[0m\u001b[1;33m\u001b[0m\u001b[1;33m\u001b[0m\u001b[0m\n\u001b[0;32m    994\u001b[0m                 \u001b[1;32mreturn\u001b[0m \u001b[0msympify\u001b[0m\u001b[1;33m(\u001b[0m\u001b[0mnew\u001b[0m\u001b[1;33m,\u001b[0m \u001b[0mstrict\u001b[0m\u001b[1;33m=\u001b[0m\u001b[1;32mFalse\u001b[0m\u001b[1;33m)\u001b[0m\u001b[1;33m\u001b[0m\u001b[1;33m\u001b[0m\u001b[0m\n",
      "\u001b[1;32mc:\\Users\\uamen\\AppData\\Local\\Programs\\Python\\Python311\\Lib\\site-packages\\sympy\\core\\basic.py\u001b[0m in \u001b[0;36m?\u001b[1;34m(new)\u001b[0m\n\u001b[0;32m    985\u001b[0m             \u001b[1;32mif\u001b[0m \u001b[0misinstance\u001b[0m\u001b[1;33m(\u001b[0m\u001b[0mnew\u001b[0m\u001b[1;33m,\u001b[0m \u001b[1;33m(\u001b[0m\u001b[0mstr\u001b[0m\u001b[1;33m,\u001b[0m \u001b[0mtype\u001b[0m\u001b[1;33m)\u001b[0m\u001b[1;33m)\u001b[0m\u001b[1;33m:\u001b[0m\u001b[1;33m\u001b[0m\u001b[1;33m\u001b[0m\u001b[0m\n\u001b[0;32m    986\u001b[0m                 \u001b[1;31m# Allow a type or parse a string input\u001b[0m\u001b[1;33m\u001b[0m\u001b[1;33m\u001b[0m\u001b[0m\n\u001b[0;32m    987\u001b[0m                 \u001b[1;32mreturn\u001b[0m \u001b[0msympify\u001b[0m\u001b[1;33m(\u001b[0m\u001b[0mnew\u001b[0m\u001b[1;33m,\u001b[0m \u001b[0mstrict\u001b[0m\u001b[1;33m=\u001b[0m\u001b[1;32mFalse\u001b[0m\u001b[1;33m)\u001b[0m\u001b[1;33m\u001b[0m\u001b[1;33m\u001b[0m\u001b[0m\n\u001b[0;32m    988\u001b[0m             \u001b[1;32melse\u001b[0m\u001b[1;33m:\u001b[0m\u001b[1;33m\u001b[0m\u001b[1;33m\u001b[0m\u001b[0m\n\u001b[1;32m--> 989\u001b[1;33m                 \u001b[1;32mreturn\u001b[0m \u001b[0msympify\u001b[0m\u001b[1;33m(\u001b[0m\u001b[0mnew\u001b[0m\u001b[1;33m,\u001b[0m \u001b[0mstrict\u001b[0m\u001b[1;33m=\u001b[0m\u001b[1;32mTrue\u001b[0m\u001b[1;33m)\u001b[0m\u001b[1;33m\u001b[0m\u001b[1;33m\u001b[0m\u001b[0m\n\u001b[0m",
      "\u001b[1;32mc:\\Users\\uamen\\AppData\\Local\\Programs\\Python\\Python311\\Lib\\site-packages\\sympy\\core\\sympify.py\u001b[0m in \u001b[0;36m?\u001b[1;34m(a, locals, convert_xor, strict, rational, evaluate)\u001b[0m\n\u001b[0;32m    441\u001b[0m             \u001b[1;31m# element.  See issue https://github.com/numpy/numpy/issues/10404.\u001b[0m\u001b[1;33m\u001b[0m\u001b[1;33m\u001b[0m\u001b[0m\n\u001b[0;32m    442\u001b[0m             \u001b[1;32mfor\u001b[0m \u001b[0mcoerce\u001b[0m \u001b[1;32min\u001b[0m \u001b[1;33m(\u001b[0m\u001b[0mfloat\u001b[0m\u001b[1;33m,\u001b[0m \u001b[0mint\u001b[0m\u001b[1;33m)\u001b[0m\u001b[1;33m:\u001b[0m\u001b[1;33m\u001b[0m\u001b[1;33m\u001b[0m\u001b[0m\n\u001b[0;32m    443\u001b[0m                 \u001b[1;32mtry\u001b[0m\u001b[1;33m:\u001b[0m\u001b[1;33m\u001b[0m\u001b[1;33m\u001b[0m\u001b[0m\n\u001b[0;32m    444\u001b[0m                     \u001b[1;32mreturn\u001b[0m \u001b[0msympify\u001b[0m\u001b[1;33m(\u001b[0m\u001b[0mcoerce\u001b[0m\u001b[1;33m(\u001b[0m\u001b[0ma\u001b[0m\u001b[1;33m)\u001b[0m\u001b[1;33m)\u001b[0m\u001b[1;33m\u001b[0m\u001b[1;33m\u001b[0m\u001b[0m\n\u001b[1;32m--> 445\u001b[1;33m                 \u001b[1;32mexcept\u001b[0m \u001b[1;33m(\u001b[0m\u001b[0mTypeError\u001b[0m\u001b[1;33m,\u001b[0m \u001b[0mValueError\u001b[0m\u001b[1;33m,\u001b[0m \u001b[0mAttributeError\u001b[0m\u001b[1;33m,\u001b[0m \u001b[0mSympifyError\u001b[0m\u001b[1;33m)\u001b[0m\u001b[1;33m:\u001b[0m\u001b[1;33m\u001b[0m\u001b[1;33m\u001b[0m\u001b[0m\n\u001b[0m\u001b[0;32m    446\u001b[0m                     \u001b[1;32mcontinue\u001b[0m\u001b[1;33m\u001b[0m\u001b[1;33m\u001b[0m\u001b[0m\n\u001b[0;32m    447\u001b[0m \u001b[1;33m\u001b[0m\u001b[0m\n\u001b[0;32m    448\u001b[0m     \u001b[1;32mif\u001b[0m \u001b[0mstrict\u001b[0m\u001b[1;33m:\u001b[0m\u001b[1;33m\u001b[0m\u001b[1;33m\u001b[0m\u001b[0m\n",
      "\u001b[1;32mc:\\Users\\uamen\\AppData\\Local\\Programs\\Python\\Python311\\Lib\\site-packages\\casadi\\casadi.py\u001b[0m in \u001b[0;36m?\u001b[1;34m(self, *args)\u001b[0m\n\u001b[0;32m  14296\u001b[0m \u001b[1;33m\u001b[0m\u001b[0m\n\u001b[0;32m  14297\u001b[0m \u001b[1;33m\u001b[0m\u001b[0m\n\u001b[0;32m  14298\u001b[0m \u001b[1;33m\u001b[0m\u001b[0m\n\u001b[0;32m  14299\u001b[0m         \"\"\"\n\u001b[1;32m> 14300\u001b[1;33m         \u001b[1;32mreturn\u001b[0m \u001b[0m_casadi\u001b[0m\u001b[1;33m.\u001b[0m\u001b[0mMX___float__\u001b[0m\u001b[1;33m(\u001b[0m\u001b[0mself\u001b[0m\u001b[1;33m,\u001b[0m \u001b[1;33m*\u001b[0m\u001b[0margs\u001b[0m\u001b[1;33m)\u001b[0m\u001b[1;33m\u001b[0m\u001b[1;33m\u001b[0m\u001b[0m\n\u001b[0m",
      "\u001b[1;31mRuntimeError\u001b[0m: .../casadi/core/mx_node.cpp:386: 'to_double' not defined for class N6casadi16GetNonzerosSliceE"
     ]
    }
   ],
   "source": [
    "###### DATA #######\n",
    "L = 0.36                    # Step size = 0.8(length of leg) * 0.45(average human step relation factor ) = 0.36\n",
    "T = 0.576                   # Average human step duration = 0.576\n",
    "N = 50                      # Number of control intervals\n",
    "dt = T/N                    # Length of a control interval\n",
    "ang_sp = 0.5                # Starting speed of free leg\n",
    "\n",
    "# Inverse kinematics equations for start and final angles\n",
    "angle_1 = np.pi + math.asin((L / 2) / 0.8)\n",
    "angle_2 = np.pi - math.asin((L / 2) / 0.8)\n",
    "\n",
    "###### OPTIMIZATION PROBLEM ######\n",
    "opti = casadi.Opti()        #Optimization problem\n",
    "\n",
    "# Initial state\n",
    "q_ini = [angle_1, angle_2, 0, 0, 0]       # Initial angles\n",
    "dq_ini = [0 ,0, 0, ang_sp, 0]             # Initial speed\n",
    "x_ini_des = np.hstack([q_ini, dq_ini])    # Initial state\n",
    "pos_x_ini, pos_y_ini = sim_pos(q_ini, joint_order)\n",
    "body_ini = np.vstack([pos_x_ini, pos_y_ini])\n",
    "#print('Initial body state position: ' + f'{body_ini}')\n",
    "#plot(pos_y_ini, pos_x_ini)\n",
    "\n",
    "# Final state\n",
    "q_end = [angle_2, angle_1, 0, 0, 0]       # Final angles\n",
    "dq_end = [0 ,0, 0, -ang_sp, 0]            # Final speed\n",
    "x_end_des = np.hstack([q_end, dq_end])    # Final state\n",
    "pos_x_end, pos_y_end = sim_pos(q_end, joint_order)\n",
    "body_end = np.vstack([pos_x_end, pos_y_end])\n",
    "#print('Final body state position: ' + f'{body_end}')\n",
    "#plot(pos_y_end, pos_x_end)\n",
    "\n",
    "\n",
    "###### Decision variables #######\n",
    "X = opti.variable(10, N+1)    # State\n",
    "pos = X[:5, :]                # Relative angles q\n",
    "speed = X[5:, :]              # Relative velocities dq\n",
    "U = opti.variable(5, N)       # Control trajectory\n",
    "\n",
    "# Cost rate\n",
    "cost = (U[0]**2 + U[1]**2 + U[2]**2 + U[3]**2 + U[4]**2) / 2\n",
    "\n",
    "# Set minimization objective\n",
    "opti.minimize(cost)\n",
    "\n",
    "# Loop over control intervals with Runge-Kutta 4 solver\n",
    "for k in range(N):\n",
    "   # Simulate possible responses\n",
    "   k1 = openloop(X, T, U, M, C)\n",
    "   k2 = openloop(X + dt*(k1/2), T+(dt/2), U, M, C)\n",
    "   k3 = openloop(X + dt*(k2/2), T+(dt/2), U, M, C)\n",
    "   k4 = openloop(X + dt*k3, T+dt, U, M, C)\n",
    "\n",
    "   # Calculate weighted response and save values\n",
    "   x_next = X[:, k] + dt*(k1 + 2*k2 + 2*k3 + k4)/6\n",
    "   q_x_1, dq_x_1 = X[:5, k], X[5:, k]\n",
    "\n",
    "   opti.subject_to(X [:,k+1] == x_next)     # Close the gaps\n",
    "\n",
    "# Boundary conditions and constraints\n",
    "opti.subject_to((X[:, 0] == x_ini_des))     # BC: Initial state\n",
    "opti.subject_to((X[:, N] == x_end_des))     # BC: Final state\n",
    "opti.subject_to(U[:, :] > 0)                   # Input constraint: positive value always\n",
    "\n",
    "# Inital guess for the solver\n",
    "opti.set_initial(X[:], 0)\n",
    "opti.set_initial(U[:], 0)\n",
    "\n",
    "###### Solve the NLP using IPOPT #######\n",
    "opti.solver('ipopt')                        # Set numerical backend\n",
    "sol = opti.solve()                          # Actual solve"
   ]
  }
 ],
 "metadata": {
  "kernelspec": {
   "display_name": ".venv",
   "language": "python",
   "name": "python3"
  },
  "language_info": {
   "codemirror_mode": {
    "name": "ipython",
    "version": 3
   },
   "file_extension": ".py",
   "mimetype": "text/x-python",
   "name": "python",
   "nbconvert_exporter": "python",
   "pygments_lexer": "ipython3",
   "version": "3.11.8"
  }
 },
 "nbformat": 4,
 "nbformat_minor": 2
}
