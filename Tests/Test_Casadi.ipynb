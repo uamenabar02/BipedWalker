{
 "cells": [
  {
   "cell_type": "code",
   "execution_count": 1,
   "metadata": {},
   "outputs": [],
   "source": [
    "from casadi import *"
   ]
  },
  {
   "cell_type": "code",
   "execution_count": 2,
   "metadata": {},
   "outputs": [
    {
     "ename": "SyntaxError",
     "evalue": "invalid syntax (1636158688.py, line 11)",
     "output_type": "error",
     "traceback": [
      "\u001b[1;36m  Cell \u001b[1;32mIn[2], line 11\u001b[1;36m\u001b[0m\n\u001b[1;33m    pos   = X(1,:);\u001b[0m\n\u001b[1;37m                ^\u001b[0m\n\u001b[1;31mSyntaxError\u001b[0m\u001b[1;31m:\u001b[0m invalid syntax\n"
     ]
    }
   ],
   "source": [
    "# CASADI TEST #\n",
    "\n",
    "# Set up the problem\n",
    "N = 100 # number of control intervals\n",
    "\n",
    "opti = casadi.Opti() # Optimization problem\n",
    "\n",
    "# Declare decision variables.\n",
    "\n",
    "X = opti.variable(2,N+1); # state trajectory\n",
    "pos   = X(1,:);\n",
    "speed = X(2,:);\n",
    "U = opti.variable(1,N);   # control trajectory (throttle)\n",
    "T = opti.variable();      # final time\n",
    "\n",
    "# Set the objective.\n",
    "opti.minimize(T) # race in minimal time\n",
    "\n",
    "# Specify system dynamics.\n",
    "f = @(x,u) [x(2);u-x(2)]; # dx/dt = f(x,u)\n",
    "\n",
    "# Create gap closing constraints, picking Runge-Kutta as integration method.\n",
    "\n",
    "dt = T/N # length of a control interval\n",
    "for k in range(N): # loop over control intervals\n",
    "   # Runge-Kutta 4 integration\n",
    "   k1 = f(X(:,k),         U(:,k))\n",
    "   k2 = f(X(:,k)+dt/2*k1, U(:,k))\n",
    "   k3 = f(X(:,k)+dt/2*k2, U(:,k))\n",
    "   k4 = f(X(:,k)+dt*k3,   U(:,k))\n",
    "   x_next = X(:,k) + dt/6*(k1+2*k2+2*k3+k4)\n",
    "   opti.subject_to(X(:,k+1)==x_next) # close the gaps\n",
    "\n",
    "# Set path constraints.\n",
    "\n",
    "limit = @(pos) 1-sin(2*pi*pos)/2\n",
    "opti.subject_to(speed<=limit(pos)) # track speed limit\n",
    "opti.subject_to(0<=U<=1)           # control is limited\n",
    "\n",
    "# Set boundary conditions.\n",
    "opti.subject_to(pos(1)==0)   # start at position 0 ...\n",
    "opti.subject_to(speed(1)==0) # ... from stand-still\n",
    "opti.subject_to(pos(N+1)==1) # finish line at position 1\n",
    "\n",
    "# One extra constraint.\n",
    "opti.subject_to(T>=0) # Time must be positive\n",
    "\n",
    "# Provide initial guesses for the solver:\n",
    "opti.set_initial(speed, 1)\n",
    "opti.set_initial(T, 1)\n",
    "\n",
    "# Solve the NLP using IPOPT\n",
    "opti.solver('ipopt') # set numerical backend\n",
    "sol = opti.solve()   # actual solve\n",
    "\n",
    "# Post processing of the optimal values.\n",
    "plot(sol.value(speed))\n",
    "plot(sol.value(pos))"
   ]
  }
 ],
 "metadata": {
  "kernelspec": {
   "display_name": "Python 3",
   "language": "python",
   "name": "python3"
  },
  "language_info": {
   "codemirror_mode": {
    "name": "ipython",
    "version": 3
   },
   "file_extension": ".py",
   "mimetype": "text/x-python",
   "name": "python",
   "nbconvert_exporter": "python",
   "pygments_lexer": "ipython3",
   "version": "3.11.8"
  }
 },
 "nbformat": 4,
 "nbformat_minor": 2
}
