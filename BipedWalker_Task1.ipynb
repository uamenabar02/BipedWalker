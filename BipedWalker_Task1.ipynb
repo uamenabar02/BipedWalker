{
 "cells": [
  {
   "cell_type": "markdown",
   "metadata": {},
   "source": [
    "# Modeling And Simulating of Dynamical Systems: Biped Walker"
   ]
  },
  {
   "cell_type": "markdown",
   "metadata": {},
   "source": [
    "### Import libraries"
   ]
  },
  {
   "cell_type": "code",
   "execution_count": 30,
   "metadata": {},
   "outputs": [],
   "source": [
    "import sympy as sp\n",
    "import numpy as np\n",
    "from sympy.physics.mechanics import *\n",
    "from numpy import sin, cos, pi\n",
    "from numpy.linalg import inv\n",
    "from scipy.integrate import odeint, solve_bvp, solve_ivp\n",
    "from scipy.interpolate import interp1d\n",
    "from scipy.optimize import minimize, LinearConstraint, NonlinearConstraint, Bounds\n",
    "import matplotlib\n",
    "from matplotlib import pyplot as plt\n",
    "import matplotlib.animation as animation\n",
    "from sympy import atan, symbols, Matrix, Eq, solve\n",
    "from sympy.physics.mechanics import (dynamicsymbols, ReferenceFrame,\n",
    "                                     Particle, Point)\n",
    "import sympy.physics.mechanics.system as system\n",
    "from sympy.physics.vector import init_vprinting\n",
    "import math\n",
    "from casadi import *\n",
    "from casadi.tools import *\n",
    "\n",
    "# Bestekoak be asko redundante ba badaeszpada\n",
    "# imports needed for the code (run this block)\n",
    "import numpy as np\n",
    "import matplotlib\n",
    "from numpy import sin, cos, pi\n",
    "from numpy.linalg import inv\n",
    "from scipy.integrate import odeint, solve_bvp\n",
    "from scipy.interpolate import interp1d\n",
    "from scipy.linalg import inv, solve_continuous_are, norm\n",
    "from matplotlib import pyplot as plt\n",
    "import matplotlib.pyplot as pltpiip\n",
    "from matplotlib import animation\n",
    "from matplotlib.patches import Rectangle\n",
    "import sympy as sp\n",
    "from sympy.physics.mechanics import *\n",
    "from numpy.linalg import inv\n",
    "from scipy.integrate import odeint, solve_bvp\n",
    "from scipy.interpolate import interp1d \n",
    "from scipy.optimize import minimize, LinearConstraint, NonlinearConstraint, Bounds\n",
    "import matplotlib\n",
    "from sympy import atan, symbols, Matrix\n",
    "from sympy.physics.mechanics import (dynamicsymbols, ReferenceFrame,\n",
    "                                     Particle, Point)\n",
    "import sympy.physics.mechanics.system as system\n",
    "from sympy.physics.vector import init_vprinting\n",
    "# matplotlib qt\n",
    "# from animate_pendulum import animate_pendulum\n",
    "# from animate_walker import animate_walker\n",
    "def to_2d(x): return x.reshape(-1, 1)\n",
    "def to_1d(x): return x[:, 0]"
   ]
  },
  {
   "cell_type": "markdown",
   "metadata": {},
   "source": [
    "### Given data"
   ]
  },
  {
   "cell_type": "code",
   "execution_count": 31,
   "metadata": {},
   "outputs": [],
   "source": [
    "## gravity and time\n",
    "t = sp.symbols('t')\n",
    "g = sp.symbols('g')\n",
    "m_tibia = sp.symbols('m_t')\n",
    "m_femur = sp.symbols('m_f')\n",
    "l_tibia = sp.symbols('l_t')\n",
    "l_femur = sp.symbols('l_f')\n",
    "\n",
    "# Declare masses in kg\n",
    "m1 = 6.8\n",
    "m2 = 6.8\n",
    "m3 = 3.2\n",
    "m4 = 3.2\n",
    "m5 = 20\n",
    "\n",
    "mass = [m1, m2, m3, m4, m5]\n",
    "\n",
    "## Declare lengths in m\n",
    "l1 = 0.4 \n",
    "l2 = 0.4\n",
    "l3 = 0.4\n",
    "l4 = 0.4\n",
    "l5 = 0.625\n",
    "\n",
    "length = [l1, l2, l3, l4, l5]\n",
    "\n",
    "## Declare distance to gravity center in m\n",
    "l_r1 = (0.163/0.4)*l1\n",
    "l_r2 = (0.163/0.4)*l2\n",
    "l_r3 = (0.128/0.4)*l3\n",
    "l_r4 = (0.128/0.4)*l4\n",
    "l_r5 = 0.2\n",
    "\n",
    "l_r = [l_r1, l_r2, l_r3, l_r4, l_r5]\n",
    "\n",
    "## Declare inertias in kg*m^2\n",
    "I1 = (1/12)*(m1)*(l1**2)\n",
    "I2 = (1/12)*(m2)*(l2**2)\n",
    "I3 = (1/12)*(m3)*(l3**2)\n",
    "I4 = (1/12)*(m2)*(l4**2)\n",
    "I5 = 2.22\n",
    "\n",
    "inertia = [I1, I2, I3, I4, I5]"
   ]
  },
  {
   "cell_type": "markdown",
   "metadata": {},
   "source": [
    "### Angle + Input definition\n",
    "- Calculus of the angles: q are the relative angles and theta, the absolute ones.\n",
    "- Input: each part of the body is applied an independent torque, simulating a motor.\n"
   ]
  },
  {
   "cell_type": "code",
   "execution_count": 32,
   "metadata": {},
   "outputs": [],
   "source": [
    "# Generate q and input matrix (u) in function of time\n",
    "q1, q2, q3, q4, q5 = dynamicsymbols('q1 q2 q3 q4 q5')\n",
    "q = [q1, q2, q3, q4, q5]\n",
    "\n",
    "u1, u2, u3, u4, u5 = dynamicsymbols('u1 u2 u3 u4 u5')\n",
    "u = [u1, u2, u3, u4, u5]\n",
    "\n",
    "# Calculate the angle of each part of the body in the absolute frame\n",
    "def abs_ang_rad(q):\n",
    "    q1, q2, q3, q4, q5 = q\n",
    "    return np.hstack([\n",
    "        -q5 - q1+ pi,\n",
    "        -q5 - q2 ,\n",
    "        -q5 - q1 + q3+ pi,\n",
    "        -q5 - q2 + q4 ,\n",
    "        -q5,\n",
    "    ])"
   ]
  },
  {
   "cell_type": "markdown",
   "metadata": {},
   "source": [
    "## Kinematics\n",
    "### Position calculation\n",
    "First the relative position of each part of the body is calculated and afterwards the absolute position is calculated by defining a chain of the body parts. All calculations are done in symbolic expressions."
   ]
  },
  {
   "cell_type": "code",
   "execution_count": 33,
   "metadata": {},
   "outputs": [
    {
     "name": "stdout",
     "output_type": "stream",
     "text": [
      "Absolute position of gravity centres:\n",
      "[[-0.237*sin(q1(t) + q5(t) - 3.14159265358979) - 0.4*sin(q1(t) - q3(t) + q5(t) - 3.14159265358979)\n",
      "  -0.237*sin(q2(t) + q5(t)) - 0.4*sin(q1(t) + q5(t) - 3.14159265358979) - 0.4*sin(q1(t) - q3(t) + q5(t) - 3.14159265358979)\n",
      "  -0.272*sin(q1(t) - q3(t) + q5(t) - 3.14159265358979)\n",
      "  -0.4*sin(q2(t) + q5(t)) - 0.4*sin(q1(t) + q5(t) - 3.14159265358979) - 0.272*sin(q2(t) - q4(t) + q5(t)) - 0.4*sin(q1(t) - q3(t) + q5(t) - 3.14159265358979)\n",
      "  -0.4*sin(q1(t) + q5(t) - 3.14159265358979) - 0.4*sin(q1(t) - q3(t) + q5(t) - 3.14159265358979) - 0.425*sin(q5(t))]\n",
      " [0.237*cos(q1(t) + q5(t) - 3.14159265358979) + 0.4*cos(q1(t) - q3(t) + q5(t) - 3.14159265358979)\n",
      "  0.237*cos(q2(t) + q5(t)) + 0.4*cos(q1(t) + q5(t) - 3.14159265358979) + 0.4*cos(q1(t) - q3(t) + q5(t) - 3.14159265358979)\n",
      "  0.272*cos(q1(t) - q3(t) + q5(t) - 3.14159265358979)\n",
      "  0.4*cos(q2(t) + q5(t)) + 0.4*cos(q1(t) + q5(t) - 3.14159265358979) + 0.272*cos(q2(t) - q4(t) + q5(t)) + 0.4*cos(q1(t) - q3(t) + q5(t) - 3.14159265358979)\n",
      "  0.4*cos(q1(t) + q5(t) - 3.14159265358979) + 0.4*cos(q1(t) - q3(t) + q5(t) - 3.14159265358979) + 0.425*cos(q5(t))]] \n",
      "\n",
      "Absolute position of joints:\n",
      "[[-0.4*sin(q1(t) + q5(t) - 3.14159265358979) - 0.4*sin(q1(t) - q3(t) + q5(t) - 3.14159265358979)\n",
      "  -0.4*sin(q2(t) + q5(t)) - 0.4*sin(q1(t) + q5(t) - 3.14159265358979) - 0.4*sin(q1(t) - q3(t) + q5(t) - 3.14159265358979)\n",
      "  -0.4*sin(q1(t) - q3(t) + q5(t) - 3.14159265358979)\n",
      "  -0.4*sin(q2(t) + q5(t)) - 0.4*sin(q1(t) + q5(t) - 3.14159265358979) - 0.4*sin(q2(t) - q4(t) + q5(t)) - 0.4*sin(q1(t) - q3(t) + q5(t) - 3.14159265358979)\n",
      "  -0.4*sin(q1(t) + q5(t) - 3.14159265358979) - 0.4*sin(q1(t) - q3(t) + q5(t) - 3.14159265358979) - 0.625*sin(q5(t))]\n",
      " [0.4*cos(q1(t) + q5(t) - 3.14159265358979) + 0.4*cos(q1(t) - q3(t) + q5(t) - 3.14159265358979)\n",
      "  0.4*cos(q2(t) + q5(t)) + 0.4*cos(q1(t) + q5(t) - 3.14159265358979) + 0.4*cos(q1(t) - q3(t) + q5(t) - 3.14159265358979)\n",
      "  0.4*cos(q1(t) - q3(t) + q5(t) - 3.14159265358979)\n",
      "  0.4*cos(q2(t) + q5(t)) + 0.4*cos(q1(t) + q5(t) - 3.14159265358979) + 0.4*cos(q2(t) - q4(t) + q5(t)) + 0.4*cos(q1(t) - q3(t) + q5(t) - 3.14159265358979)\n",
      "  0.4*cos(q1(t) + q5(t) - 3.14159265358979) + 0.4*cos(q1(t) - q3(t) + q5(t) - 3.14159265358979) + 0.625*cos(q5(t))]] \n",
      "\n",
      "\n"
     ]
    }
   ],
   "source": [
    "def rel_pos(q, l_r, length):\n",
    "\n",
    "    # Calculate the absolute angles of each part of the body and print to verify\n",
    "    theta = abs_ang_rad(q)\n",
    "    \n",
    "    # Initialize the matrices\n",
    "    r_x = sp.zeros(5,1)\n",
    "    r_y = sp.zeros(5,1)\n",
    "    joint_x = sp.zeros(5,1)\n",
    "    joint_y = sp.zeros(5,1)\n",
    "    # Loop to calculate each relative position\n",
    "    for i in range(5):\n",
    "        # Relative position of gravity centres\n",
    "        r_x[i] = (length[i] - l_r[i]) * sp.sin(theta[i])\n",
    "        r_y[i] = (length[i] - l_r[i]) * sp.cos(theta[i])\n",
    "\n",
    "        #Relative position of joints\n",
    "        joint_x[i] = length[i] * sp.sin(theta[i])\n",
    "        joint_y[i] = length[i] * sp.cos(theta[i])\n",
    "    \n",
    "    # Create the matrices for r and joints\n",
    "    r_x = np.hstack(r_x)\n",
    "    r_y = np.hstack(r_y)\n",
    "    r = np.vstack([[r_x], [r_y]])\n",
    "    joint_x = np.hstack(joint_x)\n",
    "    joint_y = np.hstack(joint_y)\n",
    "    joint = np.vstack([[joint_x], [joint_y]])\n",
    "\n",
    "    # Return matrices for positions of gravity centres and joints\n",
    "    return r, joint\n",
    "\n",
    "\n",
    "#Calculate absolute positions of each element of the body\n",
    "def abs_pos(q, l_r, l_joint):\n",
    "    # Call to relative position function\n",
    "    r, joint = rel_pos(q, l_r, l_joint)\n",
    "\n",
    "    # Absolute position of Hip\n",
    "    r [:, 0] = r[:, 0] + joint[:, 2]\n",
    "    joint [:, 0] = joint[:, 0] + joint[:, 2]\n",
    "\n",
    "    # Absolute position of Head\n",
    "    r [:, 4] = r[:, 4] + joint[:, 0]\n",
    "    joint [:, 4] = joint[:, 4] + joint[:, 0]\n",
    "\n",
    "    # Absolute position of Knee 2\n",
    "    r [:, 1] = r[:, 1] + joint[:, 0]\n",
    "    joint [:, 1] = joint[:, 1] + joint[:, 0]\n",
    "\n",
    "    # Absolute position of Foot 2\n",
    "    r [:, 3] = r[:, 3] + joint[:, 1]\n",
    "    joint [:, 3] = joint[:, 3] + joint[:, 1]\n",
    "\n",
    "    return r, joint\n",
    "\n",
    "r, joint = abs_pos(q, l_r, length)\n",
    "\n",
    "print(\"Absolute position of gravity centres:\\n\" \n",
    "      f\"{r} \\n\\n\" \n",
    "      \"Absolute position of joints:\\n\"\n",
    "      f\"{joint} \\n\\n\")"
   ]
  },
  {
   "cell_type": "markdown",
   "metadata": {},
   "source": [
    "### Function to calculate numerically the position of the body"
   ]
  },
  {
   "cell_type": "code",
   "execution_count": 34,
   "metadata": {},
   "outputs": [],
   "source": [
    "# Calculus of simulated instance position\n",
    "def sim_pos(q_simulated, joint_order):\n",
    "    \n",
    "    # Initialize plot matrix\n",
    "    joint_sim = sp.zeros(2, 7)\n",
    "    pos_x = sp.Matrix.zeros(1, 7)\n",
    "    pos_y = sp.Matrix.zeros(1, 7)\n",
    "\n",
    "    # Substitute simulated q values in position matrix\n",
    "    for i in range(6):\n",
    "        joint_sim[0, (i+1)] = joint_order[0, i+1].subs({q1: q_simulated[0], q2: q_simulated[1], q3: q_simulated[2], q4: q_simulated[3], q5:q_simulated[4]})\n",
    "        joint_sim[1, (i+1)] = joint_order[1, i+1].subs({q1: q_simulated[0], q2: q_simulated[1], q3: q_simulated[2], q4: q_simulated[3], q5:q_simulated[4]})\n",
    "            \n",
    "        pos_x[0, i+1] = joint_sim[0, i+1]\n",
    "        pos_y[0, i+1] = joint_sim[1, i+1]\n",
    "\n",
    "    return pos_x, pos_y"
   ]
  },
  {
   "cell_type": "markdown",
   "metadata": {},
   "source": [
    "### Plotting function of the body"
   ]
  },
  {
   "cell_type": "code",
   "execution_count": 35,
   "metadata": {},
   "outputs": [],
   "source": [
    "# PLOT\n",
    "def plot(pos_y, pos_x):\n",
    "    joint_plot_np = pos_x, pos_y\n",
    "    \n",
    "    lennn = len(pos_x)\n",
    "\n",
    "    # Plot\n",
    "    for i in range(0,lennn, 7):\n",
    "        plt.plot(pos_x[i:i+7], pos_y[i:i+7], marker='o', linestyle='--', color='b')  \n",
    "    plt.title('Joint Plot')\n",
    "    plt.ylabel('Y-axis')\n",
    "    plt.xlabel('X-axis')\n",
    "    plt.axis('equal')\n",
    "    plt.grid(True)\n",
    "    plt.show()"
   ]
  },
  {
   "cell_type": "markdown",
   "metadata": {},
   "source": [
    "### Check of kinematics"
   ]
  },
  {
   "cell_type": "code",
   "execution_count": 36,
   "metadata": {},
   "outputs": [
    {
     "data": {
      "image/png": "[encoded data removed]",
      "text/plain": [
       "<Figure size 640x480 with 1 Axes>"
      ]
     },
     "metadata": {},
     "output_type": "display_data"
    }
   ],
   "source": [
    "# Order joints to follow body structure\n",
    "joint_x = [0, joint[0,2], joint[0,0], joint[0,4], joint[0,0], joint[0,1], joint[0,3]]\n",
    "joint_y = [0, joint[1,2], joint[1,0], joint[1,4], joint[1,0], joint[1,1], joint[1,3]]\n",
    "joint_order = np.vstack([joint_x, joint_y])\n",
    "\n",
    "q_0 = np.array([np.pi*5/6, -np.pi*4/6, 0, 0, 0])\n",
    "pos_x_1, pos_y_1 = sim_pos(q_0, joint_order)\n",
    "plot(pos_y_1, pos_x_1)"
   ]
  },
  {
   "cell_type": "markdown",
   "metadata": {},
   "source": [
    "### Velocity calculation"
   ]
  },
  {
   "cell_type": "code",
   "execution_count": 37,
   "metadata": {},
   "outputs": [],
   "source": [
    "# Angular speed calculation\n",
    "def ang_speed(q):\n",
    "    theta = abs_ang_rad(q)          # Calculate absolute angles\n",
    "    dtheta = sp.zeros(5,1)          # Initialize matrix\n",
    "    \n",
    "    for i in range(5):\n",
    "        dtheta[i] = sp.diff(theta[i], t)       # First derivative of the absolute angles\n",
    "    return dtheta\n",
    "\n",
    "dtheta_t = ang_speed(q)\n",
    "\n",
    "# Gravity centre velocity calculation\n",
    "def dr(r):\n",
    "    dr = sp.zeros(2,5)\n",
    "    for i in range(5):\n",
    "        dr[0, i] = sp.diff(r[0, i], t)\n",
    "        dr[1, i] = sp.diff(r[1, i], t)\n",
    "    return dr\n",
    "\n",
    "dr_t = dr(r)"
   ]
  },
  {
   "cell_type": "markdown",
   "metadata": {},
   "source": [
    "### Acceleration calculation"
   ]
  },
  {
   "cell_type": "code",
   "execution_count": 38,
   "metadata": {},
   "outputs": [],
   "source": [
    "# Angular acceleration calculation\n",
    "def ang_acc(q):\n",
    "    theta = abs_ang_rad(q)          # Calculate absolute angles\n",
    "    ddtheta = sp.zeros(5,1)         # Initialize matrix\n",
    "    \n",
    "    for i in range(5):\n",
    "        ddtheta[i] = sp.diff(theta[i], t, 2)        # Second derivative of the absolute angles\n",
    "    return ddtheta\n",
    "\n",
    "ddtheta_t = ang_acc(q)"
   ]
  },
  {
   "cell_type": "markdown",
   "metadata": {},
   "source": [
    "### General function for Kinematics"
   ]
  },
  {
   "cell_type": "code",
   "execution_count": 39,
   "metadata": {},
   "outputs": [
    {
     "data": {
      "text/plain": [
       "(array([[-0.237*sin(q1(t) + q5(t) - 3.14159265358979) - 0.4*sin(q1(t) - q3(t) + q5(t) - 3.14159265358979),\n",
       "         -0.237*sin(q2(t) + q5(t)) - 0.4*sin(q1(t) + q5(t) - 3.14159265358979) - 0.4*sin(q1(t) - q3(t) + q5(t) - 3.14159265358979),\n",
       "         -0.272*sin(q1(t) - q3(t) + q5(t) - 3.14159265358979),\n",
       "         -0.4*sin(q2(t) + q5(t)) - 0.4*sin(q1(t) + q5(t) - 3.14159265358979) - 0.272*sin(q2(t) - q4(t) + q5(t)) - 0.4*sin(q1(t) - q3(t) + q5(t) - 3.14159265358979),\n",
       "         -0.4*sin(q1(t) + q5(t) - 3.14159265358979) - 0.4*sin(q1(t) - q3(t) + q5(t) - 3.14159265358979) - 0.425*sin(q5(t))],\n",
       "        [0.237*cos(q1(t) + q5(t) - 3.14159265358979) + 0.4*cos(q1(t) - q3(t) + q5(t) - 3.14159265358979),\n",
       "         0.237*cos(q2(t) + q5(t)) + 0.4*cos(q1(t) + q5(t) - 3.14159265358979) + 0.4*cos(q1(t) - q3(t) + q5(t) - 3.14159265358979),\n",
       "         0.272*cos(q1(t) - q3(t) + q5(t) - 3.14159265358979),\n",
       "         0.4*cos(q2(t) + q5(t)) + 0.4*cos(q1(t) + q5(t) - 3.14159265358979) + 0.272*cos(q2(t) - q4(t) + q5(t)) + 0.4*cos(q1(t) - q3(t) + q5(t) - 3.14159265358979),\n",
       "         0.4*cos(q1(t) + q5(t) - 3.14159265358979) + 0.4*cos(q1(t) - q3(t) + q5(t) - 3.14159265358979) + 0.425*cos(q5(t))]],\n",
       "       dtype=object),\n",
       " array([[-0.4*sin(q1(t) + q5(t) - 3.14159265358979) - 0.4*sin(q1(t) - q3(t) + q5(t) - 3.14159265358979),\n",
       "         -0.4*sin(q2(t) + q5(t)) - 0.4*sin(q1(t) + q5(t) - 3.14159265358979) - 0.4*sin(q1(t) - q3(t) + q5(t) - 3.14159265358979),\n",
       "         -0.4*sin(q1(t) - q3(t) + q5(t) - 3.14159265358979),\n",
       "         -0.4*sin(q2(t) + q5(t)) - 0.4*sin(q1(t) + q5(t) - 3.14159265358979) - 0.4*sin(q2(t) - q4(t) + q5(t)) - 0.4*sin(q1(t) - q3(t) + q5(t) - 3.14159265358979),\n",
       "         -0.4*sin(q1(t) + q5(t) - 3.14159265358979) - 0.4*sin(q1(t) - q3(t) + q5(t) - 3.14159265358979) - 0.625*sin(q5(t))],\n",
       "        [0.4*cos(q1(t) + q5(t) - 3.14159265358979) + 0.4*cos(q1(t) - q3(t) + q5(t) - 3.14159265358979),\n",
       "         0.4*cos(q2(t) + q5(t)) + 0.4*cos(q1(t) + q5(t) - 3.14159265358979) + 0.4*cos(q1(t) - q3(t) + q5(t) - 3.14159265358979),\n",
       "         0.4*cos(q1(t) - q3(t) + q5(t) - 3.14159265358979),\n",
       "         0.4*cos(q2(t) + q5(t)) + 0.4*cos(q1(t) + q5(t) - 3.14159265358979) + 0.4*cos(q2(t) - q4(t) + q5(t)) + 0.4*cos(q1(t) - q3(t) + q5(t) - 3.14159265358979),\n",
       "         0.4*cos(q1(t) + q5(t) - 3.14159265358979) + 0.4*cos(q1(t) - q3(t) + q5(t) - 3.14159265358979) + 0.625*cos(q5(t))]],\n",
       "       dtype=object),\n",
       " Matrix([\n",
       " [                       -Derivative(q1(t), t) - Derivative(q5(t), t)],\n",
       " [                       -Derivative(q2(t), t) - Derivative(q5(t), t)],\n",
       " [-Derivative(q1(t), t) + Derivative(q3(t), t) - Derivative(q5(t), t)],\n",
       " [-Derivative(q2(t), t) + Derivative(q4(t), t) - Derivative(q5(t), t)],\n",
       " [                                              -Derivative(q5(t), t)]]),\n",
       " Matrix([\n",
       " [                          -(Derivative(q1(t), (t, 2)) + Derivative(q5(t), (t, 2)))],\n",
       " [                          -(Derivative(q2(t), (t, 2)) + Derivative(q5(t), (t, 2)))],\n",
       " [-Derivative(q1(t), (t, 2)) + Derivative(q3(t), (t, 2)) - Derivative(q5(t), (t, 2))],\n",
       " [-Derivative(q2(t), (t, 2)) + Derivative(q4(t), (t, 2)) - Derivative(q5(t), (t, 2))],\n",
       " [                                                        -Derivative(q5(t), (t, 2))]]),\n",
       " Matrix([\n",
       " [-0.237*(Derivative(q1(t), t) + Derivative(q5(t), t))*cos(q1(t) + q5(t) - 3.14159265358979) - 0.4*(Derivative(q1(t), t) - Derivative(q3(t), t) + Derivative(q5(t), t))*cos(q1(t) - q3(t) + q5(t) - 3.14159265358979), -0.4*(Derivative(q1(t), t) + Derivative(q5(t), t))*cos(q1(t) + q5(t) - 3.14159265358979) - 0.237*(Derivative(q2(t), t) + Derivative(q5(t), t))*cos(q2(t) + q5(t)) - 0.4*(Derivative(q1(t), t) - Derivative(q3(t), t) + Derivative(q5(t), t))*cos(q1(t) - q3(t) + q5(t) - 3.14159265358979), -0.272*(Derivative(q1(t), t) - Derivative(q3(t), t) + Derivative(q5(t), t))*cos(q1(t) - q3(t) + q5(t) - 3.14159265358979), -0.4*(Derivative(q1(t), t) + Derivative(q5(t), t))*cos(q1(t) + q5(t) - 3.14159265358979) - 0.4*(Derivative(q2(t), t) + Derivative(q5(t), t))*cos(q2(t) + q5(t)) - 0.4*(Derivative(q1(t), t) - Derivative(q3(t), t) + Derivative(q5(t), t))*cos(q1(t) - q3(t) + q5(t) - 3.14159265358979) - 0.272*(Derivative(q2(t), t) - Derivative(q4(t), t) + Derivative(q5(t), t))*cos(q2(t) - q4(t) + q5(t)), -0.4*(Derivative(q1(t), t) + Derivative(q5(t), t))*cos(q1(t) + q5(t) - 3.14159265358979) - 0.4*(Derivative(q1(t), t) - Derivative(q3(t), t) + Derivative(q5(t), t))*cos(q1(t) - q3(t) + q5(t) - 3.14159265358979) - 0.425*cos(q5(t))*Derivative(q5(t), t)],\n",
       " [-0.237*(Derivative(q1(t), t) + Derivative(q5(t), t))*sin(q1(t) + q5(t) - 3.14159265358979) - 0.4*(Derivative(q1(t), t) - Derivative(q3(t), t) + Derivative(q5(t), t))*sin(q1(t) - q3(t) + q5(t) - 3.14159265358979), -0.4*(Derivative(q1(t), t) + Derivative(q5(t), t))*sin(q1(t) + q5(t) - 3.14159265358979) - 0.237*(Derivative(q2(t), t) + Derivative(q5(t), t))*sin(q2(t) + q5(t)) - 0.4*(Derivative(q1(t), t) - Derivative(q3(t), t) + Derivative(q5(t), t))*sin(q1(t) - q3(t) + q5(t) - 3.14159265358979), -0.272*(Derivative(q1(t), t) - Derivative(q3(t), t) + Derivative(q5(t), t))*sin(q1(t) - q3(t) + q5(t) - 3.14159265358979), -0.4*(Derivative(q1(t), t) + Derivative(q5(t), t))*sin(q1(t) + q5(t) - 3.14159265358979) - 0.4*(Derivative(q2(t), t) + Derivative(q5(t), t))*sin(q2(t) + q5(t)) - 0.4*(Derivative(q1(t), t) - Derivative(q3(t), t) + Derivative(q5(t), t))*sin(q1(t) - q3(t) + q5(t) - 3.14159265358979) - 0.272*(Derivative(q2(t), t) - Derivative(q4(t), t) + Derivative(q5(t), t))*sin(q2(t) - q4(t) + q5(t)), -0.4*(Derivative(q1(t), t) + Derivative(q5(t), t))*sin(q1(t) + q5(t) - 3.14159265358979) - 0.4*(Derivative(q1(t), t) - Derivative(q3(t), t) + Derivative(q5(t), t))*sin(q1(t) - q3(t) + q5(t) - 3.14159265358979) - 0.425*sin(q5(t))*Derivative(q5(t), t)]]),\n",
       " array([[0, -0.4*sin(q1(t) - q3(t) + q5(t) - 3.14159265358979),\n",
       "         -0.4*sin(q1(t) + q5(t) - 3.14159265358979) - 0.4*sin(q1(t) - q3(t) + q5(t) - 3.14159265358979),\n",
       "         -0.4*sin(q1(t) + q5(t) - 3.14159265358979) - 0.4*sin(q1(t) - q3(t) + q5(t) - 3.14159265358979) - 0.625*sin(q5(t)),\n",
       "         -0.4*sin(q1(t) + q5(t) - 3.14159265358979) - 0.4*sin(q1(t) - q3(t) + q5(t) - 3.14159265358979),\n",
       "         -0.4*sin(q2(t) + q5(t)) - 0.4*sin(q1(t) + q5(t) - 3.14159265358979) - 0.4*sin(q1(t) - q3(t) + q5(t) - 3.14159265358979),\n",
       "         -0.4*sin(q2(t) + q5(t)) - 0.4*sin(q1(t) + q5(t) - 3.14159265358979) - 0.4*sin(q2(t) - q4(t) + q5(t)) - 0.4*sin(q1(t) - q3(t) + q5(t) - 3.14159265358979)],\n",
       "        [0, 0.4*cos(q1(t) - q3(t) + q5(t) - 3.14159265358979),\n",
       "         0.4*cos(q1(t) + q5(t) - 3.14159265358979) + 0.4*cos(q1(t) - q3(t) + q5(t) - 3.14159265358979),\n",
       "         0.4*cos(q1(t) + q5(t) - 3.14159265358979) + 0.4*cos(q1(t) - q3(t) + q5(t) - 3.14159265358979) + 0.625*cos(q5(t)),\n",
       "         0.4*cos(q1(t) + q5(t) - 3.14159265358979) + 0.4*cos(q1(t) - q3(t) + q5(t) - 3.14159265358979),\n",
       "         0.4*cos(q2(t) + q5(t)) + 0.4*cos(q1(t) + q5(t) - 3.14159265358979) + 0.4*cos(q1(t) - q3(t) + q5(t) - 3.14159265358979),\n",
       "         0.4*cos(q2(t) + q5(t)) + 0.4*cos(q1(t) + q5(t) - 3.14159265358979) + 0.4*cos(q2(t) - q4(t) + q5(t)) + 0.4*cos(q1(t) - q3(t) + q5(t) - 3.14159265358979)]],\n",
       "       dtype=object))"
      ]
     },
     "execution_count": 39,
     "metadata": {},
     "output_type": "execute_result"
    }
   ],
   "source": [
    "def Kinematics(q):\n",
    "    # Declare lengths in m\n",
    "    l1 = 0.4\n",
    "    l2 = 0.4\n",
    "    l3 = 0.4\n",
    "    l4 = 0.4\n",
    "    l5 = 0.625\n",
    "    length = [l1, l2, l3, l4, l5]\n",
    "\n",
    "    # Declare distance to gravity center in m\n",
    "    l_r1 = 0.163\n",
    "    l_r2 = 0.163\n",
    "    l_r3 = 0.128\n",
    "    l_r4 = 0.128\n",
    "    l_r5 = 0.2\n",
    "    l_r = [l_r1, l_r2, l_r3, l_r4, l_r5]\n",
    "\n",
    "    # Absolute positions of each joint and gravity center of the body\n",
    "    r, joint = abs_pos(q, l_r, length)\n",
    "\n",
    "    # Speed\n",
    "    dtheta_time = ang_speed(q)       # Absolute angular speed of each rod (body part)\n",
    "    dr_time = dr(r)             # Absolute velocity of each gravity center\n",
    "    \n",
    "    # Acceleration\n",
    "    ddtheta_time = ang_acc(q)      # Absolute angular acceleration of each rod (body part)\n",
    "\n",
    "    # Order joints to follow body structure\n",
    "    joint_x = [0, joint[0,2], joint[0,0], joint[0,4], joint[0,0], joint[0,1], joint[0,3]]\n",
    "    joint_y = [0, joint[1,2], joint[1,0], joint[1,4], joint[1,0], joint[1,1], joint[1,3]]\n",
    "    joint_order = np.vstack([joint_x, joint_y])\n",
    "\n",
    "    return r, joint, dtheta_time, ddtheta_time, dr_time, joint_order\n",
    "\n",
    "Kinematics(q)\n",
    "        "
   ]
  },
  {
   "cell_type": "markdown",
   "metadata": {},
   "source": [
    "## Dynamics\n",
    "### Kinetic energy"
   ]
  },
  {
   "cell_type": "code",
   "execution_count": 40,
   "metadata": {},
   "outputs": [],
   "source": [
    "# Kinetic energy\n",
    "def T(I, m, q, dr_t):\n",
    "    dtheta = ang_speed(q)\n",
    "\n",
    "    # Initialize matrices\n",
    "    T_r = sp.zeros(5,1)\n",
    "    T_l = sp.zeros(5,1)\n",
    "\n",
    "    for i in range(5):\n",
    "        T_r[i] = (1/2) * I[i] * (dtheta[i] **2)\n",
    "        T_l[i] = (1/2) * m[i] * ((dr_t[0, i]**2) + dr_t[1, i]**2)\n",
    "    T_t = np.sum(T_r) + np.sum(T_l)\n",
    "    return T_t"
   ]
  },
  {
   "cell_type": "markdown",
   "metadata": {},
   "source": [
    "### Potential energy"
   ]
  },
  {
   "cell_type": "code",
   "execution_count": 41,
   "metadata": {},
   "outputs": [],
   "source": [
    "# Potential energy\n",
    "def V(m, g, r):\n",
    "    V = sp.zeros(5,1)\n",
    "    for i in range(5):\n",
    "        V[i] = g * m[i] * r[1, i]\n",
    "    V_t = np.sum(V)\n",
    "    return V_t"
   ]
  },
  {
   "cell_type": "markdown",
   "metadata": {},
   "source": [
    "### Equations of motion"
   ]
  },
  {
   "cell_type": "code",
   "execution_count": 42,
   "metadata": {},
   "outputs": [],
   "source": [
    "def Lagr(I, m, g, q, r, dr_t):\n",
    "    V_t = V(m, g, r)            # Kinetic energy\n",
    "    T_t = T(I, m, q, dr_t)      # Potential energy\n",
    "    L = T_t - V_t               # Lagrangian\n",
    "\n",
    "    # Initialize matrices that are going to be calculated afterwards in for loop\n",
    "    dL_dq = sp.zeros(5,1)\n",
    "    dL_ddq = sp.zeros(5,1)\n",
    "    dL_ddq_dt = sp.zeros(5,1)\n",
    "    e_motion = sp.zeros(5,1)\n",
    "    \n",
    "    # Each loop calculates one equation of motion\n",
    "    for i in range(5):\n",
    "        dL_dq[i] = sp.diff(L, q[i])                 # Derivative of Lagrangian respect q\n",
    "\n",
    "        dL_ddq[i] = sp.diff(L, sp.diff(q[i]))       # Derivative of Lagrangian respect derivative of q\n",
    "        dL_ddq_dt[i] = sp.diff(dL_ddq[i], t)        # Derivative of previous derivation respect the time\n",
    "\n",
    "        e_motion[i] = dL_dq[i] - dL_ddq_dt[i]       # Rest both terms to obtain equations of motion\n",
    "    \n",
    "    return e_motion\n",
    "\n",
    "eq_motion = Lagr(inertia, mass, g, q, r, dr_t)"
   ]
  },
  {
   "cell_type": "markdown",
   "metadata": {},
   "source": [
    "### Definition of first and second derivatives of angles q"
   ]
  },
  {
   "cell_type": "code",
   "execution_count": 43,
   "metadata": {},
   "outputs": [],
   "source": [
    "# Define first differentials of q\n",
    "def dq_t(q):\n",
    "    dq = sp.zeros(5,1)\n",
    "    for i in range(5):\n",
    "        dq[i] = sp.diff(q[i], t)\n",
    "        dq = np.hstack(dq)\n",
    "    return dq\n",
    "\n",
    "# Define second differentials of q\n",
    "def ddq_t(q):\n",
    "    ddq = sp.zeros(5,1)\n",
    "    for i in range(5):\n",
    "        ddq[i] = sp.diff(q[i], t, 2)\n",
    "    ddq = np.hstack(ddq)\n",
    "    return ddq\n",
    "\n",
    "dq = dq_t(q)\n",
    "ddq = ddq_t(q)"
   ]
  },
  {
   "cell_type": "markdown",
   "metadata": {},
   "source": [
    "### Rearrange equation of motion\n",
    "Substituting second derivatives of q (accelerations) with mode shapes (e_i)"
   ]
  },
  {
   "cell_type": "code",
   "execution_count": 44,
   "metadata": {},
   "outputs": [],
   "source": [
    "# Generate matrix of mode shapes\n",
    "e1, e2, e3, e4, e5 = symbols('e1 e2 e3 e4 e5')\n",
    "e = [e1, e2, e3, e4, e5]\n",
    "\n",
    "# All acceleration terms must be substituted with mode shapes (e_i)\n",
    "eq_motion_ei = eq_motion.subs(ddq[0], e[0]).subs(ddq[1], e[1]).subs(ddq[2], e[2]).subs(ddq[3], e[3]).subs(ddq[4], e[4])"
   ]
  },
  {
   "cell_type": "markdown",
   "metadata": {},
   "source": [
    "Vector matrix: obtained by substituting mode shape terms with null value"
   ]
  },
  {
   "cell_type": "code",
   "execution_count": 45,
   "metadata": {},
   "outputs": [],
   "source": [
    "# Vector matrix\n",
    "def C_matrix(eq_motion_ei, e, dq, gr):\n",
    "    # Substitute all acceleration terms with 0 so only vector matrix (C) is left\n",
    "    C = eq_motion_ei.subs({e[0]: 0, e[1]: 0, e[2]: 0, e[3]: 0, e[4]: 0, g: gr})\n",
    "    return C\n",
    "\n",
    "C = C_matrix(eq_motion_ei, e, dq, 9.81)\n"
   ]
  },
  {
   "cell_type": "markdown",
   "metadata": {},
   "source": [
    "Mass matrix: obtained by substituting velocity terms and gravity with null value"
   ]
  },
  {
   "cell_type": "code",
   "execution_count": 46,
   "metadata": {},
   "outputs": [],
   "source": [
    "# Mass matrix\n",
    "def M_matrix(eq_motion_ei, e, dq):\n",
    "\n",
    "    # Substituting velocity terms with zero, we obtain vector matrix = 0, so only mass matrix is left\n",
    "    M_ei = eq_motion_ei.subs(dq[0], 0).subs(dq[1], 0).subs(dq[2], 0).subs(dq[3], 0).subs(dq[4], 0).subs(g, 0)\n",
    "    M = sp.zeros(5,5)       # Initialize mass matrix\n",
    "\n",
    "    # For each set of equations M*ei, the effect of each acceleration term is obtained\n",
    "    for i in range(5):\n",
    "        M[i, 0] = M_ei[i].subs(e1, 1).subs(e2, 0).subs(e3, 0).subs(e4, 0).subs(e5, 0)\n",
    "        M[i, 1] = M_ei[i].subs(e1, 0).subs(e2, 1).subs(e3, 0).subs(e4, 0).subs(e5, 0)\n",
    "        M[i, 2] = M_ei[i].subs(e1, 0).subs(e2, 0).subs(e3, 1).subs(e4, 0).subs(e5, 0)\n",
    "        M[i, 3] = M_ei[i].subs(e1, 0).subs(e2, 0).subs(e3, 0).subs(e4, 1).subs(e5, 0)\n",
    "        M[i, 4] = M_ei[i].subs(e1, 0).subs(e2, 0).subs(e3, 0).subs(e4, 0).subs(e5, 1)\n",
    "\n",
    "    return M, M_ei\n",
    "\n",
    "M, M_ei = M_matrix(eq_motion_ei, e, dq)\n",
    "# M_symp = sp.simplify(M)"
   ]
  },
  {
   "cell_type": "markdown",
   "metadata": {},
   "source": [
    "Active inputs: calculated by multiplying the input set with matrix B"
   ]
  },
  {
   "cell_type": "code",
   "execution_count": 47,
   "metadata": {},
   "outputs": [],
   "source": [
    "# Array of controlled parameters u\n",
    "def ControlledInputs(u):\n",
    "    # Array B shows what inputs are active (from u1 to u4)\n",
    "    B = np.array([[1, 0, 0, 0, 0],\n",
    "                [0, 1, 0, 0, 0],\n",
    "                [0, 0, 1, 0, 0],\n",
    "                [0, 0, 0, 1, 0],\n",
    "                [0, 0, 0, 0, 0],\n",
    "    ])\n",
    "\n",
    "    B_u = np.vstack(np.dot(B, u))       # Set u5 to zero, meaning that head movement is not controlled\n",
    "    return np.array(B_u)\n",
    "\n",
    "B_u = ControlledInputs(u)"
   ]
  },
  {
   "cell_type": "markdown",
   "metadata": {},
   "source": [
    "Final equation of motion: M*(ei) + C - B*u = 0"
   ]
  },
  {
   "cell_type": "code",
   "execution_count": 48,
   "metadata": {},
   "outputs": [],
   "source": [
    "# Final set of equations of motion (M*ei + C - B*u = 0)\n",
    "def e_motion_u(C, M_ei, inputs):\n",
    "    e_motion_u = C + M_ei - inputs\n",
    "    return e_motion_u"
   ]
  },
  {
   "cell_type": "markdown",
   "metadata": {},
   "source": [
    "### General function for dynamics"
   ]
  },
  {
   "cell_type": "code",
   "execution_count": 49,
   "metadata": {},
   "outputs": [],
   "source": [
    "def Dynamics(q, inputs):\n",
    "    g = sp.symbols('g')         # Gravity as symbolic\n",
    "\n",
    "    # Declare masses in kg\n",
    "    m1 = 6.8\n",
    "    m2 = 6.8\n",
    "    m3 = 3.2\n",
    "    m4 = 3.2\n",
    "    m5 = 20\n",
    "    mass = [m1, m2, m3, m4, m5]\n",
    "\n",
    "    ## Declare inertias in kg*m^2\n",
    "    I1 = 1.08\n",
    "    I2 = 1.08\n",
    "    I3 = 0.93\n",
    "    I4 = 0.93\n",
    "    I5 = 2.22\n",
    "    inertia = [I1, I2, I3, I4, I5]\n",
    "\n",
    "    r_k, joint_k, dtheta_time_k, ddtheta_time_k, dr_time_k, joint_order_k = Kinematics(q)           # Do kinematics\n",
    "    eq_motion_d = Lagr(inertia, mass, g, q, r_k, dr_time_k)                                         # Equations of motion\n",
    "\n",
    "    # Symbolic derivatives of relative angles\n",
    "    dq_sym = dq_t(q)            # Velocities\n",
    "    ddq_sym = ddq_t(q)          # Acceleration\n",
    "\n",
    "    # All acceleration terms must be substituted with mode shapes (e_i)\n",
    "    e1, e2, e3, e4, e5 = symbols('e1 e2 e3 e4 e5')\n",
    "    e_d = [e1, e2, e3, e4, e5]\n",
    "    eq_motion_ei_d = eq_motion_d.subs(ddq_sym[0], e[0]).subs(ddq_sym[1], e[1]).subs(ddq_sym[2], e[2]).subs(ddq_sym[3], e[3]).subs(ddq_sym[4], e[4])\n",
    "\n",
    "    C = C_matrix(eq_motion_ei_d, e_d, dq_sym, 9.81)            # Vector matrix\n",
    "    M, M_ei = M_matrix(eq_motion_ei_d, e_d, dq_sym)            # Mass matrix\n",
    "    Bu_d = ControlledInputs(inputs)                            # Controlled inputs determination\n",
    "    equation_motion = e_motion_u(C, M_ei, Bu_d)                # Final set of equations of motion\n",
    "    \n",
    "    \n",
    "    return equation_motion, C, M, Bu_d"
   ]
  },
  {
   "cell_type": "markdown",
   "metadata": {},
   "source": [
    "## Solver\n",
    "### State space calculation"
   ]
  },
  {
   "cell_type": "code",
   "execution_count": 50,
   "metadata": {},
   "outputs": [],
   "source": [
    "def d_state(q, dq, inputs, M, C):\n",
    "    B_u = ControlledInputs(inputs)          # Calculate acting inputs and the inverse of the mass matrix\n",
    "    M_inverse = np.linalg.inv(M)            # Inverse of matrix M\n",
    "    ddq_u = np.dot(M_inverse, (B_u - C))    # Acceleration term given in the assigment notes (comes from solving for ei the equations of motion)\n",
    "    \n",
    "    dq_x = np.hstack(dq)                    # Generate array of speed\n",
    "    ddq_x = np.hstack(ddq_u)                # Generate array of acceleration\n",
    "    dx = np.hstack([dq_x, ddq_x])           # Derivative of the state\n",
    "\n",
    "    return dx"
   ]
  },
  {
   "cell_type": "markdown",
   "metadata": {},
   "source": [
    "### Openloop function\n",
    "Substitute symbolical values with numerical values and calculate state-space model"
   ]
  },
  {
   "cell_type": "code",
   "execution_count": 51,
   "metadata": {},
   "outputs": [],
   "source": [
    "# Openloop function to analyse each system each sample period\n",
    "def openloop(x, t, u, M, C):\n",
    "    q, dq = x[:5],x[5:]                 # First set desired state\n",
    "    \n",
    "    # Substitute mass matrix\n",
    "    M = M.subs({q1: q[0], q2: q[1], q3: q[2], q4: q[3], q5: q[4]})\n",
    "    M = np.array(M, dtype='float64')\n",
    "\n",
    "    # Substitute vector matrix\n",
    "    C = C.subs({sp.diff(q1): dq[0], sp.diff(q2): dq[1], sp.diff(q3): dq[2], sp.diff(q4): dq[3], sp.diff(q5): dq[4]})\n",
    "    C = C.subs({q1: q[0], q2: q[1], q3: q[2], q4: q[3], q5: q[4]})\n",
    "    C = np.array(C)\n",
    "\n",
    "    # Derivative of the state\n",
    "    dx = d_state(q, dq, u, M, C)\n",
    "    dx = np.array(dx, dtype='float64')\n",
    "    \n",
    "    return dx"
   ]
  },
  {
   "cell_type": "markdown",
   "metadata": {},
   "source": [
    "### Openloop version 2: general function calling"
   ]
  },
  {
   "cell_type": "code",
   "execution_count": 52,
   "metadata": {},
   "outputs": [],
   "source": [
    "# Openloop function to analyse each system each sample period\n",
    "def openloop_v2(x, t, inputs):\n",
    "    q1_sym, q2_sym, q3_sym, q4_sym, q5_sym = dynamicsymbols('q1 q2 q3 q4 q5')\n",
    "    q_sym = [q1_sym, q2_sym, q3_sym, q4_sym, q5_sym]\n",
    "\n",
    "    q, dq = x[:5],x[5:]                 # First set desired state\n",
    "\n",
    "    equation_motion_d, C_d, M_d, Bu_d = Dynamics(q_sym, inputs)\n",
    "    \n",
    "    # Substitute mass matrix\n",
    "    M = M_d.subs({q1: q[0], q2: q[1], q3: q[2], q4: q[3], q5: q[4]})\n",
    "    M = np.array(M, dtype='float64')\n",
    "\n",
    "    # Substitute vector matrix\n",
    "    C = C_d.subs({sp.diff(q1): dq[0], sp.diff(q2): dq[1], sp.diff(q3): dq[2], sp.diff(q4): dq[3], sp.diff(q5): dq[4]})\n",
    "    C = C.subs({q1: q[0], q2: q[1], q3: q[2], q4: q[3], q5: q[4]})\n",
    "    C = np.array(C)\n",
    "\n",
    "    # Derivative of the state\n",
    "    dx = d_state(q, dq, inputs, M, C)\n",
    "    dx = np.array(dx, dtype='float64')\n",
    "    \n",
    "    return dx"
   ]
  },
  {
   "cell_type": "markdown",
   "metadata": {},
   "source": [
    "### Runge-Kutta 4"
   ]
  },
  {
   "cell_type": "code",
   "execution_count": 54,
   "metadata": {},
   "outputs": [],
   "source": [
    "# Runge Kutta solver\n",
    "def RK45_solver_v2(time, x0, u, M, C, joint_order):\n",
    "    start_time, end_time, h = time      # Define simulation time properties\n",
    "\n",
    "    x = x0          # Initial state value\n",
    "    q_x = x[:5]     # Initial angles\n",
    "    dq_x = x[5:]    # Initial speed\n",
    "\n",
    "    # Initial position of the body\n",
    "    pos0_x, pos0_y = sim_pos(q_x, joint_order)\n",
    "    body_pos_x = pos0_x\n",
    "    body_pos_y = pos0_y\n",
    "\n",
    "    count = 0       # Initialize loop counter\n",
    "\n",
    "    # Initial time instance\n",
    "    t = start_time\n",
    "    t_acc = t\n",
    "\n",
    "    while t <= end_time:\n",
    "        \n",
    "        # Simulate possible responses\n",
    "        k1 = openloop_v2(x, t, u)\n",
    "        k2 = openloop_v2(x+h*(k1/2), t+(h/2),u)\n",
    "        k3 = openloop_v2(x+h*(k2/2), t+(h/2),u)\n",
    "        k4 = openloop_v2(x+h*k3, t+h,u)\n",
    "\n",
    "        # Calculate weighted response and save values\n",
    "        x += h*(k1 + 2*k2 + 2*k3 + k4)/6\n",
    "        q_x_1, dq_x_1 = x[:5], x[5:]\n",
    "\n",
    "        # Calculate absolute position of each joint for time t\n",
    "        x_sim, y_sim = sim_pos(q_x_1, joint_order)\n",
    "\n",
    "        # If second foot touches ground, stop simulation\n",
    "        if (y_sim[0, 6] < 0):\n",
    "            t = end_time + 1        # End simulation\n",
    "        else:\n",
    "            # Add simulated state to data until simulation time\n",
    "            q_x = np.vstack([q_x, q_x_1])       # Angles\n",
    "            dq_x = np.vstack([dq_x, dq_x_1])    # Speeds\n",
    "            t_acc = np.hstack([t_acc, t])       # Save time instance\n",
    "\n",
    "            # Save body position\n",
    "            body_pos_x = np.vstack([body_pos_x, x_sim])\n",
    "            body_pos_y = np.vstack([body_pos_y, y_sim])\n",
    "\n",
    "        # Print progress of the simulation\n",
    "        print('\\r%' + f\"{int(100*(t)/end_time)}\", end='', flush=True)\n",
    "        \n",
    "        # Add loop counter and time\n",
    "        count = count + 1\n",
    "        t = t + h\n",
    "\n",
    "    body = [body_pos_x, body_pos_y]\n",
    "\n",
    "    print('\\r%' + f\"{int(100)}\", end='', flush=True)\n",
    "    print('')\n",
    "    \n",
    "    if y_sim[0, 6] < 0:\n",
    "        print('Free foot has touched the ground!!!')\n",
    "        print('')\n",
    "    \n",
    "    return q_x, dq_x, t_acc, body"
   ]
  },
  {
   "cell_type": "markdown",
   "metadata": {},
   "source": [
    "## Animation function"
   ]
  },
  {
   "cell_type": "code",
   "execution_count": 55,
   "metadata": {},
   "outputs": [],
   "source": [
    "# Animated pendulum\n",
    "def animate_pendulum(t_ar, pos_x, pos_y, phi_sol, lengh, filename=\"GIF_BipedWalker_T1.gif\", slowdown=1, skip_frames=1):\n",
    "    # Set up the figure, the axis, and the plot elements\n",
    "    fig, (ax1, ax2) = plt.subplots(1, 2) # Ax1 human, Ax2 angles\n",
    "    plt.subplots_adjust(wspace=0.5)  # Adjust the width spacing\n",
    "    fig.suptitle('Biped walker gravity colapse')\n",
    "    ax1.set_title('Biped walker movement')\n",
    "    ax1.set_xlim(- 1.475, 3) # Full body aligned + 0.05\n",
    "    ax1.set_ylim(- 1.475, 1.475) # Full body aligned + 0.05\n",
    "    ax1.set_aspect(1)\n",
    "    ax2.set_title('Joint Angles')\n",
    "    y2min = np.min(phi_sol)\n",
    "    y2max = np.max(phi_sol)   \n",
    "    # y2min = -5*np.pi\n",
    "    # y2max = 5*np.pi\n",
    "    ax2.set_ylim(y2min-0.5, y2max+0.5) \n",
    "    ax2.set_xlim(0, 5) # t[0], t[-1]) \n",
    "    ax2.set_xlabel('Time [s]')\n",
    "    ax2.set_ylabel('Angle [rad]')\n",
    "    # ax2.set_aspect((t[-1]-t[0])/(y2max-y2min))\n",
    "    def radians_formatter(x, pos):\n",
    "        return \"{:.0f}\".format(x/(np.pi))+\"pi\"\n",
    "    #plt.gca().yaxis.set_major_formatter(FuncFormatter(radians_formatter))\n",
    "    # display time\n",
    "    time_text = ax1.text(0.04, 0.9, '', transform=ax1.transAxes)\n",
    "\n",
    "    # create a rectangular Floor\n",
    "    Floor_width = 10*1.475 # All the image\n",
    "    Floor_height = 0.05\n",
    "    rect = Rectangle([0 , -Floor_height],\n",
    "                     Floor_width, Floor_height,\n",
    "                     fill=True, color='red', ec='black')\n",
    "    ax1.add_patch(rect)\n",
    "\n",
    "    # Drawing the pendulum and lines\n",
    "    Biped_walker, = ax1.plot([], [], lw=2, marker='o', markersize=6)\n",
    "    Biped_walker_leg2, = ax1.plot([], [], lw=2, marker='o', markersize=6, color='red')\n",
    "    phi1line, = ax2.plot([], [])\n",
    "    phi2line, = ax2.plot([], [])\n",
    "    phi3line, = ax2.plot([], [])\n",
    "    phi4line, = ax2.plot([], [])\n",
    "    phi5line, = ax2.plot([], [])\n",
    "\n",
    "    # initialization function: plot the background of each frame\n",
    "    def init():\n",
    "        time_text.set_text('')\n",
    "        rect.set_xy((0- Floor_width / 2.0,\n",
    "                     -Floor_height))\n",
    "        Biped_walker.set_data([], [])\n",
    "        Biped_walker_leg2.set_data([], [])\n",
    "        phi1line.set_data([], [])\n",
    "        phi2line.set_data([], [])\n",
    "        phi3line.set_data([], [])\n",
    "        phi4line.set_data([], [])\n",
    "        phi5line.set_data([], [])\n",
    "        return time_text, rect, Biped_walker,Biped_walker_leg2, phi1line, phi2line, phi3line, phi4line, phi5line\n",
    "\n",
    "    # animation function: update the objects\n",
    "    def animate(i):\n",
    "        new_i = i \n",
    "        time_text.set_text('time = {:2.2f}'.format(t_ar[i]))\n",
    "        rect.set_xy((0 - Floor_width / 2.0, -Floor_height))\n",
    "        x = pos_x[i]\n",
    "        y = pos_y[i]\n",
    "        # Set the walker points whell organized\n",
    "        Biped_walker.set_data(pos_x[i], pos_y[i])\n",
    "        Biped_walker_leg2.set_data(x[4:7], y[4:7])\n",
    "        # Set each angle position\n",
    "        phi1line.set_data(t_ar[:i], phi_sol[:i, 0])\n",
    "        phi2line.set_data(t_ar[:i], phi_sol[:i, 1])\n",
    "        phi3line.set_data(t_ar[:i], phi_sol[:i, 2])\n",
    "        phi4line.set_data(t_ar[:i], phi_sol[:i, 3])\n",
    "        phi5line.set_data(t_ar[:i], phi_sol[:i, 4])\n",
    "        ax2.legend(['phi1', 'phi2', 'phi3', 'phi4', 'phi5'])\n",
    "        return time_text, rect, Biped_walker,Biped_walker_leg2, phi1line, phi2line, phi3line, phi4line, phi5line\n",
    "\n",
    "    # call the animator function\n",
    "    anim = animation.FuncAnimation(fig, animate, frames=len(t_ar),\n",
    "                                   init_func=init,\n",
    "                                   interval=t_ar[-1] / len(t_ar) * 1000 * slowdown,\n",
    "                                   blit=False, repeat=False)\n",
    "    plt.show(block=True)\n",
    "\n",
    "    # save the animation if a filename is given\n",
    "    if filename is not None:\n",
    "        plt.rcParams['animation.ffmpeg_path'] = '/path/to/ffmpeg'\n",
    "        anim.save(filename, fps=30)"
   ]
  },
  {
   "cell_type": "markdown",
   "metadata": {},
   "source": [
    "## Heel Strike Impact Model"
   ]
  },
  {
   "cell_type": "code",
   "execution_count": 56,
   "metadata": {},
   "outputs": [],
   "source": [
    "def change_of_leg(q_simulated, dq_simulated, M_matrix, C_matrix, joint):\n",
    "    # Define leg position right before impact moment\n",
    "    q1_plus, q2_plus, q3_plus, q4_plus, q5_plus = dynamicsymbols('q1_plus q2_plus q3_plus q4_plus q5_plus')\n",
    "    qminus_symb = [q1_plus, q2_plus, q3_plus, q4_plus, q5_plus]\n",
    "    r_minus = np.hstack([q_simulated[-1], dq_simulated[-1]])\n",
    "    q_minus = r_minus[:5]\n",
    "    dq_minus = r_minus[5:]\n",
    "    M_minus_sym = M_matrix\n",
    "    C_minus_sym = C_matrix\n",
    "    joint_minus_sym = joint\n",
    "\n",
    "    # Leg change matrix\n",
    "    leg_change = np.array([[0, 1, 0, 0, 0],\n",
    "                        [1, 0, 0, 0, 0],\n",
    "                        [0, 0, 0, 1, 0],\n",
    "                        [0, 0, 1, 0, 0],\n",
    "                        [0, 0, 0, 0, 1]])\n",
    "\n",
    "    # Calculate q for after impact\n",
    "    q_plus_t = np.dot(leg_change, q)\n",
    "    q_plus_sym = np.dot(leg_change, qminus_symb)\n",
    "    q_plus = np.dot(leg_change, q_minus)\n",
    "    #print('q minus:' + f'{q_minus}')\n",
    "    #print('q plus:' + f'{q_plus}')\n",
    "\n",
    "    # Change symbolic mass matrix\n",
    "    M_plus_sym = M_minus_sym.subs({q1: q_plus_sym[0], q2: q_plus_sym[1], q3: q_plus_sym[2], q4: q_plus_sym[3], q5: q_plus_sym[4]})\n",
    "    M_plus_sym = M_plus_sym.subs({q_plus_sym[0]: q_plus_t[0], q_plus_sym[1]: q_plus_t[1], q_plus_sym[2]: q_plus_t[2], q_plus_sym[3]: q_plus_t[3], q_plus_sym[4]: q_plus_t[4]})\n",
    "    #print('M-: ' + f'{M_minus_sym}')\n",
    "    #print('M+: ' + f'{M_plus_sym}')\n",
    "\n",
    "    # Change symbolic vector matrix\n",
    "    C_plus_sym = C_minus_sym.subs({q1: q_plus_sym[0], q2: q_plus_sym[1], q3: q_plus_sym[2], q4: q_plus_sym[3], q5: q_plus_sym[4]})\n",
    "    C_plus_sym = C_plus_sym.subs({q_plus_sym[0]: q_plus_t[0], q_plus_sym[1]: q_plus_t[1], q_plus_sym[2]: q_plus_t[2], q_plus_sym[3]: q_plus_t[3], q_plus_sym[4]: q_plus_t[4]})\n",
    "    #print('C-: ' + f'{C_minus_sym}')\n",
    "    #print('C+: ' + f'{C_plus_sym}')\n",
    "\n",
    "    # Change joint_order matrix\n",
    "    joint_plus_sym = sp.zeros(2, 7)\n",
    "    for i in range(2):\n",
    "        for j in range(6):\n",
    "            joint_plus_sym[i, j+1] = joint_minus_sym[i, j+1].subs({q1: q_plus_sym[0], q2: q_plus_sym[1], q3: q_plus_sym[2], q4: q_plus_sym[3], q5: q_plus_sym[4]})\n",
    "            joint_plus_sym[i, j+1] = joint_plus_sym[i, j+1].subs({q_plus_sym[0]: q_plus_t[0], q_plus_sym[1]: q_plus_t[1], q_plus_sym[2]: q_plus_t[2], q_plus_sym[3]: q_plus_t[3], q_plus_sym[4]: q_plus_t[4]})\n",
    "    # print('Joint -: ' + f'{joint_minus_sym}')\n",
    "    # print('Joint +: ' + f'{joint_plus_sym}')\n",
    "\n",
    "    # Calculate mass matrix before and after impact\n",
    "    M_minus = M_minus_sym.subs({q1: q_minus[0], q2: q_minus[1], q3: q_minus[2], q4: q_minus[3], q5: q_minus[4]})\n",
    "    M_plus = M_minus_sym.subs({q1: q_plus[0], q2: q_plus[1], q3: q_plus[2], q4: q_plus[3], q5: q_plus[4]})\n",
    "    M_plus = np.array(M_plus, dtype='float64')\n",
    "\n",
    "    # Calculate speed for after impact: M+ * dq+ = M- * dq- --> dq+ = ((M+)^-1) * (M- * dq-)\n",
    "    momentum_minus = np.dot(M_minus, dq_minus)\n",
    "    M_plus_inv = np.linalg.inv(M_plus)\n",
    "    dq_plus = np.dot(M_plus_inv, momentum_minus)\n",
    "\n",
    "    #print('dq minus:' + f'{dq_minus}')\n",
    "    #print('dq plus:' + f'{dq_plus}')\n",
    "\n",
    "    return q_plus, dq_plus, M_plus_sym, C_plus_sym, joint_plus_sym"
   ]
  },
  {
   "cell_type": "markdown",
   "metadata": {},
   "source": [
    "## Working Simulation with heel strike impact"
   ]
  },
  {
   "cell_type": "code",
   "execution_count": 57,
   "metadata": {},
   "outputs": [
    {
     "name": "stdout",
     "output_type": "stream",
     "text": [
      "%100\n",
      "Free foot has touched the ground!!!\n",
      "\n"
     ]
    },
    {
     "data": {
      "image/png": "[encoded data removed]",
      "text/plain": [
       "<Figure size 640x480 with 1 Axes>"
      ]
     },
     "metadata": {},
     "output_type": "display_data"
    },
    {
     "name": "stdout",
     "output_type": "stream",
     "text": [
      "%4"
     ]
    },
    {
     "ename": "KeyboardInterrupt",
     "evalue": "",
     "output_type": "error",
     "traceback": [
      "\u001b[1;31m---------------------------------------------------------------------------\u001b[0m",
      "\u001b[1;31mKeyError\u001b[0m                                  Traceback (most recent call last)",
      "File \u001b[1;32mc:\\Users\\uamen\\AppData\\Local\\Programs\\Python\\Python311\\Lib\\site-packages\\sympy\\core\\assumptions.py:499\u001b[0m, in \u001b[0;36mmake_property.<locals>.getit\u001b[1;34m(self)\u001b[0m\n\u001b[0;32m    498\u001b[0m \u001b[38;5;28;01mtry\u001b[39;00m:\n\u001b[1;32m--> 499\u001b[0m     \u001b[38;5;28;01mreturn\u001b[39;00m \u001b[38;5;28;43mself\u001b[39;49m\u001b[38;5;241;43m.\u001b[39;49m\u001b[43m_assumptions\u001b[49m\u001b[43m[\u001b[49m\u001b[43mfact\u001b[49m\u001b[43m]\u001b[49m\n\u001b[0;32m    500\u001b[0m \u001b[38;5;28;01mexcept\u001b[39;00m \u001b[38;5;167;01mKeyError\u001b[39;00m:\n",
      "\u001b[1;31mKeyError\u001b[0m: 'finite'",
      "\nDuring handling of the above exception, another exception occurred:\n",
      "\u001b[1;31mKeyError\u001b[0m                                  Traceback (most recent call last)",
      "File \u001b[1;32mc:\\Users\\uamen\\AppData\\Local\\Programs\\Python\\Python311\\Lib\\site-packages\\sympy\\core\\assumptions.py:499\u001b[0m, in \u001b[0;36mmake_property.<locals>.getit\u001b[1;34m(self)\u001b[0m\n\u001b[0;32m    498\u001b[0m \u001b[38;5;28;01mtry\u001b[39;00m:\n\u001b[1;32m--> 499\u001b[0m     \u001b[38;5;28;01mreturn\u001b[39;00m \u001b[38;5;28;43mself\u001b[39;49m\u001b[38;5;241;43m.\u001b[39;49m\u001b[43m_assumptions\u001b[49m\u001b[43m[\u001b[49m\u001b[43mfact\u001b[49m\u001b[43m]\u001b[49m\n\u001b[0;32m    500\u001b[0m \u001b[38;5;28;01mexcept\u001b[39;00m \u001b[38;5;167;01mKeyError\u001b[39;00m:\n",
      "\u001b[1;31mKeyError\u001b[0m: 'zero'",
      "\nDuring handling of the above exception, another exception occurred:\n",
      "\u001b[1;31mKeyError\u001b[0m                                  Traceback (most recent call last)",
      "File \u001b[1;32mc:\\Users\\uamen\\AppData\\Local\\Programs\\Python\\Python311\\Lib\\site-packages\\sympy\\core\\assumptions.py:499\u001b[0m, in \u001b[0;36mmake_property.<locals>.getit\u001b[1;34m(self)\u001b[0m\n\u001b[0;32m    498\u001b[0m \u001b[38;5;28;01mtry\u001b[39;00m:\n\u001b[1;32m--> 499\u001b[0m     \u001b[38;5;28;01mreturn\u001b[39;00m \u001b[38;5;28;43mself\u001b[39;49m\u001b[38;5;241;43m.\u001b[39;49m\u001b[43m_assumptions\u001b[49m\u001b[43m[\u001b[49m\u001b[43mfact\u001b[49m\u001b[43m]\u001b[49m\n\u001b[0;32m    500\u001b[0m \u001b[38;5;28;01mexcept\u001b[39;00m \u001b[38;5;167;01mKeyError\u001b[39;00m:\n",
      "\u001b[1;31mKeyError\u001b[0m: 'extended_real'",
      "\nDuring handling of the above exception, another exception occurred:\n",
      "\u001b[1;31mKeyboardInterrupt\u001b[0m                         Traceback (most recent call last)",
      "Cell \u001b[1;32mIn[57], line 22\u001b[0m\n\u001b[0;32m     18\u001b[0m i \u001b[38;5;241m=\u001b[39m \u001b[38;5;241m0\u001b[39m                                       \u001b[38;5;66;03m# Initialize step counter\u001b[39;00m\n\u001b[0;32m     20\u001b[0m \u001b[38;5;28;01mwhile\u001b[39;00m i \u001b[38;5;241m<\u001b[39m step_number:\n\u001b[0;32m     21\u001b[0m     \u001b[38;5;66;03m# Call solver\u001b[39;00m\n\u001b[1;32m---> 22\u001b[0m     q_sim, dq_sim, t_array, bodypos \u001b[38;5;241m=\u001b[39m \u001b[43mRK45_solver_v2\u001b[49m\u001b[43m(\u001b[49m\u001b[43msolving_time\u001b[49m\u001b[43m,\u001b[49m\u001b[43m \u001b[49m\u001b[43mx\u001b[49m\u001b[43m,\u001b[49m\u001b[43m \u001b[49m\u001b[43mu\u001b[49m\u001b[43m,\u001b[49m\u001b[43m \u001b[49m\u001b[43mM\u001b[49m\u001b[43m,\u001b[49m\u001b[43m \u001b[49m\u001b[43mC\u001b[49m\u001b[43m,\u001b[49m\u001b[43m \u001b[49m\u001b[43mjoint_order\u001b[49m\u001b[43m)\u001b[49m\n\u001b[0;32m     23\u001b[0m     pos_x_1_sim, pos_y_1_sim \u001b[38;5;241m=\u001b[39m sim_pos(q_sim[\u001b[38;5;241m-\u001b[39m\u001b[38;5;241m1\u001b[39m, :], joint_order)\n\u001b[0;32m     24\u001b[0m     plot(pos_y_1_sim, pos_x_1_sim)  \n",
      "Cell \u001b[1;32mIn[54], line 25\u001b[0m, in \u001b[0;36mRK45_solver_v2\u001b[1;34m(time, x0, u, M, C, joint_order)\u001b[0m\n\u001b[0;32m     23\u001b[0m k1 \u001b[38;5;241m=\u001b[39m openloop_v2(x, t, u)\n\u001b[0;32m     24\u001b[0m k2 \u001b[38;5;241m=\u001b[39m openloop_v2(x\u001b[38;5;241m+\u001b[39mh\u001b[38;5;241m*\u001b[39m(k1\u001b[38;5;241m/\u001b[39m\u001b[38;5;241m2\u001b[39m), t\u001b[38;5;241m+\u001b[39m(h\u001b[38;5;241m/\u001b[39m\u001b[38;5;241m2\u001b[39m),u)\n\u001b[1;32m---> 25\u001b[0m k3 \u001b[38;5;241m=\u001b[39m \u001b[43mopenloop_v2\u001b[49m\u001b[43m(\u001b[49m\u001b[43mx\u001b[49m\u001b[38;5;241;43m+\u001b[39;49m\u001b[43mh\u001b[49m\u001b[38;5;241;43m*\u001b[39;49m\u001b[43m(\u001b[49m\u001b[43mk2\u001b[49m\u001b[38;5;241;43m/\u001b[39;49m\u001b[38;5;241;43m2\u001b[39;49m\u001b[43m)\u001b[49m\u001b[43m,\u001b[49m\u001b[43m \u001b[49m\u001b[43mt\u001b[49m\u001b[38;5;241;43m+\u001b[39;49m\u001b[43m(\u001b[49m\u001b[43mh\u001b[49m\u001b[38;5;241;43m/\u001b[39;49m\u001b[38;5;241;43m2\u001b[39;49m\u001b[43m)\u001b[49m\u001b[43m,\u001b[49m\u001b[43mu\u001b[49m\u001b[43m)\u001b[49m\n\u001b[0;32m     26\u001b[0m k4 \u001b[38;5;241m=\u001b[39m openloop_v2(x\u001b[38;5;241m+\u001b[39mh\u001b[38;5;241m*\u001b[39mk3, t\u001b[38;5;241m+\u001b[39mh,u)\n\u001b[0;32m     28\u001b[0m \u001b[38;5;66;03m# Calculate weighted response and save values\u001b[39;00m\n",
      "Cell \u001b[1;32mIn[52], line 8\u001b[0m, in \u001b[0;36mopenloop_v2\u001b[1;34m(x, t, inputs)\u001b[0m\n\u001b[0;32m      4\u001b[0m q_sym \u001b[38;5;241m=\u001b[39m [q1_sym, q2_sym, q3_sym, q4_sym, q5_sym]\n\u001b[0;32m      6\u001b[0m q, dq \u001b[38;5;241m=\u001b[39m x[:\u001b[38;5;241m5\u001b[39m],x[\u001b[38;5;241m5\u001b[39m:]                 \u001b[38;5;66;03m# First set desired state\u001b[39;00m\n\u001b[1;32m----> 8\u001b[0m equation_motion_d, C_d, M_d, Bu_d \u001b[38;5;241m=\u001b[39m \u001b[43mDynamics\u001b[49m\u001b[43m(\u001b[49m\u001b[43mq_sym\u001b[49m\u001b[43m,\u001b[49m\u001b[43m \u001b[49m\u001b[43minputs\u001b[49m\u001b[43m)\u001b[49m\n\u001b[0;32m     10\u001b[0m \u001b[38;5;66;03m# Substitute mass matrix\u001b[39;00m\n\u001b[0;32m     11\u001b[0m M \u001b[38;5;241m=\u001b[39m M_d\u001b[38;5;241m.\u001b[39msubs({q1: q[\u001b[38;5;241m0\u001b[39m], q2: q[\u001b[38;5;241m1\u001b[39m], q3: q[\u001b[38;5;241m2\u001b[39m], q4: q[\u001b[38;5;241m3\u001b[39m], q5: q[\u001b[38;5;241m4\u001b[39m]})\n",
      "Cell \u001b[1;32mIn[49], line 21\u001b[0m, in \u001b[0;36mDynamics\u001b[1;34m(q, inputs)\u001b[0m\n\u001b[0;32m     18\u001b[0m inertia \u001b[38;5;241m=\u001b[39m [I1, I2, I3, I4, I5]\n\u001b[0;32m     20\u001b[0m r_k, joint_k, dtheta_time_k, ddtheta_time_k, dr_time_k, joint_order_k \u001b[38;5;241m=\u001b[39m Kinematics(q)           \u001b[38;5;66;03m# Do kinematics\u001b[39;00m\n\u001b[1;32m---> 21\u001b[0m eq_motion_d \u001b[38;5;241m=\u001b[39m \u001b[43mLagr\u001b[49m\u001b[43m(\u001b[49m\u001b[43minertia\u001b[49m\u001b[43m,\u001b[49m\u001b[43m \u001b[49m\u001b[43mmass\u001b[49m\u001b[43m,\u001b[49m\u001b[43m \u001b[49m\u001b[43mg\u001b[49m\u001b[43m,\u001b[49m\u001b[43m \u001b[49m\u001b[43mq\u001b[49m\u001b[43m,\u001b[49m\u001b[43m \u001b[49m\u001b[43mr_k\u001b[49m\u001b[43m,\u001b[49m\u001b[43m \u001b[49m\u001b[43mdr_time_k\u001b[49m\u001b[43m)\u001b[49m                                         \u001b[38;5;66;03m# Equations of motion\u001b[39;00m\n\u001b[0;32m     23\u001b[0m \u001b[38;5;66;03m# Symbolic derivatives of relative angles\u001b[39;00m\n\u001b[0;32m     24\u001b[0m dq_sym \u001b[38;5;241m=\u001b[39m dq_t(q)            \u001b[38;5;66;03m# Velocities\u001b[39;00m\n",
      "Cell \u001b[1;32mIn[42], line 16\u001b[0m, in \u001b[0;36mLagr\u001b[1;34m(I, m, g, q, r, dr_t)\u001b[0m\n\u001b[0;32m     13\u001b[0m \u001b[38;5;28;01mfor\u001b[39;00m i \u001b[38;5;129;01min\u001b[39;00m \u001b[38;5;28mrange\u001b[39m(\u001b[38;5;241m5\u001b[39m):\n\u001b[0;32m     14\u001b[0m     dL_dq[i] \u001b[38;5;241m=\u001b[39m sp\u001b[38;5;241m.\u001b[39mdiff(L, q[i])                 \u001b[38;5;66;03m# Derivative of Lagrangian respect q\u001b[39;00m\n\u001b[1;32m---> 16\u001b[0m     dL_ddq[i] \u001b[38;5;241m=\u001b[39m \u001b[43msp\u001b[49m\u001b[38;5;241;43m.\u001b[39;49m\u001b[43mdiff\u001b[49m\u001b[43m(\u001b[49m\u001b[43mL\u001b[49m\u001b[43m,\u001b[49m\u001b[43m \u001b[49m\u001b[43msp\u001b[49m\u001b[38;5;241;43m.\u001b[39;49m\u001b[43mdiff\u001b[49m\u001b[43m(\u001b[49m\u001b[43mq\u001b[49m\u001b[43m[\u001b[49m\u001b[43mi\u001b[49m\u001b[43m]\u001b[49m\u001b[43m)\u001b[49m\u001b[43m)\u001b[49m       \u001b[38;5;66;03m# Derivative of Lagrangian respect derivative of q\u001b[39;00m\n\u001b[0;32m     17\u001b[0m     dL_ddq_dt[i] \u001b[38;5;241m=\u001b[39m sp\u001b[38;5;241m.\u001b[39mdiff(dL_ddq[i], t)        \u001b[38;5;66;03m# Derivative of previous derivation respect the time\u001b[39;00m\n\u001b[0;32m     19\u001b[0m     e_motion[i] \u001b[38;5;241m=\u001b[39m dL_dq[i] \u001b[38;5;241m-\u001b[39m dL_ddq_dt[i]       \u001b[38;5;66;03m# Rest both terms to obtain equations of motion\u001b[39;00m\n",
      "File \u001b[1;32mc:\\Users\\uamen\\AppData\\Local\\Programs\\Python\\Python311\\Lib\\site-packages\\sympy\\core\\function.py:2482\u001b[0m, in \u001b[0;36mdiff\u001b[1;34m(f, *symbols, **kwargs)\u001b[0m\n\u001b[0;32m   2418\u001b[0m \u001b[38;5;250m\u001b[39m\u001b[38;5;124;03m\"\"\"\u001b[39;00m\n\u001b[0;32m   2419\u001b[0m \u001b[38;5;124;03mDifferentiate f with respect to symbols.\u001b[39;00m\n\u001b[0;32m   2420\u001b[0m \n\u001b[1;32m   (...)\u001b[0m\n\u001b[0;32m   2479\u001b[0m \n\u001b[0;32m   2480\u001b[0m \u001b[38;5;124;03m\"\"\"\u001b[39;00m\n\u001b[0;32m   2481\u001b[0m \u001b[38;5;28;01mif\u001b[39;00m \u001b[38;5;28mhasattr\u001b[39m(f, \u001b[38;5;124m'\u001b[39m\u001b[38;5;124mdiff\u001b[39m\u001b[38;5;124m'\u001b[39m):\n\u001b[1;32m-> 2482\u001b[0m     \u001b[38;5;28;01mreturn\u001b[39;00m \u001b[43mf\u001b[49m\u001b[38;5;241;43m.\u001b[39;49m\u001b[43mdiff\u001b[49m\u001b[43m(\u001b[49m\u001b[38;5;241;43m*\u001b[39;49m\u001b[43msymbols\u001b[49m\u001b[43m,\u001b[49m\u001b[43m \u001b[49m\u001b[38;5;241;43m*\u001b[39;49m\u001b[38;5;241;43m*\u001b[39;49m\u001b[43mkwargs\u001b[49m\u001b[43m)\u001b[49m\n\u001b[0;32m   2483\u001b[0m kwargs\u001b[38;5;241m.\u001b[39msetdefault(\u001b[38;5;124m'\u001b[39m\u001b[38;5;124mevaluate\u001b[39m\u001b[38;5;124m'\u001b[39m, \u001b[38;5;28;01mTrue\u001b[39;00m)\n\u001b[0;32m   2484\u001b[0m \u001b[38;5;28;01mreturn\u001b[39;00m _derivative_dispatch(f, \u001b[38;5;241m*\u001b[39msymbols, \u001b[38;5;241m*\u001b[39m\u001b[38;5;241m*\u001b[39mkwargs)\n",
      "File \u001b[1;32mc:\\Users\\uamen\\AppData\\Local\\Programs\\Python\\Python311\\Lib\\site-packages\\sympy\\core\\expr.py:3586\u001b[0m, in \u001b[0;36mExpr.diff\u001b[1;34m(self, *symbols, **assumptions)\u001b[0m\n\u001b[0;32m   3584\u001b[0m \u001b[38;5;28;01mdef\u001b[39;00m \u001b[38;5;21mdiff\u001b[39m(\u001b[38;5;28mself\u001b[39m, \u001b[38;5;241m*\u001b[39msymbols, \u001b[38;5;241m*\u001b[39m\u001b[38;5;241m*\u001b[39massumptions):\n\u001b[0;32m   3585\u001b[0m     assumptions\u001b[38;5;241m.\u001b[39msetdefault(\u001b[38;5;124m\"\u001b[39m\u001b[38;5;124mevaluate\u001b[39m\u001b[38;5;124m\"\u001b[39m, \u001b[38;5;28;01mTrue\u001b[39;00m)\n\u001b[1;32m-> 3586\u001b[0m     \u001b[38;5;28;01mreturn\u001b[39;00m \u001b[43m_derivative_dispatch\u001b[49m\u001b[43m(\u001b[49m\u001b[38;5;28;43mself\u001b[39;49m\u001b[43m,\u001b[49m\u001b[43m \u001b[49m\u001b[38;5;241;43m*\u001b[39;49m\u001b[43msymbols\u001b[49m\u001b[43m,\u001b[49m\u001b[43m \u001b[49m\u001b[38;5;241;43m*\u001b[39;49m\u001b[38;5;241;43m*\u001b[39;49m\u001b[43massumptions\u001b[49m\u001b[43m)\u001b[49m\n",
      "File \u001b[1;32mc:\\Users\\uamen\\AppData\\Local\\Programs\\Python\\Python311\\Lib\\site-packages\\sympy\\core\\function.py:1909\u001b[0m, in \u001b[0;36m_derivative_dispatch\u001b[1;34m(expr, *variables, **kwargs)\u001b[0m\n\u001b[0;32m   1907\u001b[0m     \u001b[38;5;28;01mfrom\u001b[39;00m \u001b[38;5;21;01msympy\u001b[39;00m\u001b[38;5;21;01m.\u001b[39;00m\u001b[38;5;21;01mtensor\u001b[39;00m\u001b[38;5;21;01m.\u001b[39;00m\u001b[38;5;21;01marray\u001b[39;00m\u001b[38;5;21;01m.\u001b[39;00m\u001b[38;5;21;01marray_derivatives\u001b[39;00m \u001b[38;5;28;01mimport\u001b[39;00m ArrayDerivative\n\u001b[0;32m   1908\u001b[0m     \u001b[38;5;28;01mreturn\u001b[39;00m ArrayDerivative(expr, \u001b[38;5;241m*\u001b[39mvariables, \u001b[38;5;241m*\u001b[39m\u001b[38;5;241m*\u001b[39mkwargs)\n\u001b[1;32m-> 1909\u001b[0m \u001b[38;5;28;01mreturn\u001b[39;00m \u001b[43mDerivative\u001b[49m\u001b[43m(\u001b[49m\u001b[43mexpr\u001b[49m\u001b[43m,\u001b[49m\u001b[43m \u001b[49m\u001b[38;5;241;43m*\u001b[39;49m\u001b[43mvariables\u001b[49m\u001b[43m,\u001b[49m\u001b[43m \u001b[49m\u001b[38;5;241;43m*\u001b[39;49m\u001b[38;5;241;43m*\u001b[39;49m\u001b[43mkwargs\u001b[49m\u001b[43m)\u001b[49m\n",
      "File \u001b[1;32mc:\\Users\\uamen\\AppData\\Local\\Programs\\Python\\Python311\\Lib\\site-packages\\sympy\\core\\function.py:1437\u001b[0m, in \u001b[0;36mDerivative.__new__\u001b[1;34m(cls, expr, *variables, **kwargs)\u001b[0m\n\u001b[0;32m   1430\u001b[0m     \u001b[38;5;28;01mif\u001b[39;00m \u001b[38;5;129;01mnot\u001b[39;00m old_v\u001b[38;5;241m.\u001b[39mis_scalar \u001b[38;5;129;01mand\u001b[39;00m \u001b[38;5;129;01mnot\u001b[39;00m \u001b[38;5;28mhasattr\u001b[39m(\n\u001b[0;32m   1431\u001b[0m             old_v, \u001b[38;5;124m'\u001b[39m\u001b[38;5;124m_eval_derivative\u001b[39m\u001b[38;5;124m'\u001b[39m):\n\u001b[0;32m   1432\u001b[0m         \u001b[38;5;66;03m# special hack providing evaluation for classes\u001b[39;00m\n\u001b[0;32m   1433\u001b[0m         \u001b[38;5;66;03m# that have defined is_scalar=True but have no\u001b[39;00m\n\u001b[0;32m   1434\u001b[0m         \u001b[38;5;66;03m# _eval_derivative defined\u001b[39;00m\n\u001b[0;32m   1435\u001b[0m         expr \u001b[38;5;241m*\u001b[39m\u001b[38;5;241m=\u001b[39m old_v\u001b[38;5;241m.\u001b[39mdiff(old_v)\n\u001b[1;32m-> 1437\u001b[0m obj \u001b[38;5;241m=\u001b[39m \u001b[38;5;28;43mcls\u001b[39;49m\u001b[38;5;241;43m.\u001b[39;49m\u001b[43m_dispatch_eval_derivative_n_times\u001b[49m\u001b[43m(\u001b[49m\u001b[43mexpr\u001b[49m\u001b[43m,\u001b[49m\u001b[43m \u001b[49m\u001b[43mv\u001b[49m\u001b[43m,\u001b[49m\u001b[43m \u001b[49m\u001b[43mcount\u001b[49m\u001b[43m)\u001b[49m\n\u001b[0;32m   1438\u001b[0m \u001b[38;5;28;01mif\u001b[39;00m obj \u001b[38;5;129;01mis\u001b[39;00m \u001b[38;5;129;01mnot\u001b[39;00m \u001b[38;5;28;01mNone\u001b[39;00m \u001b[38;5;129;01mand\u001b[39;00m obj\u001b[38;5;241m.\u001b[39mis_zero:\n\u001b[0;32m   1439\u001b[0m     \u001b[38;5;28;01mreturn\u001b[39;00m obj\n",
      "File \u001b[1;32mc:\\Users\\uamen\\AppData\\Local\\Programs\\Python\\Python311\\Lib\\site-packages\\sympy\\core\\function.py:1898\u001b[0m, in \u001b[0;36mDerivative._dispatch_eval_derivative_n_times\u001b[1;34m(cls, expr, v, count)\u001b[0m\n\u001b[0;32m   1892\u001b[0m \u001b[38;5;129m@classmethod\u001b[39m\n\u001b[0;32m   1893\u001b[0m \u001b[38;5;28;01mdef\u001b[39;00m \u001b[38;5;21m_dispatch_eval_derivative_n_times\u001b[39m(\u001b[38;5;28mcls\u001b[39m, expr, v, count):\n\u001b[0;32m   1894\u001b[0m     \u001b[38;5;66;03m# Evaluate the derivative `n` times.  If\u001b[39;00m\n\u001b[0;32m   1895\u001b[0m     \u001b[38;5;66;03m# `_eval_derivative_n_times` is not overridden by the current\u001b[39;00m\n\u001b[0;32m   1896\u001b[0m     \u001b[38;5;66;03m# object, the default in `Basic` will call a loop over\u001b[39;00m\n\u001b[0;32m   1897\u001b[0m     \u001b[38;5;66;03m# `_eval_derivative`:\u001b[39;00m\n\u001b[1;32m-> 1898\u001b[0m     \u001b[38;5;28;01mreturn\u001b[39;00m \u001b[43mexpr\u001b[49m\u001b[38;5;241;43m.\u001b[39;49m\u001b[43m_eval_derivative_n_times\u001b[49m\u001b[43m(\u001b[49m\u001b[43mv\u001b[49m\u001b[43m,\u001b[49m\u001b[43m \u001b[49m\u001b[43mcount\u001b[49m\u001b[43m)\u001b[49m\n",
      "File \u001b[1;32mc:\\Users\\uamen\\AppData\\Local\\Programs\\Python\\Python311\\Lib\\site-packages\\sympy\\core\\basic.py:1871\u001b[0m, in \u001b[0;36mBasic._eval_derivative_n_times\u001b[1;34m(self, s, n)\u001b[0m\n\u001b[0;32m   1869\u001b[0m obj \u001b[38;5;241m=\u001b[39m \u001b[38;5;28mself\u001b[39m\n\u001b[0;32m   1870\u001b[0m \u001b[38;5;28;01mfor\u001b[39;00m i \u001b[38;5;129;01min\u001b[39;00m \u001b[38;5;28mrange\u001b[39m(n):\n\u001b[1;32m-> 1871\u001b[0m     obj2 \u001b[38;5;241m=\u001b[39m \u001b[43mobj\u001b[49m\u001b[38;5;241;43m.\u001b[39;49m\u001b[43m_eval_derivative\u001b[49m\u001b[43m(\u001b[49m\u001b[43ms\u001b[49m\u001b[43m)\u001b[49m\n\u001b[0;32m   1872\u001b[0m     \u001b[38;5;28;01mif\u001b[39;00m obj \u001b[38;5;241m==\u001b[39m obj2 \u001b[38;5;129;01mor\u001b[39;00m obj2 \u001b[38;5;129;01mis\u001b[39;00m \u001b[38;5;28;01mNone\u001b[39;00m:\n\u001b[0;32m   1873\u001b[0m         \u001b[38;5;28;01mbreak\u001b[39;00m\n",
      "File \u001b[1;32mc:\\Users\\uamen\\AppData\\Local\\Programs\\Python\\Python311\\Lib\\site-packages\\sympy\\core\\cache.py:72\u001b[0m, in \u001b[0;36m__cacheit.<locals>.func_wrapper.<locals>.wrapper\u001b[1;34m(*args, **kwargs)\u001b[0m\n\u001b[0;32m     69\u001b[0m \u001b[38;5;129m@wraps\u001b[39m(func)\n\u001b[0;32m     70\u001b[0m \u001b[38;5;28;01mdef\u001b[39;00m \u001b[38;5;21mwrapper\u001b[39m(\u001b[38;5;241m*\u001b[39margs, \u001b[38;5;241m*\u001b[39m\u001b[38;5;241m*\u001b[39mkwargs):\n\u001b[0;32m     71\u001b[0m     \u001b[38;5;28;01mtry\u001b[39;00m:\n\u001b[1;32m---> 72\u001b[0m         retval \u001b[38;5;241m=\u001b[39m \u001b[43mcfunc\u001b[49m\u001b[43m(\u001b[49m\u001b[38;5;241;43m*\u001b[39;49m\u001b[43margs\u001b[49m\u001b[43m,\u001b[49m\u001b[43m \u001b[49m\u001b[38;5;241;43m*\u001b[39;49m\u001b[38;5;241;43m*\u001b[39;49m\u001b[43mkwargs\u001b[49m\u001b[43m)\u001b[49m\n\u001b[0;32m     73\u001b[0m     \u001b[38;5;28;01mexcept\u001b[39;00m \u001b[38;5;167;01mTypeError\u001b[39;00m \u001b[38;5;28;01mas\u001b[39;00m e:\n\u001b[0;32m     74\u001b[0m         \u001b[38;5;28;01mif\u001b[39;00m \u001b[38;5;129;01mnot\u001b[39;00m e\u001b[38;5;241m.\u001b[39margs \u001b[38;5;129;01mor\u001b[39;00m \u001b[38;5;129;01mnot\u001b[39;00m e\u001b[38;5;241m.\u001b[39margs[\u001b[38;5;241m0\u001b[39m]\u001b[38;5;241m.\u001b[39mstartswith(\u001b[38;5;124m'\u001b[39m\u001b[38;5;124munhashable type:\u001b[39m\u001b[38;5;124m'\u001b[39m):\n",
      "File \u001b[1;32mc:\\Users\\uamen\\AppData\\Local\\Programs\\Python\\Python311\\Lib\\site-packages\\sympy\\core\\add.py:507\u001b[0m, in \u001b[0;36mAdd._eval_derivative\u001b[1;34m(self, s)\u001b[0m\n\u001b[0;32m    505\u001b[0m \u001b[38;5;129m@cacheit\u001b[39m\n\u001b[0;32m    506\u001b[0m \u001b[38;5;28;01mdef\u001b[39;00m \u001b[38;5;21m_eval_derivative\u001b[39m(\u001b[38;5;28mself\u001b[39m, s):\n\u001b[1;32m--> 507\u001b[0m     \u001b[38;5;28;01mreturn\u001b[39;00m \u001b[38;5;28mself\u001b[39m\u001b[38;5;241m.\u001b[39mfunc(\u001b[38;5;241m*\u001b[39m\u001b[43m[\u001b[49m\u001b[43ma\u001b[49m\u001b[38;5;241;43m.\u001b[39;49m\u001b[43mdiff\u001b[49m\u001b[43m(\u001b[49m\u001b[43ms\u001b[49m\u001b[43m)\u001b[49m\u001b[43m \u001b[49m\u001b[38;5;28;43;01mfor\u001b[39;49;00m\u001b[43m \u001b[49m\u001b[43ma\u001b[49m\u001b[43m \u001b[49m\u001b[38;5;129;43;01min\u001b[39;49;00m\u001b[43m \u001b[49m\u001b[38;5;28;43mself\u001b[39;49m\u001b[38;5;241;43m.\u001b[39;49m\u001b[43margs\u001b[49m\u001b[43m]\u001b[49m)\n",
      "File \u001b[1;32mc:\\Users\\uamen\\AppData\\Local\\Programs\\Python\\Python311\\Lib\\site-packages\\sympy\\core\\add.py:507\u001b[0m, in \u001b[0;36m<listcomp>\u001b[1;34m(.0)\u001b[0m\n\u001b[0;32m    505\u001b[0m \u001b[38;5;129m@cacheit\u001b[39m\n\u001b[0;32m    506\u001b[0m \u001b[38;5;28;01mdef\u001b[39;00m \u001b[38;5;21m_eval_derivative\u001b[39m(\u001b[38;5;28mself\u001b[39m, s):\n\u001b[1;32m--> 507\u001b[0m     \u001b[38;5;28;01mreturn\u001b[39;00m \u001b[38;5;28mself\u001b[39m\u001b[38;5;241m.\u001b[39mfunc(\u001b[38;5;241m*\u001b[39m[\u001b[43ma\u001b[49m\u001b[38;5;241;43m.\u001b[39;49m\u001b[43mdiff\u001b[49m\u001b[43m(\u001b[49m\u001b[43ms\u001b[49m\u001b[43m)\u001b[49m \u001b[38;5;28;01mfor\u001b[39;00m a \u001b[38;5;129;01min\u001b[39;00m \u001b[38;5;28mself\u001b[39m\u001b[38;5;241m.\u001b[39margs])\n",
      "File \u001b[1;32mc:\\Users\\uamen\\AppData\\Local\\Programs\\Python\\Python311\\Lib\\site-packages\\sympy\\core\\expr.py:3586\u001b[0m, in \u001b[0;36mExpr.diff\u001b[1;34m(self, *symbols, **assumptions)\u001b[0m\n\u001b[0;32m   3584\u001b[0m \u001b[38;5;28;01mdef\u001b[39;00m \u001b[38;5;21mdiff\u001b[39m(\u001b[38;5;28mself\u001b[39m, \u001b[38;5;241m*\u001b[39msymbols, \u001b[38;5;241m*\u001b[39m\u001b[38;5;241m*\u001b[39massumptions):\n\u001b[0;32m   3585\u001b[0m     assumptions\u001b[38;5;241m.\u001b[39msetdefault(\u001b[38;5;124m\"\u001b[39m\u001b[38;5;124mevaluate\u001b[39m\u001b[38;5;124m\"\u001b[39m, \u001b[38;5;28;01mTrue\u001b[39;00m)\n\u001b[1;32m-> 3586\u001b[0m     \u001b[38;5;28;01mreturn\u001b[39;00m \u001b[43m_derivative_dispatch\u001b[49m\u001b[43m(\u001b[49m\u001b[38;5;28;43mself\u001b[39;49m\u001b[43m,\u001b[49m\u001b[43m \u001b[49m\u001b[38;5;241;43m*\u001b[39;49m\u001b[43msymbols\u001b[49m\u001b[43m,\u001b[49m\u001b[43m \u001b[49m\u001b[38;5;241;43m*\u001b[39;49m\u001b[38;5;241;43m*\u001b[39;49m\u001b[43massumptions\u001b[49m\u001b[43m)\u001b[49m\n",
      "File \u001b[1;32mc:\\Users\\uamen\\AppData\\Local\\Programs\\Python\\Python311\\Lib\\site-packages\\sympy\\core\\function.py:1909\u001b[0m, in \u001b[0;36m_derivative_dispatch\u001b[1;34m(expr, *variables, **kwargs)\u001b[0m\n\u001b[0;32m   1907\u001b[0m     \u001b[38;5;28;01mfrom\u001b[39;00m \u001b[38;5;21;01msympy\u001b[39;00m\u001b[38;5;21;01m.\u001b[39;00m\u001b[38;5;21;01mtensor\u001b[39;00m\u001b[38;5;21;01m.\u001b[39;00m\u001b[38;5;21;01marray\u001b[39;00m\u001b[38;5;21;01m.\u001b[39;00m\u001b[38;5;21;01marray_derivatives\u001b[39;00m \u001b[38;5;28;01mimport\u001b[39;00m ArrayDerivative\n\u001b[0;32m   1908\u001b[0m     \u001b[38;5;28;01mreturn\u001b[39;00m ArrayDerivative(expr, \u001b[38;5;241m*\u001b[39mvariables, \u001b[38;5;241m*\u001b[39m\u001b[38;5;241m*\u001b[39mkwargs)\n\u001b[1;32m-> 1909\u001b[0m \u001b[38;5;28;01mreturn\u001b[39;00m \u001b[43mDerivative\u001b[49m\u001b[43m(\u001b[49m\u001b[43mexpr\u001b[49m\u001b[43m,\u001b[49m\u001b[43m \u001b[49m\u001b[38;5;241;43m*\u001b[39;49m\u001b[43mvariables\u001b[49m\u001b[43m,\u001b[49m\u001b[43m \u001b[49m\u001b[38;5;241;43m*\u001b[39;49m\u001b[38;5;241;43m*\u001b[39;49m\u001b[43mkwargs\u001b[49m\u001b[43m)\u001b[49m\n",
      "File \u001b[1;32mc:\\Users\\uamen\\AppData\\Local\\Programs\\Python\\Python311\\Lib\\site-packages\\sympy\\core\\function.py:1437\u001b[0m, in \u001b[0;36mDerivative.__new__\u001b[1;34m(cls, expr, *variables, **kwargs)\u001b[0m\n\u001b[0;32m   1430\u001b[0m     \u001b[38;5;28;01mif\u001b[39;00m \u001b[38;5;129;01mnot\u001b[39;00m old_v\u001b[38;5;241m.\u001b[39mis_scalar \u001b[38;5;129;01mand\u001b[39;00m \u001b[38;5;129;01mnot\u001b[39;00m \u001b[38;5;28mhasattr\u001b[39m(\n\u001b[0;32m   1431\u001b[0m             old_v, \u001b[38;5;124m'\u001b[39m\u001b[38;5;124m_eval_derivative\u001b[39m\u001b[38;5;124m'\u001b[39m):\n\u001b[0;32m   1432\u001b[0m         \u001b[38;5;66;03m# special hack providing evaluation for classes\u001b[39;00m\n\u001b[0;32m   1433\u001b[0m         \u001b[38;5;66;03m# that have defined is_scalar=True but have no\u001b[39;00m\n\u001b[0;32m   1434\u001b[0m         \u001b[38;5;66;03m# _eval_derivative defined\u001b[39;00m\n\u001b[0;32m   1435\u001b[0m         expr \u001b[38;5;241m*\u001b[39m\u001b[38;5;241m=\u001b[39m old_v\u001b[38;5;241m.\u001b[39mdiff(old_v)\n\u001b[1;32m-> 1437\u001b[0m obj \u001b[38;5;241m=\u001b[39m \u001b[38;5;28;43mcls\u001b[39;49m\u001b[38;5;241;43m.\u001b[39;49m\u001b[43m_dispatch_eval_derivative_n_times\u001b[49m\u001b[43m(\u001b[49m\u001b[43mexpr\u001b[49m\u001b[43m,\u001b[49m\u001b[43m \u001b[49m\u001b[43mv\u001b[49m\u001b[43m,\u001b[49m\u001b[43m \u001b[49m\u001b[43mcount\u001b[49m\u001b[43m)\u001b[49m\n\u001b[0;32m   1438\u001b[0m \u001b[38;5;28;01mif\u001b[39;00m obj \u001b[38;5;129;01mis\u001b[39;00m \u001b[38;5;129;01mnot\u001b[39;00m \u001b[38;5;28;01mNone\u001b[39;00m \u001b[38;5;129;01mand\u001b[39;00m obj\u001b[38;5;241m.\u001b[39mis_zero:\n\u001b[0;32m   1439\u001b[0m     \u001b[38;5;28;01mreturn\u001b[39;00m obj\n",
      "File \u001b[1;32mc:\\Users\\uamen\\AppData\\Local\\Programs\\Python\\Python311\\Lib\\site-packages\\sympy\\core\\function.py:1898\u001b[0m, in \u001b[0;36mDerivative._dispatch_eval_derivative_n_times\u001b[1;34m(cls, expr, v, count)\u001b[0m\n\u001b[0;32m   1892\u001b[0m \u001b[38;5;129m@classmethod\u001b[39m\n\u001b[0;32m   1893\u001b[0m \u001b[38;5;28;01mdef\u001b[39;00m \u001b[38;5;21m_dispatch_eval_derivative_n_times\u001b[39m(\u001b[38;5;28mcls\u001b[39m, expr, v, count):\n\u001b[0;32m   1894\u001b[0m     \u001b[38;5;66;03m# Evaluate the derivative `n` times.  If\u001b[39;00m\n\u001b[0;32m   1895\u001b[0m     \u001b[38;5;66;03m# `_eval_derivative_n_times` is not overridden by the current\u001b[39;00m\n\u001b[0;32m   1896\u001b[0m     \u001b[38;5;66;03m# object, the default in `Basic` will call a loop over\u001b[39;00m\n\u001b[0;32m   1897\u001b[0m     \u001b[38;5;66;03m# `_eval_derivative`:\u001b[39;00m\n\u001b[1;32m-> 1898\u001b[0m     \u001b[38;5;28;01mreturn\u001b[39;00m \u001b[43mexpr\u001b[49m\u001b[38;5;241;43m.\u001b[39;49m\u001b[43m_eval_derivative_n_times\u001b[49m\u001b[43m(\u001b[49m\u001b[43mv\u001b[49m\u001b[43m,\u001b[49m\u001b[43m \u001b[49m\u001b[43mcount\u001b[49m\u001b[43m)\u001b[49m\n",
      "File \u001b[1;32mc:\\Users\\uamen\\AppData\\Local\\Programs\\Python\\Python311\\Lib\\site-packages\\sympy\\core\\cache.py:72\u001b[0m, in \u001b[0;36m__cacheit.<locals>.func_wrapper.<locals>.wrapper\u001b[1;34m(*args, **kwargs)\u001b[0m\n\u001b[0;32m     69\u001b[0m \u001b[38;5;129m@wraps\u001b[39m(func)\n\u001b[0;32m     70\u001b[0m \u001b[38;5;28;01mdef\u001b[39;00m \u001b[38;5;21mwrapper\u001b[39m(\u001b[38;5;241m*\u001b[39margs, \u001b[38;5;241m*\u001b[39m\u001b[38;5;241m*\u001b[39mkwargs):\n\u001b[0;32m     71\u001b[0m     \u001b[38;5;28;01mtry\u001b[39;00m:\n\u001b[1;32m---> 72\u001b[0m         retval \u001b[38;5;241m=\u001b[39m \u001b[43mcfunc\u001b[49m\u001b[43m(\u001b[49m\u001b[38;5;241;43m*\u001b[39;49m\u001b[43margs\u001b[49m\u001b[43m,\u001b[49m\u001b[43m \u001b[49m\u001b[38;5;241;43m*\u001b[39;49m\u001b[38;5;241;43m*\u001b[39;49m\u001b[43mkwargs\u001b[49m\u001b[43m)\u001b[49m\n\u001b[0;32m     73\u001b[0m     \u001b[38;5;28;01mexcept\u001b[39;00m \u001b[38;5;167;01mTypeError\u001b[39;00m \u001b[38;5;28;01mas\u001b[39;00m e:\n\u001b[0;32m     74\u001b[0m         \u001b[38;5;28;01mif\u001b[39;00m \u001b[38;5;129;01mnot\u001b[39;00m e\u001b[38;5;241m.\u001b[39margs \u001b[38;5;129;01mor\u001b[39;00m \u001b[38;5;129;01mnot\u001b[39;00m e\u001b[38;5;241m.\u001b[39margs[\u001b[38;5;241m0\u001b[39m]\u001b[38;5;241m.\u001b[39mstartswith(\u001b[38;5;124m'\u001b[39m\u001b[38;5;124munhashable type:\u001b[39m\u001b[38;5;124m'\u001b[39m):\n",
      "File \u001b[1;32mc:\\Users\\uamen\\AppData\\Local\\Programs\\Python\\Python311\\Lib\\site-packages\\sympy\\core\\mul.py:986\u001b[0m, in \u001b[0;36mMul._eval_derivative_n_times\u001b[1;34m(self, s, n)\u001b[0m\n\u001b[0;32m    984\u001b[0m \u001b[38;5;28;01mfrom\u001b[39;00m \u001b[38;5;21;01msympy\u001b[39;00m\u001b[38;5;21;01m.\u001b[39;00m\u001b[38;5;21;01mntheory\u001b[39;00m\u001b[38;5;21;01m.\u001b[39;00m\u001b[38;5;21;01mmultinomial\u001b[39;00m \u001b[38;5;28;01mimport\u001b[39;00m multinomial_coefficients_iterator\n\u001b[0;32m    985\u001b[0m \u001b[38;5;28;01mfor\u001b[39;00m kvals, c \u001b[38;5;129;01min\u001b[39;00m multinomial_coefficients_iterator(m, n):\n\u001b[1;32m--> 986\u001b[0m     p \u001b[38;5;241m=\u001b[39m Mul(\u001b[38;5;241m*\u001b[39m\u001b[43m[\u001b[49m\u001b[43marg\u001b[49m\u001b[38;5;241;43m.\u001b[39;49m\u001b[43mdiff\u001b[49m\u001b[43m(\u001b[49m\u001b[43m(\u001b[49m\u001b[43ms\u001b[49m\u001b[43m,\u001b[49m\u001b[43m \u001b[49m\u001b[43mk\u001b[49m\u001b[43m)\u001b[49m\u001b[43m)\u001b[49m\u001b[43m \u001b[49m\u001b[38;5;28;43;01mfor\u001b[39;49;00m\u001b[43m \u001b[49m\u001b[43mk\u001b[49m\u001b[43m,\u001b[49m\u001b[43m \u001b[49m\u001b[43marg\u001b[49m\u001b[43m \u001b[49m\u001b[38;5;129;43;01min\u001b[39;49;00m\u001b[43m \u001b[49m\u001b[38;5;28;43mzip\u001b[39;49m\u001b[43m(\u001b[49m\u001b[43mkvals\u001b[49m\u001b[43m,\u001b[49m\u001b[43m \u001b[49m\u001b[43margs\u001b[49m\u001b[43m)\u001b[49m\u001b[43m]\u001b[49m)\n\u001b[0;32m    987\u001b[0m     terms\u001b[38;5;241m.\u001b[39mappend(c \u001b[38;5;241m*\u001b[39m p)\n\u001b[0;32m    988\u001b[0m \u001b[38;5;28;01mreturn\u001b[39;00m Add(\u001b[38;5;241m*\u001b[39mterms)\n",
      "File \u001b[1;32mc:\\Users\\uamen\\AppData\\Local\\Programs\\Python\\Python311\\Lib\\site-packages\\sympy\\core\\mul.py:986\u001b[0m, in \u001b[0;36m<listcomp>\u001b[1;34m(.0)\u001b[0m\n\u001b[0;32m    984\u001b[0m \u001b[38;5;28;01mfrom\u001b[39;00m \u001b[38;5;21;01msympy\u001b[39;00m\u001b[38;5;21;01m.\u001b[39;00m\u001b[38;5;21;01mntheory\u001b[39;00m\u001b[38;5;21;01m.\u001b[39;00m\u001b[38;5;21;01mmultinomial\u001b[39;00m \u001b[38;5;28;01mimport\u001b[39;00m multinomial_coefficients_iterator\n\u001b[0;32m    985\u001b[0m \u001b[38;5;28;01mfor\u001b[39;00m kvals, c \u001b[38;5;129;01min\u001b[39;00m multinomial_coefficients_iterator(m, n):\n\u001b[1;32m--> 986\u001b[0m     p \u001b[38;5;241m=\u001b[39m Mul(\u001b[38;5;241m*\u001b[39m[\u001b[43marg\u001b[49m\u001b[38;5;241;43m.\u001b[39;49m\u001b[43mdiff\u001b[49m\u001b[43m(\u001b[49m\u001b[43m(\u001b[49m\u001b[43ms\u001b[49m\u001b[43m,\u001b[49m\u001b[43m \u001b[49m\u001b[43mk\u001b[49m\u001b[43m)\u001b[49m\u001b[43m)\u001b[49m \u001b[38;5;28;01mfor\u001b[39;00m k, arg \u001b[38;5;129;01min\u001b[39;00m \u001b[38;5;28mzip\u001b[39m(kvals, args)])\n\u001b[0;32m    987\u001b[0m     terms\u001b[38;5;241m.\u001b[39mappend(c \u001b[38;5;241m*\u001b[39m p)\n\u001b[0;32m    988\u001b[0m \u001b[38;5;28;01mreturn\u001b[39;00m Add(\u001b[38;5;241m*\u001b[39mterms)\n",
      "File \u001b[1;32mc:\\Users\\uamen\\AppData\\Local\\Programs\\Python\\Python311\\Lib\\site-packages\\sympy\\core\\expr.py:3586\u001b[0m, in \u001b[0;36mExpr.diff\u001b[1;34m(self, *symbols, **assumptions)\u001b[0m\n\u001b[0;32m   3584\u001b[0m \u001b[38;5;28;01mdef\u001b[39;00m \u001b[38;5;21mdiff\u001b[39m(\u001b[38;5;28mself\u001b[39m, \u001b[38;5;241m*\u001b[39msymbols, \u001b[38;5;241m*\u001b[39m\u001b[38;5;241m*\u001b[39massumptions):\n\u001b[0;32m   3585\u001b[0m     assumptions\u001b[38;5;241m.\u001b[39msetdefault(\u001b[38;5;124m\"\u001b[39m\u001b[38;5;124mevaluate\u001b[39m\u001b[38;5;124m\"\u001b[39m, \u001b[38;5;28;01mTrue\u001b[39;00m)\n\u001b[1;32m-> 3586\u001b[0m     \u001b[38;5;28;01mreturn\u001b[39;00m \u001b[43m_derivative_dispatch\u001b[49m\u001b[43m(\u001b[49m\u001b[38;5;28;43mself\u001b[39;49m\u001b[43m,\u001b[49m\u001b[43m \u001b[49m\u001b[38;5;241;43m*\u001b[39;49m\u001b[43msymbols\u001b[49m\u001b[43m,\u001b[49m\u001b[43m \u001b[49m\u001b[38;5;241;43m*\u001b[39;49m\u001b[38;5;241;43m*\u001b[39;49m\u001b[43massumptions\u001b[49m\u001b[43m)\u001b[49m\n",
      "File \u001b[1;32mc:\\Users\\uamen\\AppData\\Local\\Programs\\Python\\Python311\\Lib\\site-packages\\sympy\\core\\function.py:1909\u001b[0m, in \u001b[0;36m_derivative_dispatch\u001b[1;34m(expr, *variables, **kwargs)\u001b[0m\n\u001b[0;32m   1907\u001b[0m     \u001b[38;5;28;01mfrom\u001b[39;00m \u001b[38;5;21;01msympy\u001b[39;00m\u001b[38;5;21;01m.\u001b[39;00m\u001b[38;5;21;01mtensor\u001b[39;00m\u001b[38;5;21;01m.\u001b[39;00m\u001b[38;5;21;01marray\u001b[39;00m\u001b[38;5;21;01m.\u001b[39;00m\u001b[38;5;21;01marray_derivatives\u001b[39;00m \u001b[38;5;28;01mimport\u001b[39;00m ArrayDerivative\n\u001b[0;32m   1908\u001b[0m     \u001b[38;5;28;01mreturn\u001b[39;00m ArrayDerivative(expr, \u001b[38;5;241m*\u001b[39mvariables, \u001b[38;5;241m*\u001b[39m\u001b[38;5;241m*\u001b[39mkwargs)\n\u001b[1;32m-> 1909\u001b[0m \u001b[38;5;28;01mreturn\u001b[39;00m \u001b[43mDerivative\u001b[49m\u001b[43m(\u001b[49m\u001b[43mexpr\u001b[49m\u001b[43m,\u001b[49m\u001b[43m \u001b[49m\u001b[38;5;241;43m*\u001b[39;49m\u001b[43mvariables\u001b[49m\u001b[43m,\u001b[49m\u001b[43m \u001b[49m\u001b[38;5;241;43m*\u001b[39;49m\u001b[38;5;241;43m*\u001b[39;49m\u001b[43mkwargs\u001b[49m\u001b[43m)\u001b[49m\n",
      "File \u001b[1;32mc:\\Users\\uamen\\AppData\\Local\\Programs\\Python\\Python311\\Lib\\site-packages\\sympy\\core\\function.py:1437\u001b[0m, in \u001b[0;36mDerivative.__new__\u001b[1;34m(cls, expr, *variables, **kwargs)\u001b[0m\n\u001b[0;32m   1430\u001b[0m     \u001b[38;5;28;01mif\u001b[39;00m \u001b[38;5;129;01mnot\u001b[39;00m old_v\u001b[38;5;241m.\u001b[39mis_scalar \u001b[38;5;129;01mand\u001b[39;00m \u001b[38;5;129;01mnot\u001b[39;00m \u001b[38;5;28mhasattr\u001b[39m(\n\u001b[0;32m   1431\u001b[0m             old_v, \u001b[38;5;124m'\u001b[39m\u001b[38;5;124m_eval_derivative\u001b[39m\u001b[38;5;124m'\u001b[39m):\n\u001b[0;32m   1432\u001b[0m         \u001b[38;5;66;03m# special hack providing evaluation for classes\u001b[39;00m\n\u001b[0;32m   1433\u001b[0m         \u001b[38;5;66;03m# that have defined is_scalar=True but have no\u001b[39;00m\n\u001b[0;32m   1434\u001b[0m         \u001b[38;5;66;03m# _eval_derivative defined\u001b[39;00m\n\u001b[0;32m   1435\u001b[0m         expr \u001b[38;5;241m*\u001b[39m\u001b[38;5;241m=\u001b[39m old_v\u001b[38;5;241m.\u001b[39mdiff(old_v)\n\u001b[1;32m-> 1437\u001b[0m obj \u001b[38;5;241m=\u001b[39m \u001b[38;5;28;43mcls\u001b[39;49m\u001b[38;5;241;43m.\u001b[39;49m\u001b[43m_dispatch_eval_derivative_n_times\u001b[49m\u001b[43m(\u001b[49m\u001b[43mexpr\u001b[49m\u001b[43m,\u001b[49m\u001b[43m \u001b[49m\u001b[43mv\u001b[49m\u001b[43m,\u001b[49m\u001b[43m \u001b[49m\u001b[43mcount\u001b[49m\u001b[43m)\u001b[49m\n\u001b[0;32m   1438\u001b[0m \u001b[38;5;28;01mif\u001b[39;00m obj \u001b[38;5;129;01mis\u001b[39;00m \u001b[38;5;129;01mnot\u001b[39;00m \u001b[38;5;28;01mNone\u001b[39;00m \u001b[38;5;129;01mand\u001b[39;00m obj\u001b[38;5;241m.\u001b[39mis_zero:\n\u001b[0;32m   1439\u001b[0m     \u001b[38;5;28;01mreturn\u001b[39;00m obj\n",
      "File \u001b[1;32mc:\\Users\\uamen\\AppData\\Local\\Programs\\Python\\Python311\\Lib\\site-packages\\sympy\\core\\function.py:1898\u001b[0m, in \u001b[0;36mDerivative._dispatch_eval_derivative_n_times\u001b[1;34m(cls, expr, v, count)\u001b[0m\n\u001b[0;32m   1892\u001b[0m \u001b[38;5;129m@classmethod\u001b[39m\n\u001b[0;32m   1893\u001b[0m \u001b[38;5;28;01mdef\u001b[39;00m \u001b[38;5;21m_dispatch_eval_derivative_n_times\u001b[39m(\u001b[38;5;28mcls\u001b[39m, expr, v, count):\n\u001b[0;32m   1894\u001b[0m     \u001b[38;5;66;03m# Evaluate the derivative `n` times.  If\u001b[39;00m\n\u001b[0;32m   1895\u001b[0m     \u001b[38;5;66;03m# `_eval_derivative_n_times` is not overridden by the current\u001b[39;00m\n\u001b[0;32m   1896\u001b[0m     \u001b[38;5;66;03m# object, the default in `Basic` will call a loop over\u001b[39;00m\n\u001b[0;32m   1897\u001b[0m     \u001b[38;5;66;03m# `_eval_derivative`:\u001b[39;00m\n\u001b[1;32m-> 1898\u001b[0m     \u001b[38;5;28;01mreturn\u001b[39;00m \u001b[43mexpr\u001b[49m\u001b[38;5;241;43m.\u001b[39;49m\u001b[43m_eval_derivative_n_times\u001b[49m\u001b[43m(\u001b[49m\u001b[43mv\u001b[49m\u001b[43m,\u001b[49m\u001b[43m \u001b[49m\u001b[43mcount\u001b[49m\u001b[43m)\u001b[49m\n",
      "File \u001b[1;32mc:\\Users\\uamen\\AppData\\Local\\Programs\\Python\\Python311\\Lib\\site-packages\\sympy\\core\\basic.py:1871\u001b[0m, in \u001b[0;36mBasic._eval_derivative_n_times\u001b[1;34m(self, s, n)\u001b[0m\n\u001b[0;32m   1869\u001b[0m obj \u001b[38;5;241m=\u001b[39m \u001b[38;5;28mself\u001b[39m\n\u001b[0;32m   1870\u001b[0m \u001b[38;5;28;01mfor\u001b[39;00m i \u001b[38;5;129;01min\u001b[39;00m \u001b[38;5;28mrange\u001b[39m(n):\n\u001b[1;32m-> 1871\u001b[0m     obj2 \u001b[38;5;241m=\u001b[39m \u001b[43mobj\u001b[49m\u001b[38;5;241;43m.\u001b[39;49m\u001b[43m_eval_derivative\u001b[49m\u001b[43m(\u001b[49m\u001b[43ms\u001b[49m\u001b[43m)\u001b[49m\n\u001b[0;32m   1872\u001b[0m     \u001b[38;5;28;01mif\u001b[39;00m obj \u001b[38;5;241m==\u001b[39m obj2 \u001b[38;5;129;01mor\u001b[39;00m obj2 \u001b[38;5;129;01mis\u001b[39;00m \u001b[38;5;28;01mNone\u001b[39;00m:\n\u001b[0;32m   1873\u001b[0m         \u001b[38;5;28;01mbreak\u001b[39;00m\n",
      "File \u001b[1;32mc:\\Users\\uamen\\AppData\\Local\\Programs\\Python\\Python311\\Lib\\site-packages\\sympy\\core\\power.py:1383\u001b[0m, in \u001b[0;36mPow._eval_derivative\u001b[1;34m(self, s)\u001b[0m\n\u001b[0;32m   1381\u001b[0m dbase \u001b[38;5;241m=\u001b[39m \u001b[38;5;28mself\u001b[39m\u001b[38;5;241m.\u001b[39mbase\u001b[38;5;241m.\u001b[39mdiff(s)\n\u001b[0;32m   1382\u001b[0m dexp \u001b[38;5;241m=\u001b[39m \u001b[38;5;28mself\u001b[39m\u001b[38;5;241m.\u001b[39mexp\u001b[38;5;241m.\u001b[39mdiff(s)\n\u001b[1;32m-> 1383\u001b[0m \u001b[38;5;28;01mreturn\u001b[39;00m \u001b[38;5;28mself\u001b[39m \u001b[38;5;241m*\u001b[39m (\u001b[43mdexp\u001b[49m\u001b[43m \u001b[49m\u001b[38;5;241;43m*\u001b[39;49m\u001b[43m \u001b[49m\u001b[43mlog\u001b[49m\u001b[43m(\u001b[49m\u001b[38;5;28;43mself\u001b[39;49m\u001b[38;5;241;43m.\u001b[39;49m\u001b[43mbase\u001b[49m\u001b[43m)\u001b[49m \u001b[38;5;241m+\u001b[39m dbase \u001b[38;5;241m*\u001b[39m \u001b[38;5;28mself\u001b[39m\u001b[38;5;241m.\u001b[39mexp\u001b[38;5;241m/\u001b[39m\u001b[38;5;28mself\u001b[39m\u001b[38;5;241m.\u001b[39mbase)\n",
      "File \u001b[1;32mc:\\Users\\uamen\\AppData\\Local\\Programs\\Python\\Python311\\Lib\\site-packages\\sympy\\core\\numbers.py:2213\u001b[0m, in \u001b[0;36mInteger.__mul__\u001b[1;34m(self, other)\u001b[0m\n\u001b[0;32m   2211\u001b[0m     \u001b[38;5;28;01melif\u001b[39;00m \u001b[38;5;28misinstance\u001b[39m(other, Rational):\n\u001b[0;32m   2212\u001b[0m         \u001b[38;5;28;01mreturn\u001b[39;00m Rational(\u001b[38;5;28mself\u001b[39m\u001b[38;5;241m.\u001b[39mp\u001b[38;5;241m*\u001b[39mother\u001b[38;5;241m.\u001b[39mp, other\u001b[38;5;241m.\u001b[39mq, igcd(\u001b[38;5;28mself\u001b[39m\u001b[38;5;241m.\u001b[39mp, other\u001b[38;5;241m.\u001b[39mq))\n\u001b[1;32m-> 2213\u001b[0m     \u001b[38;5;28;01mreturn\u001b[39;00m \u001b[43mRational\u001b[49m\u001b[38;5;241;43m.\u001b[39;49m\u001b[38;5;21;43m__mul__\u001b[39;49m\u001b[43m(\u001b[49m\u001b[38;5;28;43mself\u001b[39;49m\u001b[43m,\u001b[49m\u001b[43m \u001b[49m\u001b[43mother\u001b[49m\u001b[43m)\u001b[49m\n\u001b[0;32m   2214\u001b[0m \u001b[38;5;28;01mreturn\u001b[39;00m Rational\u001b[38;5;241m.\u001b[39m\u001b[38;5;21m__mul__\u001b[39m(\u001b[38;5;28mself\u001b[39m, other)\n",
      "File \u001b[1;32mc:\\Users\\uamen\\AppData\\Local\\Programs\\Python\\Python311\\Lib\\site-packages\\sympy\\core\\decorators.py:65\u001b[0m, in \u001b[0;36m__sympifyit.<locals>.__sympifyit_wrapper\u001b[1;34m(a, b)\u001b[0m\n\u001b[0;32m     63\u001b[0m     \u001b[38;5;28;01mif\u001b[39;00m \u001b[38;5;129;01mnot\u001b[39;00m \u001b[38;5;28mhasattr\u001b[39m(b, \u001b[38;5;124m'\u001b[39m\u001b[38;5;124m_op_priority\u001b[39m\u001b[38;5;124m'\u001b[39m):\n\u001b[0;32m     64\u001b[0m         b \u001b[38;5;241m=\u001b[39m sympify(b, strict\u001b[38;5;241m=\u001b[39m\u001b[38;5;28;01mTrue\u001b[39;00m)\n\u001b[1;32m---> 65\u001b[0m     \u001b[38;5;28;01mreturn\u001b[39;00m \u001b[43mfunc\u001b[49m\u001b[43m(\u001b[49m\u001b[43ma\u001b[49m\u001b[43m,\u001b[49m\u001b[43m \u001b[49m\u001b[43mb\u001b[49m\u001b[43m)\u001b[49m\n\u001b[0;32m     66\u001b[0m \u001b[38;5;28;01mexcept\u001b[39;00m SympifyError:\n\u001b[0;32m     67\u001b[0m     \u001b[38;5;28;01mreturn\u001b[39;00m retval\n",
      "File \u001b[1;32mc:\\Users\\uamen\\AppData\\Local\\Programs\\Python\\Python311\\Lib\\site-packages\\sympy\\core\\numbers.py:1749\u001b[0m, in \u001b[0;36mRational.__mul__\u001b[1;34m(self, other)\u001b[0m\n\u001b[0;32m   1747\u001b[0m         \u001b[38;5;28;01mreturn\u001b[39;00m other\u001b[38;5;241m*\u001b[39m\u001b[38;5;28mself\u001b[39m\n\u001b[0;32m   1748\u001b[0m     \u001b[38;5;28;01melse\u001b[39;00m:\n\u001b[1;32m-> 1749\u001b[0m         \u001b[38;5;28;01mreturn\u001b[39;00m \u001b[43mNumber\u001b[49m\u001b[38;5;241;43m.\u001b[39;49m\u001b[38;5;21;43m__mul__\u001b[39;49m\u001b[43m(\u001b[49m\u001b[38;5;28;43mself\u001b[39;49m\u001b[43m,\u001b[49m\u001b[43m \u001b[49m\u001b[43mother\u001b[49m\u001b[43m)\u001b[49m\n\u001b[0;32m   1750\u001b[0m \u001b[38;5;28;01mreturn\u001b[39;00m Number\u001b[38;5;241m.\u001b[39m\u001b[38;5;21m__mul__\u001b[39m(\u001b[38;5;28mself\u001b[39m, other)\n",
      "File \u001b[1;32mc:\\Users\\uamen\\AppData\\Local\\Programs\\Python\\Python311\\Lib\\site-packages\\sympy\\core\\decorators.py:65\u001b[0m, in \u001b[0;36m__sympifyit.<locals>.__sympifyit_wrapper\u001b[1;34m(a, b)\u001b[0m\n\u001b[0;32m     63\u001b[0m     \u001b[38;5;28;01mif\u001b[39;00m \u001b[38;5;129;01mnot\u001b[39;00m \u001b[38;5;28mhasattr\u001b[39m(b, \u001b[38;5;124m'\u001b[39m\u001b[38;5;124m_op_priority\u001b[39m\u001b[38;5;124m'\u001b[39m):\n\u001b[0;32m     64\u001b[0m         b \u001b[38;5;241m=\u001b[39m sympify(b, strict\u001b[38;5;241m=\u001b[39m\u001b[38;5;28;01mTrue\u001b[39;00m)\n\u001b[1;32m---> 65\u001b[0m     \u001b[38;5;28;01mreturn\u001b[39;00m \u001b[43mfunc\u001b[49m\u001b[43m(\u001b[49m\u001b[43ma\u001b[49m\u001b[43m,\u001b[49m\u001b[43m \u001b[49m\u001b[43mb\u001b[49m\u001b[43m)\u001b[49m\n\u001b[0;32m     66\u001b[0m \u001b[38;5;28;01mexcept\u001b[39;00m SympifyError:\n\u001b[0;32m     67\u001b[0m     \u001b[38;5;28;01mreturn\u001b[39;00m retval\n",
      "File \u001b[1;32mc:\\Users\\uamen\\AppData\\Local\\Programs\\Python\\Python311\\Lib\\site-packages\\sympy\\core\\numbers.py:759\u001b[0m, in \u001b[0;36mNumber.__mul__\u001b[1;34m(self, other)\u001b[0m\n\u001b[0;32m    757\u001b[0m \u001b[38;5;28;01melif\u001b[39;00m \u001b[38;5;28misinstance\u001b[39m(other, Tuple):\n\u001b[0;32m    758\u001b[0m     \u001b[38;5;28;01mreturn\u001b[39;00m \u001b[38;5;28mNotImplemented\u001b[39m\n\u001b[1;32m--> 759\u001b[0m \u001b[38;5;28;01mreturn\u001b[39;00m \u001b[43mAtomicExpr\u001b[49m\u001b[38;5;241;43m.\u001b[39;49m\u001b[38;5;21;43m__mul__\u001b[39;49m\u001b[43m(\u001b[49m\u001b[38;5;28;43mself\u001b[39;49m\u001b[43m,\u001b[49m\u001b[43m \u001b[49m\u001b[43mother\u001b[49m\u001b[43m)\u001b[49m\n",
      "File \u001b[1;32mc:\\Users\\uamen\\AppData\\Local\\Programs\\Python\\Python311\\Lib\\site-packages\\sympy\\core\\decorators.py:236\u001b[0m, in \u001b[0;36m_SympifyWrapper.make_wrapped.<locals>._func\u001b[1;34m(self, other)\u001b[0m\n\u001b[0;32m    234\u001b[0m \u001b[38;5;28;01mif\u001b[39;00m \u001b[38;5;129;01mnot\u001b[39;00m \u001b[38;5;28misinstance\u001b[39m(other, expectedcls):\n\u001b[0;32m    235\u001b[0m     \u001b[38;5;28;01mreturn\u001b[39;00m retval\n\u001b[1;32m--> 236\u001b[0m \u001b[38;5;28;01mreturn\u001b[39;00m \u001b[43mfunc\u001b[49m\u001b[43m(\u001b[49m\u001b[38;5;28;43mself\u001b[39;49m\u001b[43m,\u001b[49m\u001b[43m \u001b[49m\u001b[43mother\u001b[49m\u001b[43m)\u001b[49m\n",
      "File \u001b[1;32mc:\\Users\\uamen\\AppData\\Local\\Programs\\Python\\Python311\\Lib\\site-packages\\sympy\\core\\decorators.py:106\u001b[0m, in \u001b[0;36mcall_highest_priority.<locals>.priority_decorator.<locals>.binary_op_wrapper\u001b[1;34m(self, other)\u001b[0m\n\u001b[0;32m    104\u001b[0m         \u001b[38;5;28;01mif\u001b[39;00m f \u001b[38;5;129;01mis\u001b[39;00m \u001b[38;5;129;01mnot\u001b[39;00m \u001b[38;5;28;01mNone\u001b[39;00m:\n\u001b[0;32m    105\u001b[0m             \u001b[38;5;28;01mreturn\u001b[39;00m f(\u001b[38;5;28mself\u001b[39m)\n\u001b[1;32m--> 106\u001b[0m \u001b[38;5;28;01mreturn\u001b[39;00m \u001b[43mfunc\u001b[49m\u001b[43m(\u001b[49m\u001b[38;5;28;43mself\u001b[39;49m\u001b[43m,\u001b[49m\u001b[43m \u001b[49m\u001b[43mother\u001b[49m\u001b[43m)\u001b[49m\n",
      "File \u001b[1;32mc:\\Users\\uamen\\AppData\\Local\\Programs\\Python\\Python311\\Lib\\site-packages\\sympy\\core\\expr.py:218\u001b[0m, in \u001b[0;36mExpr.__mul__\u001b[1;34m(self, other)\u001b[0m\n\u001b[0;32m    215\u001b[0m \u001b[38;5;129m@sympify_return\u001b[39m([(\u001b[38;5;124m'\u001b[39m\u001b[38;5;124mother\u001b[39m\u001b[38;5;124m'\u001b[39m, \u001b[38;5;124m'\u001b[39m\u001b[38;5;124mExpr\u001b[39m\u001b[38;5;124m'\u001b[39m)], \u001b[38;5;28mNotImplemented\u001b[39m)\n\u001b[0;32m    216\u001b[0m \u001b[38;5;129m@call_highest_priority\u001b[39m(\u001b[38;5;124m'\u001b[39m\u001b[38;5;124m__rmul__\u001b[39m\u001b[38;5;124m'\u001b[39m)\n\u001b[0;32m    217\u001b[0m \u001b[38;5;28;01mdef\u001b[39;00m \u001b[38;5;21m__mul__\u001b[39m(\u001b[38;5;28mself\u001b[39m, other):\n\u001b[1;32m--> 218\u001b[0m     \u001b[38;5;28;01mreturn\u001b[39;00m \u001b[43mMul\u001b[49m\u001b[43m(\u001b[49m\u001b[38;5;28;43mself\u001b[39;49m\u001b[43m,\u001b[49m\u001b[43m \u001b[49m\u001b[43mother\u001b[49m\u001b[43m)\u001b[49m\n",
      "File \u001b[1;32mc:\\Users\\uamen\\AppData\\Local\\Programs\\Python\\Python311\\Lib\\site-packages\\sympy\\core\\cache.py:72\u001b[0m, in \u001b[0;36m__cacheit.<locals>.func_wrapper.<locals>.wrapper\u001b[1;34m(*args, **kwargs)\u001b[0m\n\u001b[0;32m     69\u001b[0m \u001b[38;5;129m@wraps\u001b[39m(func)\n\u001b[0;32m     70\u001b[0m \u001b[38;5;28;01mdef\u001b[39;00m \u001b[38;5;21mwrapper\u001b[39m(\u001b[38;5;241m*\u001b[39margs, \u001b[38;5;241m*\u001b[39m\u001b[38;5;241m*\u001b[39mkwargs):\n\u001b[0;32m     71\u001b[0m     \u001b[38;5;28;01mtry\u001b[39;00m:\n\u001b[1;32m---> 72\u001b[0m         retval \u001b[38;5;241m=\u001b[39m \u001b[43mcfunc\u001b[49m\u001b[43m(\u001b[49m\u001b[38;5;241;43m*\u001b[39;49m\u001b[43margs\u001b[49m\u001b[43m,\u001b[49m\u001b[43m \u001b[49m\u001b[38;5;241;43m*\u001b[39;49m\u001b[38;5;241;43m*\u001b[39;49m\u001b[43mkwargs\u001b[49m\u001b[43m)\u001b[49m\n\u001b[0;32m     73\u001b[0m     \u001b[38;5;28;01mexcept\u001b[39;00m \u001b[38;5;167;01mTypeError\u001b[39;00m \u001b[38;5;28;01mas\u001b[39;00m e:\n\u001b[0;32m     74\u001b[0m         \u001b[38;5;28;01mif\u001b[39;00m \u001b[38;5;129;01mnot\u001b[39;00m e\u001b[38;5;241m.\u001b[39margs \u001b[38;5;129;01mor\u001b[39;00m \u001b[38;5;129;01mnot\u001b[39;00m e\u001b[38;5;241m.\u001b[39margs[\u001b[38;5;241m0\u001b[39m]\u001b[38;5;241m.\u001b[39mstartswith(\u001b[38;5;124m'\u001b[39m\u001b[38;5;124munhashable type:\u001b[39m\u001b[38;5;124m'\u001b[39m):\n",
      "File \u001b[1;32mc:\\Users\\uamen\\AppData\\Local\\Programs\\Python\\Python311\\Lib\\site-packages\\sympy\\core\\operations.py:98\u001b[0m, in \u001b[0;36mAssocOp.__new__\u001b[1;34m(cls, evaluate, _sympify, *args)\u001b[0m\n\u001b[0;32m     95\u001b[0m \u001b[38;5;28;01mif\u001b[39;00m \u001b[38;5;28mlen\u001b[39m(args) \u001b[38;5;241m==\u001b[39m \u001b[38;5;241m1\u001b[39m:\n\u001b[0;32m     96\u001b[0m     \u001b[38;5;28;01mreturn\u001b[39;00m args[\u001b[38;5;241m0\u001b[39m]\n\u001b[1;32m---> 98\u001b[0m c_part, nc_part, order_symbols \u001b[38;5;241m=\u001b[39m \u001b[38;5;28;43mcls\u001b[39;49m\u001b[38;5;241;43m.\u001b[39;49m\u001b[43mflatten\u001b[49m\u001b[43m(\u001b[49m\u001b[43margs\u001b[49m\u001b[43m)\u001b[49m\n\u001b[0;32m     99\u001b[0m is_commutative \u001b[38;5;241m=\u001b[39m \u001b[38;5;129;01mnot\u001b[39;00m nc_part\n\u001b[0;32m    100\u001b[0m obj \u001b[38;5;241m=\u001b[39m \u001b[38;5;28mcls\u001b[39m\u001b[38;5;241m.\u001b[39m_from_args(c_part \u001b[38;5;241m+\u001b[39m nc_part, is_commutative)\n",
      "File \u001b[1;32mc:\\Users\\uamen\\AppData\\Local\\Programs\\Python\\Python311\\Lib\\site-packages\\sympy\\core\\mul.py:689\u001b[0m, in \u001b[0;36mMul.flatten\u001b[1;34m(cls, seq)\u001b[0m\n\u001b[0;32m    687\u001b[0m \u001b[38;5;28;01mif\u001b[39;00m \u001b[38;5;28many\u001b[39m(\u001b[38;5;28misinstance\u001b[39m(c, MatrixExpr) \u001b[38;5;28;01mfor\u001b[39;00m c \u001b[38;5;129;01min\u001b[39;00m nc_part):\n\u001b[0;32m    688\u001b[0m     \u001b[38;5;28;01mreturn\u001b[39;00m [coeff], nc_part, order_symbols\n\u001b[1;32m--> 689\u001b[0m \u001b[38;5;28;01mif\u001b[39;00m \u001b[38;5;28many\u001b[39m(c\u001b[38;5;241m.\u001b[39mis_finite \u001b[38;5;241m==\u001b[39m \u001b[38;5;28;01mFalse\u001b[39;00m \u001b[38;5;28;01mfor\u001b[39;00m c \u001b[38;5;129;01min\u001b[39;00m c_part):\n\u001b[0;32m    690\u001b[0m     \u001b[38;5;28;01mreturn\u001b[39;00m [S\u001b[38;5;241m.\u001b[39mNaN], [], order_symbols\n\u001b[0;32m    691\u001b[0m \u001b[38;5;28;01mreturn\u001b[39;00m [coeff], [], order_symbols\n",
      "File \u001b[1;32mc:\\Users\\uamen\\AppData\\Local\\Programs\\Python\\Python311\\Lib\\site-packages\\sympy\\core\\mul.py:689\u001b[0m, in \u001b[0;36m<genexpr>\u001b[1;34m(.0)\u001b[0m\n\u001b[0;32m    687\u001b[0m \u001b[38;5;28;01mif\u001b[39;00m \u001b[38;5;28many\u001b[39m(\u001b[38;5;28misinstance\u001b[39m(c, MatrixExpr) \u001b[38;5;28;01mfor\u001b[39;00m c \u001b[38;5;129;01min\u001b[39;00m nc_part):\n\u001b[0;32m    688\u001b[0m     \u001b[38;5;28;01mreturn\u001b[39;00m [coeff], nc_part, order_symbols\n\u001b[1;32m--> 689\u001b[0m \u001b[38;5;28;01mif\u001b[39;00m \u001b[38;5;28many\u001b[39m(\u001b[43mc\u001b[49m\u001b[38;5;241;43m.\u001b[39;49m\u001b[43mis_finite\u001b[49m \u001b[38;5;241m==\u001b[39m \u001b[38;5;28;01mFalse\u001b[39;00m \u001b[38;5;28;01mfor\u001b[39;00m c \u001b[38;5;129;01min\u001b[39;00m c_part):\n\u001b[0;32m    690\u001b[0m     \u001b[38;5;28;01mreturn\u001b[39;00m [S\u001b[38;5;241m.\u001b[39mNaN], [], order_symbols\n\u001b[0;32m    691\u001b[0m \u001b[38;5;28;01mreturn\u001b[39;00m [coeff], [], order_symbols\n",
      "File \u001b[1;32mc:\\Users\\uamen\\AppData\\Local\\Programs\\Python\\Python311\\Lib\\site-packages\\sympy\\core\\assumptions.py:503\u001b[0m, in \u001b[0;36mmake_property.<locals>.getit\u001b[1;34m(self)\u001b[0m\n\u001b[0;32m    501\u001b[0m \u001b[38;5;28;01mif\u001b[39;00m \u001b[38;5;28mself\u001b[39m\u001b[38;5;241m.\u001b[39m_assumptions \u001b[38;5;129;01mis\u001b[39;00m \u001b[38;5;28mself\u001b[39m\u001b[38;5;241m.\u001b[39mdefault_assumptions:\n\u001b[0;32m    502\u001b[0m     \u001b[38;5;28mself\u001b[39m\u001b[38;5;241m.\u001b[39m_assumptions \u001b[38;5;241m=\u001b[39m \u001b[38;5;28mself\u001b[39m\u001b[38;5;241m.\u001b[39mdefault_assumptions\u001b[38;5;241m.\u001b[39mcopy()\n\u001b[1;32m--> 503\u001b[0m \u001b[38;5;28;01mreturn\u001b[39;00m \u001b[43m_ask\u001b[49m\u001b[43m(\u001b[49m\u001b[43mfact\u001b[49m\u001b[43m,\u001b[49m\u001b[43m \u001b[49m\u001b[38;5;28;43mself\u001b[39;49m\u001b[43m)\u001b[49m\n",
      "File \u001b[1;32mc:\\Users\\uamen\\AppData\\Local\\Programs\\Python\\Python311\\Lib\\site-packages\\sympy\\core\\assumptions.py:559\u001b[0m, in \u001b[0;36m_ask\u001b[1;34m(fact, obj)\u001b[0m\n\u001b[0;32m    557\u001b[0m handler_i \u001b[38;5;241m=\u001b[39m handler_map\u001b[38;5;241m.\u001b[39mget(fact_i)\n\u001b[0;32m    558\u001b[0m \u001b[38;5;28;01mif\u001b[39;00m handler_i \u001b[38;5;129;01mis\u001b[39;00m \u001b[38;5;129;01mnot\u001b[39;00m \u001b[38;5;28;01mNone\u001b[39;00m:\n\u001b[1;32m--> 559\u001b[0m     fact_i_value \u001b[38;5;241m=\u001b[39m \u001b[43mhandler_i\u001b[49m\u001b[43m(\u001b[49m\u001b[43mobj\u001b[49m\u001b[43m)\u001b[49m\n\u001b[0;32m    561\u001b[0m \u001b[38;5;66;03m# If we get a new value for fact_i then we should update our knowledge\u001b[39;00m\n\u001b[0;32m    562\u001b[0m \u001b[38;5;66;03m# of fact_i as well as any related facts that can be inferred using the\u001b[39;00m\n\u001b[0;32m    563\u001b[0m \u001b[38;5;66;03m# inference rules connecting the fact_i and any other fact values that\u001b[39;00m\n\u001b[0;32m    564\u001b[0m \u001b[38;5;66;03m# are already known.\u001b[39;00m\n\u001b[0;32m    565\u001b[0m \u001b[38;5;28;01mif\u001b[39;00m fact_i_value \u001b[38;5;129;01mis\u001b[39;00m \u001b[38;5;129;01mnot\u001b[39;00m \u001b[38;5;28;01mNone\u001b[39;00m:\n",
      "File \u001b[1;32mc:\\Users\\uamen\\AppData\\Local\\Programs\\Python\\Python311\\Lib\\site-packages\\sympy\\functions\\elementary\\exponential.py:909\u001b[0m, in \u001b[0;36mlog._eval_is_rational\u001b[1;34m(self)\u001b[0m\n\u001b[0;32m    907\u001b[0m s \u001b[38;5;241m=\u001b[39m \u001b[38;5;28mself\u001b[39m\u001b[38;5;241m.\u001b[39mfunc(\u001b[38;5;241m*\u001b[39m\u001b[38;5;28mself\u001b[39m\u001b[38;5;241m.\u001b[39margs)\n\u001b[0;32m    908\u001b[0m \u001b[38;5;28;01mif\u001b[39;00m s\u001b[38;5;241m.\u001b[39mfunc \u001b[38;5;241m==\u001b[39m \u001b[38;5;28mself\u001b[39m\u001b[38;5;241m.\u001b[39mfunc:\n\u001b[1;32m--> 909\u001b[0m     \u001b[38;5;28;01mif\u001b[39;00m \u001b[43m(\u001b[49m\u001b[38;5;28;43mself\u001b[39;49m\u001b[38;5;241;43m.\u001b[39;49m\u001b[43margs\u001b[49m\u001b[43m[\u001b[49m\u001b[38;5;241;43m0\u001b[39;49m\u001b[43m]\u001b[49m\u001b[43m \u001b[49m\u001b[38;5;241;43m-\u001b[39;49m\u001b[43m \u001b[49m\u001b[38;5;241;43m1\u001b[39;49m\u001b[43m)\u001b[49m\u001b[38;5;241;43m.\u001b[39;49m\u001b[43mis_zero\u001b[49m:\n\u001b[0;32m    910\u001b[0m         \u001b[38;5;28;01mreturn\u001b[39;00m \u001b[38;5;28;01mTrue\u001b[39;00m\n\u001b[0;32m    911\u001b[0m     \u001b[38;5;28;01mif\u001b[39;00m s\u001b[38;5;241m.\u001b[39margs[\u001b[38;5;241m0\u001b[39m]\u001b[38;5;241m.\u001b[39mis_rational \u001b[38;5;129;01mand\u001b[39;00m fuzzy_not((\u001b[38;5;28mself\u001b[39m\u001b[38;5;241m.\u001b[39margs[\u001b[38;5;241m0\u001b[39m] \u001b[38;5;241m-\u001b[39m \u001b[38;5;241m1\u001b[39m)\u001b[38;5;241m.\u001b[39mis_zero):\n",
      "File \u001b[1;32mc:\\Users\\uamen\\AppData\\Local\\Programs\\Python\\Python311\\Lib\\site-packages\\sympy\\core\\assumptions.py:503\u001b[0m, in \u001b[0;36mmake_property.<locals>.getit\u001b[1;34m(self)\u001b[0m\n\u001b[0;32m    501\u001b[0m \u001b[38;5;28;01mif\u001b[39;00m \u001b[38;5;28mself\u001b[39m\u001b[38;5;241m.\u001b[39m_assumptions \u001b[38;5;129;01mis\u001b[39;00m \u001b[38;5;28mself\u001b[39m\u001b[38;5;241m.\u001b[39mdefault_assumptions:\n\u001b[0;32m    502\u001b[0m     \u001b[38;5;28mself\u001b[39m\u001b[38;5;241m.\u001b[39m_assumptions \u001b[38;5;241m=\u001b[39m \u001b[38;5;28mself\u001b[39m\u001b[38;5;241m.\u001b[39mdefault_assumptions\u001b[38;5;241m.\u001b[39mcopy()\n\u001b[1;32m--> 503\u001b[0m \u001b[38;5;28;01mreturn\u001b[39;00m \u001b[43m_ask\u001b[49m\u001b[43m(\u001b[49m\u001b[43mfact\u001b[49m\u001b[43m,\u001b[49m\u001b[43m \u001b[49m\u001b[38;5;28;43mself\u001b[39;49m\u001b[43m)\u001b[49m\n",
      "File \u001b[1;32mc:\\Users\\uamen\\AppData\\Local\\Programs\\Python\\Python311\\Lib\\site-packages\\sympy\\core\\assumptions.py:559\u001b[0m, in \u001b[0;36m_ask\u001b[1;34m(fact, obj)\u001b[0m\n\u001b[0;32m    557\u001b[0m handler_i \u001b[38;5;241m=\u001b[39m handler_map\u001b[38;5;241m.\u001b[39mget(fact_i)\n\u001b[0;32m    558\u001b[0m \u001b[38;5;28;01mif\u001b[39;00m handler_i \u001b[38;5;129;01mis\u001b[39;00m \u001b[38;5;129;01mnot\u001b[39;00m \u001b[38;5;28;01mNone\u001b[39;00m:\n\u001b[1;32m--> 559\u001b[0m     fact_i_value \u001b[38;5;241m=\u001b[39m \u001b[43mhandler_i\u001b[49m\u001b[43m(\u001b[49m\u001b[43mobj\u001b[49m\u001b[43m)\u001b[49m\n\u001b[0;32m    561\u001b[0m \u001b[38;5;66;03m# If we get a new value for fact_i then we should update our knowledge\u001b[39;00m\n\u001b[0;32m    562\u001b[0m \u001b[38;5;66;03m# of fact_i as well as any related facts that can be inferred using the\u001b[39;00m\n\u001b[0;32m    563\u001b[0m \u001b[38;5;66;03m# inference rules connecting the fact_i and any other fact values that\u001b[39;00m\n\u001b[0;32m    564\u001b[0m \u001b[38;5;66;03m# are already known.\u001b[39;00m\n\u001b[0;32m    565\u001b[0m \u001b[38;5;28;01mif\u001b[39;00m fact_i_value \u001b[38;5;129;01mis\u001b[39;00m \u001b[38;5;129;01mnot\u001b[39;00m \u001b[38;5;28;01mNone\u001b[39;00m:\n",
      "File \u001b[1;32mc:\\Users\\uamen\\AppData\\Local\\Programs\\Python\\Python311\\Lib\\site-packages\\sympy\\core\\add.py:779\u001b[0m, in \u001b[0;36mAdd._eval_is_extended_positive\u001b[1;34m(self)\u001b[0m\n\u001b[0;32m    777\u001b[0m \u001b[38;5;28;01mif\u001b[39;00m \u001b[38;5;129;01mnot\u001b[39;00m c\u001b[38;5;241m.\u001b[39mis_zero:\n\u001b[0;32m    778\u001b[0m     \u001b[38;5;28;01mfrom\u001b[39;00m \u001b[38;5;21;01m.\u001b[39;00m\u001b[38;5;21;01mexprtools\u001b[39;00m \u001b[38;5;28;01mimport\u001b[39;00m _monotonic_sign\n\u001b[1;32m--> 779\u001b[0m     v \u001b[38;5;241m=\u001b[39m \u001b[43m_monotonic_sign\u001b[49m\u001b[43m(\u001b[49m\u001b[43ma\u001b[49m\u001b[43m)\u001b[49m\n\u001b[0;32m    780\u001b[0m     \u001b[38;5;28;01mif\u001b[39;00m v \u001b[38;5;129;01mis\u001b[39;00m \u001b[38;5;129;01mnot\u001b[39;00m \u001b[38;5;28;01mNone\u001b[39;00m:\n\u001b[0;32m    781\u001b[0m         s \u001b[38;5;241m=\u001b[39m v \u001b[38;5;241m+\u001b[39m c\n",
      "File \u001b[1;32mc:\\Users\\uamen\\AppData\\Local\\Programs\\Python\\Python311\\Lib\\site-packages\\sympy\\core\\exprtools.py:69\u001b[0m, in \u001b[0;36m_monotonic_sign\u001b[1;34m(self)\u001b[0m\n\u001b[0;32m     32\u001b[0m \u001b[38;5;28;01mdef\u001b[39;00m \u001b[38;5;21m_monotonic_sign\u001b[39m(\u001b[38;5;28mself\u001b[39m):\n\u001b[0;32m     33\u001b[0m \u001b[38;5;250m    \u001b[39m\u001b[38;5;124;03m\"\"\"Return the value closest to 0 that ``self`` may have if all symbols\u001b[39;00m\n\u001b[0;32m     34\u001b[0m \u001b[38;5;124;03m    are signed and the result is uniformly the same sign for all values of symbols.\u001b[39;00m\n\u001b[0;32m     35\u001b[0m \u001b[38;5;124;03m    If a symbol is only signed but not known to be an\u001b[39;00m\n\u001b[1;32m   (...)\u001b[0m\n\u001b[0;32m     67\u001b[0m \u001b[38;5;124;03m    >>> F(nn - 1)  # could be negative, zero or positive\u001b[39;00m\n\u001b[0;32m     68\u001b[0m \u001b[38;5;124;03m    \"\"\"\u001b[39;00m\n\u001b[1;32m---> 69\u001b[0m     \u001b[38;5;28;01mif\u001b[39;00m \u001b[38;5;129;01mnot\u001b[39;00m \u001b[38;5;28;43mself\u001b[39;49m\u001b[38;5;241;43m.\u001b[39;49m\u001b[43mis_extended_real\u001b[49m:\n\u001b[0;32m     70\u001b[0m         \u001b[38;5;28;01mreturn\u001b[39;00m\n\u001b[0;32m     72\u001b[0m     \u001b[38;5;28;01mif\u001b[39;00m (\u001b[38;5;241m-\u001b[39m\u001b[38;5;28mself\u001b[39m)\u001b[38;5;241m.\u001b[39mis_Symbol:\n",
      "File \u001b[1;32mc:\\Users\\uamen\\AppData\\Local\\Programs\\Python\\Python311\\Lib\\site-packages\\sympy\\core\\assumptions.py:503\u001b[0m, in \u001b[0;36mmake_property.<locals>.getit\u001b[1;34m(self)\u001b[0m\n\u001b[0;32m    501\u001b[0m \u001b[38;5;28;01mif\u001b[39;00m \u001b[38;5;28mself\u001b[39m\u001b[38;5;241m.\u001b[39m_assumptions \u001b[38;5;129;01mis\u001b[39;00m \u001b[38;5;28mself\u001b[39m\u001b[38;5;241m.\u001b[39mdefault_assumptions:\n\u001b[0;32m    502\u001b[0m     \u001b[38;5;28mself\u001b[39m\u001b[38;5;241m.\u001b[39m_assumptions \u001b[38;5;241m=\u001b[39m \u001b[38;5;28mself\u001b[39m\u001b[38;5;241m.\u001b[39mdefault_assumptions\u001b[38;5;241m.\u001b[39mcopy()\n\u001b[1;32m--> 503\u001b[0m \u001b[38;5;28;01mreturn\u001b[39;00m \u001b[43m_ask\u001b[49m\u001b[43m(\u001b[49m\u001b[43mfact\u001b[49m\u001b[43m,\u001b[49m\u001b[43m \u001b[49m\u001b[38;5;28;43mself\u001b[39;49m\u001b[43m)\u001b[49m\n",
      "File \u001b[1;32mc:\\Users\\uamen\\AppData\\Local\\Programs\\Python\\Python311\\Lib\\site-packages\\sympy\\core\\assumptions.py:559\u001b[0m, in \u001b[0;36m_ask\u001b[1;34m(fact, obj)\u001b[0m\n\u001b[0;32m    557\u001b[0m handler_i \u001b[38;5;241m=\u001b[39m handler_map\u001b[38;5;241m.\u001b[39mget(fact_i)\n\u001b[0;32m    558\u001b[0m \u001b[38;5;28;01mif\u001b[39;00m handler_i \u001b[38;5;129;01mis\u001b[39;00m \u001b[38;5;129;01mnot\u001b[39;00m \u001b[38;5;28;01mNone\u001b[39;00m:\n\u001b[1;32m--> 559\u001b[0m     fact_i_value \u001b[38;5;241m=\u001b[39m \u001b[43mhandler_i\u001b[49m\u001b[43m(\u001b[49m\u001b[43mobj\u001b[49m\u001b[43m)\u001b[49m\n\u001b[0;32m    561\u001b[0m \u001b[38;5;66;03m# If we get a new value for fact_i then we should update our knowledge\u001b[39;00m\n\u001b[0;32m    562\u001b[0m \u001b[38;5;66;03m# of fact_i as well as any related facts that can be inferred using the\u001b[39;00m\n\u001b[0;32m    563\u001b[0m \u001b[38;5;66;03m# inference rules connecting the fact_i and any other fact values that\u001b[39;00m\n\u001b[0;32m    564\u001b[0m \u001b[38;5;66;03m# are already known.\u001b[39;00m\n\u001b[0;32m    565\u001b[0m \u001b[38;5;28;01mif\u001b[39;00m fact_i_value \u001b[38;5;129;01mis\u001b[39;00m \u001b[38;5;129;01mnot\u001b[39;00m \u001b[38;5;28;01mNone\u001b[39;00m:\n",
      "File \u001b[1;32mc:\\Users\\uamen\\AppData\\Local\\Programs\\Python\\Python311\\Lib\\site-packages\\sympy\\core\\add.py:890\u001b[0m, in \u001b[0;36mAdd._eval_is_extended_negative\u001b[1;34m(self)\u001b[0m\n\u001b[0;32m    888\u001b[0m     nonpos \u001b[38;5;241m=\u001b[39m \u001b[38;5;28;01mTrue\u001b[39;00m\n\u001b[0;32m    889\u001b[0m     \u001b[38;5;28;01mcontinue\u001b[39;00m\n\u001b[1;32m--> 890\u001b[0m \u001b[38;5;28;01melif\u001b[39;00m \u001b[43ma\u001b[49m\u001b[38;5;241;43m.\u001b[39;49m\u001b[43mis_extended_nonnegative\u001b[49m:\n\u001b[0;32m    891\u001b[0m     nonneg \u001b[38;5;241m=\u001b[39m \u001b[38;5;28;01mTrue\u001b[39;00m\n\u001b[0;32m    892\u001b[0m     \u001b[38;5;28;01mcontinue\u001b[39;00m\n",
      "File \u001b[1;32mc:\\Users\\uamen\\AppData\\Local\\Programs\\Python\\Python311\\Lib\\site-packages\\sympy\\core\\assumptions.py:497\u001b[0m, in \u001b[0;36mmake_property.<locals>.getit\u001b[1;34m(self)\u001b[0m\n\u001b[0;32m    494\u001b[0m \u001b[38;5;28;01mdef\u001b[39;00m \u001b[38;5;21mmake_property\u001b[39m(fact):\n\u001b[0;32m    495\u001b[0m \u001b[38;5;250m    \u001b[39m\u001b[38;5;124;03m\"\"\"Create the automagic property corresponding to a fact.\"\"\"\u001b[39;00m\n\u001b[1;32m--> 497\u001b[0m     \u001b[38;5;28;01mdef\u001b[39;00m \u001b[38;5;21mgetit\u001b[39m(\u001b[38;5;28mself\u001b[39m):\n\u001b[0;32m    498\u001b[0m         \u001b[38;5;28;01mtry\u001b[39;00m:\n\u001b[0;32m    499\u001b[0m             \u001b[38;5;28;01mreturn\u001b[39;00m \u001b[38;5;28mself\u001b[39m\u001b[38;5;241m.\u001b[39m_assumptions[fact]\n",
      "\u001b[1;31mKeyboardInterrupt\u001b[0m: "
     ]
    }
   ],
   "source": [
    "######### NO INPUT SIMULATION WITH HEEL STRIKE IMPACT #########\n",
    "\n",
    "step_number = 2                             # Define number of desired steps to be simulated\n",
    "\n",
    "# Initial conditions for first step\n",
    "q0 = q_0\n",
    "dq0 = np.array([0, 0, 0, 0, 0])\n",
    "x0 = np.hstack([q0, dq0])\n",
    "x = x0\n",
    "\n",
    "############################ ERROR ############################\n",
    "##### Value for x0 is changing when is called by function #####\n",
    "##### When x0 is defined above, values are as indicated   #####\n",
    "##### When called by the function, x0 changes slightly    #####\n",
    "\n",
    "solving_time = [0, 1, 0.02]                 # Time interval = [Starting time, Ending Time, Step Size]\n",
    "u = ControlledInputs([0,0,0,0,0])           # Inputs\n",
    "i = 0                                       # Initialize step counter\n",
    "\n",
    "while i <= step_number:\n",
    "    # Call solver\n",
    "    q_sim, dq_sim, t_array, bodypos = RK45_solver_v2(solving_time, x, u, M, C, joint_order)\n",
    "    pos_x_1_sim, pos_y_1_sim = sim_pos(q_sim[-1, :], joint_order)\n",
    "    plot(pos_y_1_sim, pos_x_1_sim)  \n",
    "\n",
    "    # When solver has finished, it means free foot has touched the ground, so matrices must be changed\n",
    "    qplus, dqplus, Mplus, Cplus, jointplus = change_of_leg(q_sim, dq_sim, M, C, joint_order)\n",
    "\n",
    "    # Next state\n",
    "    x = np.hstack([qplus, dqplus])\n",
    "\n",
    "    # New matrices with coordinate change\n",
    "    M = Mplus\n",
    "    C = Cplus\n",
    "\n",
    "    # Stack values if it is not the first step (i < 0)\n",
    "    if i > 0:\n",
    "        q_sim_acc = np.vstack([q_sim_acc, q_sim])\n",
    "        dq_sim_acc = np.vstack([dq_sim_acc, dq_sim])\n",
    "        t_array_acc = np.hstack([t_array_acc, (t_array + t_array_acc[-1])])\n",
    "        last_pos_x = body_x_acc[-1]\n",
    "        body_x_acc = np.vstack([body_x_acc, bodypos[0] + last_pos_x[-1]])\n",
    "        body_y_acc = np.vstack([body_y_acc, bodypos[1]])\n",
    "    else:\n",
    "        q_sim_acc = q_sim\n",
    "        dq_sim_acc = dq_sim\n",
    "        t_array_acc = t_array\n",
    "        body_x_acc = bodypos[0]\n",
    "        body_y_acc = bodypos[1]\n",
    "\n",
    "    # Add step\n",
    "    i = i + 1\n",
    "\n",
    "last_x = body_x_acc[-1]\n",
    "body_x_corrected = last_x - last_x[-1]      # Correction of last position of the body\n",
    "\n",
    "# Save values in external files\n",
    "np.save('q.npy', q_sim_acc)\n",
    "np.save('dq.npy', dq_sim_acc)\n",
    "np.save('time.npy', t_array_acc)\n",
    "np.save('body_position_x.npy', body_x_acc)\n",
    "np.save('body_position_y.npy', body_y_acc)"
   ]
  },
  {
   "cell_type": "code",
   "execution_count": null,
   "metadata": {},
   "outputs": [
    {
     "data": {
      "image/png": "[encoded data removed]",
      "text/plain": [
       "<Figure size 640x480 with 2 Axes>"
      ]
     },
     "metadata": {},
     "output_type": "display_data"
    },
    {
     "name": "stderr",
     "output_type": "stream",
     "text": [
      "MovieWriter ffmpeg unavailable; using Pillow instead.\n"
     ]
    }
   ],
   "source": [
    "# Animate resulting body\n",
    "animate_pendulum(t_array_acc, body_x_acc, body_y_acc, q_sim_acc, length)"
   ]
  }
 ],
 "metadata": {
  "kernelspec": {
   "display_name": ".venv",
   "language": "python",
   "name": "python3"
  },
  "language_info": {
   "codemirror_mode": {
    "name": "ipython",
    "version": 3
   },
   "file_extension": ".py",
   "mimetype": "text/x-python",
   "name": "python",
   "nbconvert_exporter": "python",
   "pygments_lexer": "ipython3",
   "version": "3.11.8"
  }
 },
 "nbformat": 4,
 "nbformat_minor": 2
}
